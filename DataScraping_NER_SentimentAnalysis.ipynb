{
 "cells": [
  {
   "cell_type": "markdown",
   "metadata": {},
   "source": [
    "# Data retrieval"
   ]
  },
  {
   "cell_type": "code",
   "execution_count": 9,
   "metadata": {},
   "outputs": [],
   "source": [
    "import requests\n",
    "from bs4 import BeautifulSoup\n",
    "import pandas as pd\n",
    "import numpy as np\n",
    "import matplotlib.pyplot as plt\n",
    "import seaborn as sns\n",
    "import os\n",
    "\n",
    "%matplotlib inline"
   ]
  },
  {
   "cell_type": "code",
   "execution_count": 10,
   "metadata": {},
   "outputs": [],
   "source": [
    "url = 'https://inshorts.com/en/read/sports'"
   ]
  },
  {
   "cell_type": "code",
   "execution_count": 11,
   "metadata": {},
   "outputs": [],
   "source": [
    "news_data = []"
   ]
  },
  {
   "cell_type": "code",
   "execution_count": 12,
   "metadata": {},
   "outputs": [
    {
     "data": {
      "text/plain": [
       "['https:', '', 'inshorts.com', 'en', 'read', 'sports']"
      ]
     },
     "execution_count": 12,
     "metadata": {},
     "output_type": "execute_result"
    }
   ],
   "source": [
    "news_category = url.split('/')\n",
    "news_category"
   ]
  },
  {
   "cell_type": "code",
   "execution_count": 13,
   "metadata": {},
   "outputs": [],
   "source": [
    "news_category = news_category[-1]"
   ]
  },
  {
   "cell_type": "code",
   "execution_count": 14,
   "metadata": {},
   "outputs": [
    {
     "data": {
      "text/plain": [
       "b'<!doctype html><html lang=\"en\"><head><meta charset=\"utf-8\"/><title>Short English & Hindi News|Latest News, India News, Current Affairs|Inshorts</title><link rel=\"dns-prefetch\" href=\"https://ajax.googleapis.com\"><link rel=\"dns-prefetch\" href=\"https://assets.inshorts.com\"><link rel=\"dns-prefetch\" href=\"https://static.inshorts.com\"><link rel=\"dns-prefetch\" href=\"https://cdn.ampproject.org\"><meta name=\"theme-color\" content=\"#ffffff\"><link rel=\"shortcut icon\" href=\"/assets/images/favicon.png\" type=\"image/x-icon\"/><meta http-equiv=\"Content-Type\" content=\"text/html; charset=UTF-8\"/><meta name=\"viewport\" content=\"width=device-width,initial-scale=1\"/><meta http-equiv=\"X-UA-Compatible\" content=\"IE=edge\"/><link rel=\"icon\" sizes=\"192x192\" href=\"/assets/images/logo_192.png\"/><link href=\"https://inshorts.com\" rel=\"canonical\" />\\n    <link href=\"https://inshorts.com\" rel=\"alternate\"/>\\n    <meta name=\"description\" content=\"read latest news with inshorts in less than 60 words related to business sports bollywood and technology in india and around the world in both english  hindi\"/>\\n\\n    <meta name=\"twitter:card\" content=\"summary_large_image\"/>\\n    <meta name=\"twitter:site\" content=\"@inshorts\"/>\\n    <meta name=\"twitter:creator\" content=\"@inshorts\"/>\\n    <meta name=\"twitter:title\" content=\"Short English & Hindi News|Latest News, India News, Current Affairs|Inshorts\"/>\\n    <meta name=\"twitter:description\" content=\"read latest news with inshorts in less than 60 words related to business sports bollywood and technology in india and around the world in both english  hindi\"/>\\n    <meta name=\"twitter:image\" content=\"https://inshorts.com/assets/images/favicon.png\"/>\\n\\n    <head prefix=\"og: http://ogp.me/ns# fb: http://ogp.me/ns/fb# news-in-shorts: http://ogp.me/ns/fb/news-in-shorts#\">\\n    <meta property=\"og:type\" content=\"news-in-shorts:short\">\\n    <meta property=\"fb:app_id\" content=\"168662373317120\" /> \\n    <meta property=\"og:site_name\" content=\"Inshorts - Stay Informed\"/>\\n    <meta property=\"og:url\" content=\"https://inshorts.com\" /> \\n    <meta property=\"og:title\" content=\"Short English & Hindi News|Latest News, India News, Current Affairs|Inshorts\"/>\\n    <meta property=\"og:image\" content=\"https://inshorts.com/assets/images/favicon.png\" /> \\n    <meta property=\"og:description\" content=\"read latest news with inshorts in less than 60 words related to business sports bollywood and technology in india and around the world in both english  hindi\" />\\n    <meta property=\"og:updated_time\" content=\"1697390483614\" />\\n    <meta property=\"og:rich_attachment\" content=\"true\" />\\n    <meta property=\"al:web:should_fallback\" content=\"true\" />\\n\\n    <meta property=\"al:ios:url\" content=\"nis://\" />\\n    <meta property=\"al:ios:app_store_id\" content=\"892146527\" />\\n    <meta property=\"al:ios:app_name\" content=\"Inshorts - Stay Informed\" />\\n\\n    <meta property=\"al:iphone:url\" content=\"nis://\" />\\n    <meta property=\"al:iphone:app_store_id\" content=\"892146527\" />\\n    <meta property=\"al:iphone:app_name\" content=\"Inshorts - Stay Informed\" />\\n\\n    <meta property=\"al:ipad:url\" content=\"nis://\" />\\n    <meta property=\"al:ipad:app_store_id\" content=\"892146527\" />\\n    <meta property=\"al:ipad:app_name\" content=\"Inshorts - Stay Informed\" />\\n\\n    <meta property=\"al:android:url\" content=\"nis://\" />\\n    <meta property=\"al:android:package\" content=\"com.nis.app\" />\\n    <meta property=\"al:android:app_name\" content=\"Inshorts - Stay Informed\" /><meta name=\"apple-itunes-app\" content=\"app-id=892146527\"><meta name=\"google-play-app\" content=\"app-id=com.nis.app\"><meta name=\"mobile-web-app-capable\" content=\"yes\"><meta name=\"application-name\" content=\"inshorts\"><meta name=\"apple-mobile-web-app-capable\" content=\"yes\"><meta name=\"apple-mobile-web-app-status-bar-style\" content=\"#424242\"><meta name=\"apple-mobile-web-app-title\" content=\"inshorts\"><link rel=\"apple-touch-icon\" href=\"https://assets.inshorts.com/website_assets/images/favicon.png\"><meta name=\"msapplication-TileImage\" content=\"fav/favicon.png\"><meta name=\"msapplication-TileColor\" content=\"#424242\"><meta name=\"theme-color\" content=\"#424242\"><meta http-equiv=\"content-type\" content=\"text/html; charset=UTF-8\"/><meta name=\"msapplication-navbutton-color\" content=\"#424242\"><meta name=\"apple-mobile-web-app-status-bar-style\" content=\"#424242\"><link rel=\"apple-touch-startup-image\" href=\"https://assets.inshorts.com/website_assets/images/favicon.png\"><meta name=\"apple-mobile-web-app-status-bar-style\" content=\"black-translucent\"><script>if (window.addEventListener) {\\n        window.addEventListener(\\'load\\', loadThirdPartyScript, false);\\n    } else if (window.attachEvent) {\\n        window.attachEvent(\\'onload\\', loadThirdPartyScript);\\n    }\\n\\n    function loadThirdPartyScript() {\\n\\n      // Mix panel script\\n      (function (f, b) {\\n      if (!b.__SV) {\\n        var e, g, i, h; window.mixpanel = b; b._i = []; b.init = function (e, f, c) {\\n          function g(a, d) { var b = d.split(\".\"); 2 == b.length && (a = a[b[0]], d = b[1]); a[d] = function () { a.push([d].concat(Array.prototype.slice.call(arguments, 0))) } } var a = b; \"undefined\" !== typeof c ? a = b[c] = [] : c = \"mixpanel\"; a.people = a.people || []; a.toString = function (a) { var d = \"mixpanel\"; \"mixpanel\" !== c && (d += \".\" + c); a || (d += \" (stub)\"); return d }; a.people.toString = function () { return a.toString(1) + \".people (stub)\" }; i = \"disable time_event track track_pageview track_links track_forms track_with_groups add_group set_group remove_group register register_once alias unregister identify name_tag set_config reset opt_in_tracking opt_out_tracking has_opted_in_tracking has_opted_out_tracking clear_opt_in_out_tracking start_batch_senders people.set people.set_once people.unset people.increment people.append people.union people.track_charge people.clear_charges people.delete_user people.remove\".split(\" \");\\n          for (h = 0; h < i.length; h++)g(a, i[h]); var j = \"set set_once union unset remove delete\".split(\" \"); a.get_group = function () { function b(c) { d[c] = function () { call2_args = arguments; call2 = [c].concat(Array.prototype.slice.call(call2_args, 0)); a.push([e, call2]) } } for (var d = {}, e = [\"get_group\"].concat(Array.prototype.slice.call(arguments, 0)), c = 0; c < j.length; c++)b(j[c]); return d }; b._i.push([e, f, c])\\n        }; b.__SV = 1.2; e = f.createElement(\"script\"); e.type = \"text/javascript\"; e.async = !0; e.src = \"undefined\" !== typeof MIXPANEL_CUSTOM_LIB_URL ?\\n          MIXPANEL_CUSTOM_LIB_URL : \"file:\" === f.location.protocol && \"//cdn.mxpnl.com/libs/mixpanel-2-latest.min.js\".match(/^\\\\/\\\\//) ? \"https://cdn.mxpnl.com/libs/mixpanel-2-latest.min.js\" : \"//cdn.mxpnl.com/libs/mixpanel-2-latest.min.js\"; g = f.getElementsByTagName(\"script\")[0]; g.parentNode.insertBefore(e, g)\\n      }\\n    })(document, window.mixpanel || []);\\n    mixpanel.init(\"a99a1037068944b00a0cc8ee56c94e8c\")\\n    // mixpanel.track(\"pageview\")\\n\\n    }</script><script async src=\"https://www.googletagmanager.com/gtag/js?id=G-L7P7D50590\"></script><script>window.dataLayer = window.dataLayer || [];\\n  function gtag(){dataLayer.push(arguments);}\\n  gtag(\\'js\\', new Date());\\n\\n  gtag(\\'config\\', \\'G-L7P7D50590\\');</script><script>gtag(\\'set\\', \\'dimension2\\', \\'online\\');\\n    gtag(\\'set\\', \\'dimension3\\', \\'pwa\\');\\n    gtag(\\'event\\', \\'screen_view\\');</script><script>// FB pixel script\\n    window.fbAsyncInit = function () {\\n        FB.init({\\n          appId: \\'168662373317120\\',\\n          xfbml: true,\\n          version: \\'v5.0\\'\\n        });\\n\\n        FB.AppEvents.logPageView();\\n      };\\n\\n      (function (d, s, id) {\\n        var js, fjs = d.getElementsByTagName(s)[0];\\n        if (d.getElementById(id)) { return; }\\n        js = d.createElement(s); js.id = id;\\n        js.src = \"https://connect.facebook.net/en_US/sdk.js\";\\n        fjs.parentNode.insertBefore(js, fjs);\\n      }(document, \\'script\\', \\'facebook-jssdk\\'));\\n\\n        !function (f, b, e, v, n, t, s) {\\n        if (f.fbq) return; n = f.fbq = function () {\\n          n.callMethod ?\\n          n.callMethod.apply(n, arguments) : n.queue.push(arguments)\\n        };\\n        if (!f._fbq) f._fbq = n; n.push = n; n.loaded = !0; n.version = \\'2.0\\';\\n        n.queue = []; t = b.createElement(e); t.async = !0;\\n        t.src = v; s = b.getElementsByTagName(e)[0];\\n        s.parentNode.insertBefore(t, s)\\n      }(window, document, \\'script\\',\\n        \\'https://connect.facebook.net/en_US/fbevents.js\\');\\n      fbq(\\'init\\', \\'822966517773327\\');\\n      fbq(\\'track\\', \\'PageView\\');</script><noscript><img height=\"1\" width=\"1\" style=\"display:none\" src=\"https://www.facebook.com/tr?id=822966517773327&ev=PageView&noscript=1\"/></noscript><link rel=\"manifest\" href=\"/assets/public/scripts/desktop_manifest.json\"><style>.RldBWJngcN6Iwyi72FUw{border:1px solid rgba(0,0,0,.1);border-radius:12px;display:flex;flex-direction:column;margin:10px;max-height:100vh;position:relative;user-select:none;width:calc(100% - 20px)}.uUoOUTxdtu8JMaD9l6oJ{background-color:#ccc;background-position:50%;background-size:cover;border-radius:11px 11px 0 0;height:34.5vh;margin:0;width:100%}.Xz13pAPKixHzVMbfuOag{display:none}.He62jlfoUc7Hs5c2ohWB{font-size:.9rem;font-weight:100;margin:0}.pP1SbCLUoSb1UYFfDiNM{color:#161616;font-family:Roboto;font-size:1rem;font-weight:400;line-height:1.3rem;margin:20px 5% 6px;opacity:.9;width:90%}.E6tRV_QxHh0gsgQQhaKg{color:#369af8!important}.DAYHB_7M6mqk7njM7WXl{color:#585858;font-family:Roboto;font-size:.9rem;font-weight:300;line-height:1.35rem;margin:0 5%;opacity:.8;width:90%}.Ds0nv7Te20SisIpHLmqT{color:#c7c7c7;font-family:Roboto;font-size:.7rem;font-weight:400;margin-top:6px}.lFaPO6rUcchEaTMzGocD:before{content:\"\";-webkit-filter:blur(5px);-moz-filter:blur(5px);-o-filter:blur(5px);-ms-filter:blur(5px);filter:blur(5px);z-index:-1}.EonwMpOGSUmDPr5zB_fJ{border-radius:0 0 11px 11px;height:60px;margin-top:30px;overflow:hidden;position:relative}.lFaPO6rUcchEaTMzGocD{background-color:#000;height:60px;width:100%;z-index:1}.cc9WRpIFuLJvysU7cBj9{background-position:50%;background-repeat:no-repeat;background-size:cover;filter:blur(13px);height:60px;width:100%}.y5KnUeNaaV2t_iEgoGQw{display:flex;flex-direction:column;justify-content:center;position:absolute;top:10px;width:100%}.URyrF0QOEYrOmipwqWSn{font-size:.75rem;padding:0 5% 2px}.URyrF0QOEYrOmipwqWSn,._3DphrNBbwC_q8YSAh9gk{color:#fff;font-family:Roboto;font-weight:400}._3DphrNBbwC_q8YSAh9gk{font-size:.6rem;opacity:.8;padding:0 5%}.bgx0A3LOwj5p6LMVGEYq{background:#fff;border-top:.5px solid #efefef;bottom:0;display:flex;height:59.5px;justify-content:space-evenly;position:absolute;transform:translateY(0);transition:transform .2s ease-in;visibility:visible;width:100%;z-index:4}.pWK3_pTYWsNS6XhubhYX{border-top:0;transform:translateY(60px)}.KtTFA6qf8cXqpaFSPnmw{align-content:center;display:flex;flex-direction:column;font-size:.7rem;justify-content:space-evenly;padding:5px 0 0;width:20vw}.NknkMmOTgLmHs5AGjquF{stroke:#369af8;height:20px;margin:auto;width:20px}.iphWipBeYFtIIjTj6Cb5{height:21px;width:21px}.p9yyYz9BMqyuRbs0vT1V{fill:#369af8}.CkQc__2_S8Z9Swh_s3fn{font-family:Roboto;font-size:11px;font-weight:300;margin:auto;opacity:.8}.T4oNBhgaIDwOBesQ4BFR{display:flex;flex-direction:column;height:100%;justify-content:flex-end}.T4oNBhgaIDwOBesQ4BFR iframe{border:none;bottom:0;height:calc(100vh - 40px);width:100%}.jayzE3iX8AJrkvGWOX1d{display:flex;flex-direction:column;height:100%;margin:0 auto;position:relative;user-select:none;width:100%}.o7AvBqOUN6ybkzPpJGDC{background-color:#ccc;background-position:50%;background-size:cover;height:42vh;margin:0;width:100%}.l8NsraVLK9eZJEm43LJI{display:none}.M_PUckTEqIrDTLqqyavn{color:#161616;font-family:Roboto;font-size:1rem;font-weight:400;line-height:1.3rem;margin:12px 5% 6px;opacity:.9;width:90%}.PYF8idd0K8mzSpbQwdMN{color:#369af8!important}.o9L55WSH79oCrbvJC6eJ{color:#585858;font-family:Roboto;font-size:.9rem;font-weight:300;line-height:1.35rem;margin:0 5%;opacity:.8;width:90%}.b6FG6BeCLdt8B4WIXWJU{color:#c7c7c7;font-family:Roboto;font-size:.7rem;font-weight:400}.WLr4c2tLnLdSFaPf21nq:before{content:\"\";-webkit-filter:blur(5px);-moz-filter:blur(5px);-o-filter:blur(5px);-ms-filter:blur(5px);filter:blur(5px);z-index:-1}.N6uReEHDSanuIvbAg4P5{height:60px;margin-top:auto;overflow:hidden;position:relative}.WLr4c2tLnLdSFaPf21nq{background-color:#000;height:60px;width:100%;z-index:1}.MhmkODbiMHUwwoy_Jbm5{background-position:50%;background-repeat:no-repeat;background-size:cover;filter:blur(13px);height:60px;width:100%}.NkErjamRvu0A6SqGIZEg{display:flex;flex-direction:column;justify-content:center;position:absolute;top:10px;width:100%}.UwSvLhPQjcPJOS0SZraP{font-size:.75rem;padding:0 5% 2px}.UwSvLhPQjcPJOS0SZraP,.ZziYPFCYWWpK3xhtMRFE{color:#fff;font-family:Roboto;font-weight:400}.ZziYPFCYWWpK3xhtMRFE{font-size:.6rem;opacity:.8;padding:0 5%}.FMYopl_UAXiv0Xwhe30M{background:#fff;border-top:.5px solid #efefef;bottom:0;display:flex;height:60px;justify-content:space-evenly;position:absolute;transform:translateY(0);transition:transform .2s ease-in;visibility:visible;width:100%;z-index:4}.a2frXknH95WBHBEI16Ib{transform:translateY(60px)}.gFOKweBpz1TU0vFhWQgD{align-content:center;display:flex;flex-direction:column;font-size:.7rem;justify-content:space-evenly;padding:5px 0 0;width:20vw}.bP07Gwgfmvf8_s8ZO2qj{stroke:#369af8;height:20px;margin:auto;width:20px}.hQRJ5392rGXloiOFOocm{height:21px;width:21px}.OnxutmF5sr4a5Fc6rb7J{fill:#369af8}.z__P81oqwmpPmYfOGiwQ{font-family:Roboto;font-size:11px;font-weight:300;margin:auto;opacity:.8}.ufCqYl19J2Mk0QzbWUJY{display:flex;flex-direction:column;height:100%;justify-content:flex-end}.ufCqYl19J2Mk0QzbWUJY iframe{border:none;bottom:0;height:calc(100vh - 40px);width:100%}.Gv8N0LFXLh1zS6jNzMOr{display:flex;flex-direction:column;height:100%;margin:0 auto;position:relative;user-select:none;width:100%}.tWMQ28QcU5H_3skfT0EV{background-color:#ccc;background-position:50%;background-size:cover;height:42vh;margin:0;width:100%}.YkT1cX2OzWk0LaQ_WzzX{display:none}.wyn3JmuUmHfie3Oc96dn{color:#161616;font-family:Roboto;font-size:1rem;font-weight:400;line-height:1.3rem;margin:12px 5% 6px;opacity:.9;width:90%}.u3IlCFxqNSnIF4jw9Ii7{color:#369af8!important}.xa9un4OO8fu00p0G_wjV{color:#585858;font-family:Roboto;font-size:.9rem;font-weight:300;line-height:1.35rem;margin:0 5%;opacity:.8;width:90%}.duP9n9Vi_4AfUGJ70SpD{color:#c7c7c7;font-family:Roboto;font-size:.7rem;font-weight:400}.XYGyGCfxMGHwGC8od8z7:before{content:\"\";-webkit-filter:blur(5px);-moz-filter:blur(5px);-o-filter:blur(5px);-ms-filter:blur(5px);filter:blur(5px);z-index:-1}.cmgj2cy2FVdEiyoAhJgz{height:60px;margin-top:auto;overflow:hidden;position:relative}.XYGyGCfxMGHwGC8od8z7{background-color:#000;height:60px;width:100%;z-index:1}.cjuJcLqs4FsUYqgO40Go{background-position:50%;background-repeat:no-repeat;background-size:cover;filter:blur(13px);height:60px;width:100%}.hnNgAvPKcwoPxTJE0FbT{display:flex;flex-direction:column;justify-content:center;position:absolute;top:10px;width:100%}.VDbpzyWDpvSEzP9l2ucz{font-size:.75rem;padding:0 5% 2px}.CAiiQI8CS5TWY16Fwang,.VDbpzyWDpvSEzP9l2ucz{color:#fff;font-family:Roboto;font-weight:400}.CAiiQI8CS5TWY16Fwang{font-size:.6rem;opacity:.8;padding:0 5%}.AO8nPEqYKGHJCde4qZAw{background:#fff;border-top:.5px solid #efefef;bottom:0;display:flex;height:60px;justify-content:space-evenly;position:absolute;transform:translateY(0);transition:transform .2s ease-in;visibility:visible;width:100%;z-index:4}.vNriHGRUFvkpjTfmzPB6{transform:translateY(60px)}.aYP2iz2xwDFPozyTonHI{align-content:center;display:flex;flex-direction:column;font-size:.7rem;justify-content:space-evenly;padding:5px 0 0;width:20vw}.MUKEtUuqu9Il7YPmsDIs{stroke:#369af8;height:20px;margin:auto;width:20px}.mcdVltzYLgMEGSybHhTT{height:21px;width:21px}.jnIDjZqBgPnAroZUYTj6{fill:#369af8}.r6Jw96oc7KTosHnegFJw{font-family:Roboto;font-size:11px;font-weight:300;margin:auto;opacity:.8}.nKvz8SEPqg1MlAemfZhw{display:flex;flex-direction:column;height:100%;justify-content:flex-end}.nKvz8SEPqg1MlAemfZhw iframe{border:none;bottom:0;height:calc(100vh - 40px);width:100%}.MW2oaLl19DuIp7kCc3sW{align-items:center;background:#000;display:flex;height:100%;justify-content:center}.OxiB68g1_akgzkuSYlvm{display:flex;flex-direction:column-reverse;height:92vh;margin:0 auto;max-width:80vh;min-height:350px;position:relative;text-align:center}.W80lzcbFbDV8NTiiunPI{display:flex;flex-direction:column;margin:5px auto;max-width:610px;width:96%}.e4Lj4CQHgYm4cvs098ps{background:#000;border-radius:6px;display:flex;flex-grow:1;height:calc(94vw - 70px);margin:0 auto;max-height:80vh;max-width:80vh;overflow:hidden;position:relative;width:94%}.sgrXPxdFygXJc6WsHsfF{background:#000;background:-moz-linear-gradient(top,#000 0,transparent 100%);background:-webkit-gradient(left top,left bottom,color-stop(0,#000),color-stop(100%,transparent));background:-webkit-linear-gradient(top,#000,transparent);background:-o-linear-gradient(top,#000 0,transparent 100%);background:-ms-linear-gradient(top,#000 0,transparent 100%);background:linear-gradient(180deg,#000 0,transparent);border:0 solid #fff;border-radius:5px;color:#fff;display:flex;font-family:Roboto,Helvetica,Arial,sans-serif;font-weight:500;height:10%;justify-content:space-between;padding:15px;width:100%;z-index:1}.hrrTOct1vEFNBuRxziw0{text-align:left;z-index:2}.hrrTOct1vEFNBuRxziw0 .Z2J8EF81o8falrSaBfWG{font-size:.8rem;margin:0 0 4px}.hrrTOct1vEFNBuRxziw0 .fUZtekY0QJT9hq21j8TA{font-size:.75rem}.ctPs4aSvnolRt6KTe8lJ{font-size:.95rem;z-index:2}.ctPs4aSvnolRt6KTe8lJ button{background:#d1082d;border:0 solid #000;border-radius:8px;color:#fff;font-family:Roboto,Helvetica,Arial,sans-serif;font-size:.8rem;font-weight:400;padding:10px 20px;width:100%}.ctPs4aSvnolRt6KTe8lJ button:disabled{opacity:.5}.Mp4ugESMXo5nCVTlytay{align-items:center;display:flex;height:90%;justify-content:center;position:absolute;width:90%}.bJgP0pJxGe0zQjrr0hYs{bottom:15px;color:#fff;display:flex;height:24px;padding:4px;position:absolute;width:24px;z-index:2}.e4Lj4CQHgYm4cvs098ps amp-video,.e4Lj4CQHgYm4cvs098ps video{border:0 solid #000;border-radius:5px;height:100%;object-fit:contain;position:absolute;width:100%}.T2j0NlwBR1S9RyoIgmRk{font-size:1.05rem;line-height:1.55rem;margin:10px 20px}.T2j0NlwBR1S9RyoIgmRk,.dZa4ssX_3mzolHC9RNsm{font-family:Roboto,Helvetica,Arial,sans-serif;font-weight:500;text-align:left;word-break:break-word}.dZa4ssX_3mzolHC9RNsm{color:#b3b3b3;font-size:.85em;margin:0 20px}.z42nns5IVIgwTXvmtp4W{display:flex;flex-grow:1;margin:10px 20px}.giKB5uYox4loBGc7LvMq{align-items:center;color:#878787;display:flex;flex-direction:column;font-family:Roboto,Helvetica,Arial,sans-serif;font-size:.6rem;font-weight:500;padding:0 25px 0 0;text-align:center}.giKB5uYox4loBGc7LvMq span{margin:4px 0 0}.QlvujO5bRuJbDr0krADj{align-items:center;bottom:30%;display:flex;margin-left:5%;position:absolute;transition:ease-in;z-index:999}.gpRw5M6a_6CQPEKbXBXa .VmHenqjE5grjsf3fWL_b{width:2.85rem}.gpRw5M6a_6CQPEKbXBXa .UfFlSw0Ku1orniCovhJN{color:#fff;font-family:Roboto,Helvetica,Arial,sans-serif;font-size:.7rem;font-stretch:normal;font-style:normal;font-weight:700;letter-spacing:normal;line-height:normal;opacity:.5;text-align:center;text-shadow:1px 1px 12px #000;width:25vw}.sa7jAXSMpL2UkIxrBxOQ{border:1px solid rgba(0,0,0,.1);border-radius:12px;display:flex;flex-direction:column;margin:10px;max-height:100vh;position:relative;user-select:none;width:calc(100% - 20px)}.p4I93ew7DPoS0zwwVLZy{color:#161616;font-family:Roboto;font-size:1rem;font-weight:400;line-height:1.3rem;margin:20px 5% 6px;opacity:.9;width:90%}.VQtt2Pn57hvqIUqvuPFR{align-items:center;display:flex;flex-direction:row;padding:.5rem 1rem}.UTHdNZCkPsCALFauQa7W{border-radius:50%;cursor:pointer;margin-right:.8rem;width:50px}.cp0lONWJoQ1WvrOl0Ylj{flex:1}.kx5xUHn8owIlXfbjetow{align-items:center;display:flex;font-size:.7rem;width:100%}.tBBUY1fC_NZTgyh42jJe{background:#000;border-radius:11px 11px 0 0;display:flex;flex-wrap:wrap;margin:0 auto;max-height:50vh;max-width:80vh;overflow:hidden;position:relative;width:100%}.tBBUY1fC_NZTgyh42jJe video{background-color:#000;border:0 solid #000;border-radius:11px 11px 0 0;height:30vh;height:34.5vh;width:100%}.S1KEg1w0v6XeNduf8CYC:before{background-color:#cfcfcf;border-radius:50%;content:\"\";display:inline-block;height:6px;margin-right:5px;width:6px}.S1KEg1w0v6XeNduf8CYC{align-items:center;color:#d10846;display:flex;margin-left:5px}.NxXHZfNMR0DbUfNGGBoR,.S1KEg1w0v6XeNduf8CYC{font-family:Roboto;font-size:.7rem;font-stretch:normal;font-style:normal;font-weight:500;letter-spacing:.11px;line-height:normal}.NxXHZfNMR0DbUfNGGBoR{color:#2a2a2a;cursor:pointer;margin:0 5px 0 0}.qTMkWaugZauIhrkdqsHi{color:#878787;font-family:Roboto;font-size:.6rem;font-stretch:normal;font-style:normal;font-weight:400;height:.7rem;letter-spacing:.4px;line-height:normal;overflow:hidden;text-overflow:ellipsis;width:200px}.Us754fve7rDC6Tl1YtfK{display:flex;flex-direction:column;margin:0 auto;width:100%}.bdpeczbzypsvMpBdPzQl{display:flex;padding:10px 0}.a4t_iu6YOc_txxVvv3f8{align-items:center;align-self:end;background:#f44436;border:none;border-radius:16px;color:#fff;cursor:pointer;display:flex;font-size:14px;justify-content:center;margin:0 1rem;outline:none;padding:6px;width:80px}.a4t_iu6YOc_txxVvv3f8 svg{margin-right:6px}.a4t_iu6YOc_txxVvv3f8 svg g g{stroke:#fff}.XjMSWpqrVnbZucdlszbj{align-items:center;color:#878787;display:flex;font-family:Roboto,Helvetica,Arial,sans-serif;font-size:.6rem;font-weight:500;margin-left:1rem;padding:.5rem 0;text-align:center}.XjMSWpqrVnbZucdlszbj span{margin-left:.5rem}.aOJ7zR5Ud9fECIJg3Sfl{color:#c7c7c7;font-family:Roboto;font-size:.7rem;font-weight:400;margin-top:6px;padding:0 1rem 1rem}.nOZUu3JMIc8qOmsl62lA{align-items:center;display:flex;height:100%;justify-content:center;position:absolute;width:100%;z-index:1000}.vFNWjo5xIaqhA2529J92{background:#000}.FiuQbkKKNc50Devee8GX{display:flex;margin-top:20px;width:100%}.Tq2FqkNlxg8tIxFrXlQO{background-position:50%;background-repeat:no-repeat;background-size:contain;height:20vh;margin:0 3%;width:94%}.ggVN6JrxQwilRZKrzA0k{align-items:center;bottom:30%;display:flex;margin-left:5%;position:absolute;transition:ease-in;width:1070px;z-index:999}.gpRw5M6a_6CQPEKbXBXa{color:#fff;font-family:Roboto,Helvetica,Arial,sans-serif;font-size:30px;font-size:.7rem;font-stretch:normal;font-style:normal;font-weight:700;letter-spacing:normal;line-height:normal;text-align:center;text-shadow:1px 1px 12px #000;text-transform:uppercase;white-space:nowrap;width:100%;width:25vw}.nK8z5aLN6qOvGEFczsRQ{animation-play-state:paused;-webkit-animation:NqLT2yjM1iDrpcoXlJSN 15s linear infinite;animation:NqLT2yjM1iDrpcoXlJSN 15s linear infinite;animation-delay:.8s;display:inline-block}.IaJ5b58eKj83QCoSy42t{display:flex}@media screen and (max-width:1208px){.gpRw5M6a_6CQPEKbXBXa .UfFlSw0Ku1orniCovhJN{width:30vw}}@media screen and (max-width:720px){.gpRw5M6a_6CQPEKbXBXa .UfFlSw0Ku1orniCovhJN{width:40vw}.ggVN6JrxQwilRZKrzA0k{width:720px}}@media screen and (max-width:480px){.gpRw5M6a_6CQPEKbXBXa .UfFlSw0Ku1orniCovhJN{width:40vw}.ggVN6JrxQwilRZKrzA0k{width:500px}}@keyframes NqLT2yjM1iDrpcoXlJSN{0%{transform:translateX(0);-webkit-transform:translateX(0)}to{transform:translateX(-400%);-webkit-transform:translateX(-400%)}}@-webkit-keyframes NqLT2yjM1iDrpcoXlJSN{0%{transform:translateX(0);-webkit-transform:translateX(0)}to{transform:translateX(-400%);-webkit-transform:translateX(-400%)}}.IAsZcfIS6DRldqg02cys{padding:8px 10px;position:absolute;width:100%;z-index:1001}.E_bTyWjrPpE8dGe4_iJV{display:flex;width:100%}.RiqJIfuovMECPemHjR5r{border-radius:50%;height:1.5rem;width:1.5rem}.wQRVHlt6JfwdW0fnxMTj{align-items:center;display:flex;margin-left:6px}.bztao9oshOrod9s5fw6_{color:#fff;cursor:pointer;font-family:Roboto;font-size:14px;font-size:.7rem;font-stretch:normal;font-style:normal;font-weight:500;letter-spacing:.11px;line-height:normal;margin:0 5px 0 0}.EWcAT9qVBy8Of8Y4n0qI{box-shadow:inset 0 40px 60px -28px #000;height:100%;position:absolute;width:100%}.cx4UNRn7rN0sUQjl738Q{color:#585858;font-family:Roboto;font-size:.9rem;font-weight:300;line-height:1.35rem;margin:0 5%;opacity:.8;width:90%}.KXMXrWvxseOYFPfbEURk{-webkit-line-clamp:8;-webkit-box-orient:vertical;display:-webkit-box;font-size:.9rem;font-weight:100;margin:0;overflow:hidden}.GtJIUqCG0l5g2HI_dget:before{content:\"\";-webkit-filter:blur(5px);-moz-filter:blur(5px);-o-filter:blur(5px);-ms-filter:blur(5px);filter:blur(5px);z-index:-1}.DviSQhOKYS6ivTswJ1MH{height:60px;margin-top:auto;overflow:hidden;position:relative}.GtJIUqCG0l5g2HI_dget{background-color:#000;border-bottom-left-radius:12px;border-bottom-right-radius:12px;height:60px;margin-top:16px;width:100%;z-index:1}.DKiWkcOCpEvvnHqSr2yk{background-position:50%;background-repeat:no-repeat;background-size:cover;filter:blur(13px);height:60px;width:100%}.r7F0Q_J1C3X9Qv71srF6{display:flex;flex-direction:column;justify-content:center;position:absolute;top:10px;width:100%}.vvyJCtOOzNPLqIjQqgBq{font-size:.75rem;padding:0 5% 2px}.oFLkFuYVrmexNVgaSTcF,.vvyJCtOOzNPLqIjQqgBq{color:#fff;font-family:Roboto;font-weight:400}.oFLkFuYVrmexNVgaSTcF{font-size:.6rem;opacity:.8;padding:0 5%}.UiBfHEmuj4dDR5PMmLdc{bottom:0;height:100%;margin:0;padding:0;position:relative;user-select:none}.F5Semr0fUoV2mmHLlnTk,.UiBfHEmuj4dDR5PMmLdc{display:flex;flex-direction:column;width:100%}.F5Semr0fUoV2mmHLlnTk{height:calc(100vh - 1px);max-height:calc(100vh - 1px);max-width:100%}.V16cFddFa2m3cV11ki3g{height:90vh;position:absolute;width:100%;z-index:2}.UiBfHEmuj4dDR5PMmLdc iframe{height:calc(100vh - 44px);max-width:100%}.UiBfHEmuj4dDR5PMmLdc embed,.UiBfHEmuj4dDR5PMmLdc iframe{border:none;max-height:calc(100vh - 1px);width:100%;z-index:1}.UiBfHEmuj4dDR5PMmLdc embed{height:calc(100vh - 1px);margin:0;max-width:calc(100% - 1px);padding:0}.qCq2SJx2f2vTSfytbMb1{background:#fff;border-top:.5px solid #efefef;bottom:0;display:flex;height:7.08vh;justify-content:space-evenly;width:100%;z-index:4}._1vEwCDB95w9fAPEqb08Q{align-content:center;display:flex;flex-direction:column;font-size:.7rem;justify-content:space-evenly;padding:5px 0 0;width:20vw}.je3fwtQwI00F0cxboabG{margin:auto;width:23px}.NaFbzzGksuDQ2Wuvg4nA{margin:auto}.FQwamjAaC4HnxiqZqIlv{align-items:center;display:flex;height:100%;justify-content:center}.nzbbIYkDkWzvOdVGyiQi{stroke:#5e5e5e;height:10vw;width:10vw}.k9iita3VAqcz78q_REdZ{background-repeat:no-repeat;background-size:contain;height:2px;position:fixed;width:2px}.F5Semr0fUoV2mmHLlnTk a{display:block;height:100vh;height:100vh!important;width:100%;width:100vw;z-index:3}.sAXj7C11JPxpoj0_jKRA{background-position:50%;background-repeat:no-repeat;background-size:cover;display:block;height:100vh;margin:0 auto;text-align:center;width:100%}.OaDQkIuu7bah5Vjuc04R{display:flex;position:fixed;top:56px;width:100%;z-index:99}.wd3zJ1hsXmcq6_QBaaCB{background:#0575de;border:none;border-radius:15px;color:#fff;font-size:.8em;margin:0 auto;padding:6px 30px}.NNPttXfnMOG6_deuAgWs{background:#fff;display:flex;flex-direction:row;height:44px;justify-content:space-between;opacity:.9;position:fixed;top:0;transform:translateY(0);transition:transform .2s ease-in;width:100%;z-index:10000}.dR19FSdSCwAAXSDoGJol{font-family:Roboto;font-size:17px;font-weight:400;opacity:.7;padding:12px 0 10px 4%}.dR19FSdSCwAAXSDoGJol a{align-items:center;color:#000;display:flex;height:15px;justify-content:center;padding:2px 0;text-decoration:none}.dR19FSdSCwAAXSDoGJol svg{height:21px;padding:0 5px 0 0;width:21px}.J6H33RNsLI45gQ7VKDyo{display:flex;opacity:.7;padding:12px 15px 0 5px;width:22px}.J6H33RNsLI45gQ7VKDyo svg{height:20px}.YOH_gjQiVmNOwORO5tls{transform:translateY(-48px)}.F3tdaOXgAm5Rk5A1n0Rf{background:#fff;display:flex;flex-direction:row;height:100vh;justify-content:center;width:100%}.qQKHKqjueUdyi9tf2DkK{margin-top:15vh;text-align:center}.QvZTq48VuvvRulF8loCU{font-family:Roboto;font-size:1.2em;font-weight:600;opacity:.6;padding:30px}.Aho45C2slA9_a3AHya13{font-family:Roboto;font-size:.95rem;font-weight:300;opacity:.8}.aVV7Q68B7u1JmM_P5uiz{background-color:rgba(0,0,0,.4);height:100%;position:fixed;width:100%;z-index:20}.Pn3boj9z4xb9ie_kHANe{align-items:center;background:#fff;border-radius:15px;display:flex;flex-direction:column;height:237px;left:calc(50% - 163.5px);position:fixed;top:calc(30% - 237px);width:327px;z-index:20}.slideInFromTop{animation:slideInFromTop .2s ease-in forwards}@-webkit-keyframes slideInFromTop{0%{-webkit-transform:translateY(0)}to{-webkit-transform:translateY(100%)}}.WttBlKgQPbj6AqEhASA_{height:45px;margin-top:25px}.WttBlKgQPbj6AqEhASA_ img{height:100%}.TUMf25QGqmpRHdQqjgtx{font-family:Roboto;font-size:20px;font-weight:500;margin-top:15px}.JIKEzueRp8xdFqZLbbzK{color:#909090;font-family:Roboto;font-size:17px;font-weight:300;line-height:20px;margin-top:15px;text-align:center;width:85%}.yo1QWmP4p731pjBxCtZW{border-top:.5px solid hsla(0,0%,59%,.25);display:flex;height:55px;margin-top:auto;width:100%}.FuL2_p9QrEKtTALaS5Bg{align-items:center;color:#909090;display:flex;font-family:Roboto;font-size:17px;font-weight:400;justify-content:center;width:50%}.FuL2_p9QrEKtTALaS5Bg:focus{filter:brightness(0)}.H0h9uvh5FLDUKAHnpQGU{border-right:.5px solid hsla(0,0%,59%,.25);width:.5px}.PkoJTQdlEdY_Jfh8bvst{color:#369af8}.Taa9FjzgU1JDTtclXl1x{display:flex;position:fixed;width:100%;z-index:10}.csbS_tpvFJuaKyoi42HA{background:#5e5e5e;border-radius:15px;color:#fff;font-family:Roboto;font-size:.7em;margin:0 auto;min-width:20vmin;padding:5px 15px;text-align:center}.zyXBoWn0x8ApA5RzlMA1{align-items:center;display:flex;flex-direction:column;height:100vh;width:100%}.cefIvhtl73U56ja15bmA{font-family:Roboto;font-size:1.5em;font-weight:500;margin:25vh auto 0}.hiLGP40XONR1tbEp02zf{background:#efefef;border-radius:10px;color:#1e90ff;font-family:Roboto;font-size:1.3em;font-weight:500;margin:10vh auto 0;padding:10px}.c35jM7WGu8ucg9XteehK{margin-top:10px;padding:10px 0 10px 4vw}.ZTc24jEBtwhQllIthq6U{color:#545454;font-family:Roboto;font-size:.8rem;font-weight:600}.sqB7bHJwRpZlXeVZobJc{border-bottom:2px solid #000;margin:10px 0 20px;width:25px}.Eou4yTO6SaSaCORjxv27{-webkit-overflow-scrolling:touch;-ms-overflow-style:-ms-autohiding-scrollbar;color:#000;display:flex;flex-wrap:nowrap;font-size:.85rem;height:90px;list-style:none;overflow:auto;padding-bottom:15px;width:fit-content;z-index:2}.NQGl681b2bnJa1FafC3P{height:90px;overflow:hidden;z-index:2}.NDzZHfpat81rutyRygIB{flex:0 0 auto;font-size:.6rem;margin:10px 14px 0;opacity:.6;text-align:center;width:22vmin}.ZcLA_0Q_H82fqpqWafh4{color:#369af8!important;font-size:.7rem;opacity:1!important}.v2VWzULyJynx9JAF2fWh{background-repeat:no-repeat;background-size:contain;height:10vw;margin:0 auto 16px;max-height:50px;max-width:50px;width:10vw}.smuwHQqI2mcDsELCdtdD{font-family:Roboto;font-weight:600;opacity:.8;text-transform:uppercase}.sDfxugkSp2mQrpcawmtU{opacity:1!important}.H56ahOVlgp42L7uEXkyl{overflow-x:scroll}.Nnr9i46QAGuPH7ol_HgZ{margin-top:10px;padding:10px 4vw}.ZBaeAOnGGf2DK4GLOJZA{color:#585858;font-family:Roboto;font-size:.8rem;font-weight:600}.F6NEDtClGOoLxxWjwucb{border-bottom:2px solid #585858;margin:10px 0 20px;width:25px}.DAXmAm4CZEVv1I8TUAzY{display:flex;flex-flow:row wrap;font-family:Roboto;font-size:3.5vw;font-weight:500;justify-content:flex-start;list-style:none}.DAXmAm4CZEVv1I8TUAzY>a{margin-right:1vw}.DAXmAm4CZEVv1I8TUAzY>a:nth-child(3n){margin-right:0}._Ku38PxFGrwWmvgE7cBw{background:#fff;background-color:#efefef;background-position:50% 50%;background-repeat:no-repeat;background-size:cover;border:.5px solid #8dc8ff;border-radius:5px;-webkit-box-shadow:0 4px 4px -3px #369af8;-moz-box-shadow:0 4px 4px -3px #369af8;box-shadow:0 4px 4px -3px #369af8;flex:0 0 0;margin:5px 0;min-height:38vw;min-width:29vw;position:relative;text-align:left}.u9QBHQdy2vOzTTLKCREb{background:linear-gradient(0deg,#fff 0,#ffffff00);border-radius:4px;bottom:0;display:flex;flex-direction:column;height:10vh;justify-content:flex-end;margin:0 0 0 .5px;padding:0 0 0 .5px;position:absolute;width:calc(100% - 1px)}.u9QBHQdy2vOzTTLKCREb span{margin:0 1vw 1.8vw 1.8vw}.LYPAtfFQ0qitsNZkqlkI{background:#fff;border-bottom:.5px solid #efefef;display:flex;flex-direction:row;height:48px;justify-content:flex-end;position:fixed;top:0;width:100%;z-index:3}.WH6nkocriW3zmH0OL1rW{font-size:17px}.WH6nkocriW3zmH0OL1rW a{color:#000;display:flex;height:34px;padding:14px 10px 0 5px;text-decoration:none}.WH6nkocriW3zmH0OL1rW svg{stroke:#369af8;height:20px}.ZJMYNaezVrjIyGdloMNt{display:flex}.ZJMYNaezVrjIyGdloMNt svg{stroke:#369af8;height:48px;width:27px}.ZJMYNaezVrjIyGdloMNt a{padding:0 15px}.tNP7UZciqndljz21JtVg{font-family:Roboto;font-size:16px;font-weight:400;margin-right:auto;opacity:.8;padding:15px 0 0 15px}.fQwhOu_4gLXtHDMt4mrC{margin-top:48px;padding:30px 0 10px 4vw;position:relative}.cjKWyP6kFKrylm3Cz84q{color:#545454;font-family:Roboto;font-size:.8rem;font-weight:600}.gzeoO6O0k9sSgZDSJaBX{border-bottom:2px solid #000;margin:10px 0 20px;width:25px}.j9fqSbqSQaw6VyAgWyR9{overflow:hidden;z-index:2}.g6mJXzOthpEjP8uGeqX9{-webkit-overflow-scrolling:touch;-ms-overflow-style:-ms-autohiding-scrollbar;align-items:center;flex-flow:nowrap;justify-items:flex-start;overflow:auto;padding-bottom:15px;z-index:2}.g6mJXzOthpEjP8uGeqX9::-webkit-scrollbar{display:none}.zEf2zk8pw1CvGQRYfjEp{background-position:50%;background-size:cover;border:.5px solid #8dc8ff;border-radius:50%;-webkit-box-shadow:0 4px 4px -3px #369af8;-moz-box-shadow:0 4px 4px -3px #369af8;box-shadow:0 4px 4px -3px #369af8;display:inline-block;height:80px;margin:0 10px 20px;position:relative;width:80px}.Z2zFjGBD5NPomfbPC3Ze{bottom:-30px;color:#696969;font-family:Roboto;font-size:.7rem;max-width:100%;overflow:hidden;position:absolute;text-align:center;text-overflow:ellipsis;white-space:nowrap;width:100%}.TbFjGpn3x5_UdYRkWPMI{background-blend-mode:luminosity;border-color:#ddd;box-shadow:0 4px 4px -3px #909090;-webkit-box-shadow:0 4px 4px -3px #909090;-moz-box-shadow:0 4px 4px -3px #909090}.brilUMw2ZNGVR4kAUtd1{-webkit-animation:GGOi9BGsoSN4pwhugTaX 1s cubic-bezier(.75,.35,.25,.15) infinite;animation:GGOi9BGsoSN4pwhugTaX 1s cubic-bezier(.75,.35,.25,.15) infinite;border:8px solid #f1f1f1;border-top-color:#ddd;-webkit-box-shadow:unset;-moz-box-shadow:unset;box-shadow:unset;box-sizing:border-box}@-webkit-keyframes GGOi9BGsoSN4pwhugTaX{0%{-webkit-transform:rotate(0deg)}to{-webkit-transform:rotate(1turn)}}@keyframes GGOi9BGsoSN4pwhugTaX{0%{transform:rotate(0deg)}to{transform:rotate(1turn)}}.mNggqbBI1ZDeRwhNjmMU{-webkit-overflow-scrolling:touch;-ms-overflow-style:-ms-autohiding-scrollbar;align-items:center;flex-flow:nowrap;justify-items:flex-start;overflow-x:scroll;padding-bottom:15px;z-index:20}.mNggqbBI1ZDeRwhNjmMU::-webkit-scrollbar{display:none}.XD7ZLAkR7Uf7RdQNIPAL{position:absolute;right:10px;top:30px}.XD7ZLAkR7Uf7RdQNIPAL button{background:none;border:unset;color:#369af8}.XD7ZLAkR7Uf7RdQNIPAL button.GqK56NXemZXYUTNYSXRM{color:#bbb}.buBFLkxz4K26AvU4CNYv{color:inherit;pointer-events:none;text-decoration:none}.n1mx8Qt2tfFl4lV2gJDO{display:flex;flex-direction:column}.PePR4XoVdYrTvF_J5dmK{background:#f9f9f9;font-family:Roboto;margin-top:48px;min-height:calc(100vh - 48px)}.qR7ovnJ8MOxPB1RAw9OO{background:#fff;display:flex;width:100%}.CYkxzG4FPB1V3eFcAsWV{height:20px;padding:29px 4%;width:24px}.rO0sZROPKkqP5kN93Fvc{border-bottom:1px solid #efefef;display:flex;font-weight:400;justify-content:space-between;padding:25px 4% 25px 0;width:calc(88% - 24px)}.lcK6Gq5CEFz_OpiJbzgk{color:#585858;margin:auto 0;opacity:.7}.v86YLDPafsCOxNNkEFm4{-webkit-appearance:none;background-color:#fff;border-color:#fff;color:#369af8;font-size:1rem;height:27px;text-align-last:right}.Qeeo1lQeY_3VG04TUNth{align-items:center;color:#369af8;display:flex}.Qeeo1lQeY_3VG04TUNth svg{height:20px;width:20px}.IqzIlw7aGHUiAFRL9sC7{color:#369af8;font-size:1rem}.UsEAtz5VT5tTu_onhGXO{background:#f9f9f9;height:75px}.ceSOxwRUh8hkCYNpt7Wv{color:#585858;font-weight:300;margin:auto 0;opacity:.6}.paIU3k_l73h4HKVUMf2C{display:inline-block;height:30px;position:relative;width:55px}.paIU3k_l73h4HKVUMf2C input{display:none}.IazRYwhYvsGVZrGPHXyR{background-color:#ccc;bottom:0;cursor:pointer;left:0;right:0;top:0}.IazRYwhYvsGVZrGPHXyR,.IazRYwhYvsGVZrGPHXyR:before{position:absolute;-webkit-transition:.4s;transition:.4s}.IazRYwhYvsGVZrGPHXyR:before{background-color:#fff;bottom:4px;content:\"\";height:23px;left:4px;width:23px}input:checked+.IazRYwhYvsGVZrGPHXyR{background-color:#2196f3}input:focus+.IazRYwhYvsGVZrGPHXyR{box-shadow:0 0 1px #2196f3}input:checked+.IazRYwhYvsGVZrGPHXyR:before{-webkit-transform:translateX(24px);-ms-transform:translateX(24px);transform:translateX(24px)}.IazRYwhYvsGVZrGPHXyR.DFiJ29y2L_zFlKo1_lTx{border-radius:34px}.IazRYwhYvsGVZrGPHXyR.DFiJ29y2L_zFlKo1_lTx:before{border-radius:50%}.IazRYwhYvsGVZrGPHXyR.DFiJ29y2L_zFlKo1_lTx.viZMAQ4v6hNfFl4iy6iR:before{-webkit-animation:\"rotation\" 2s linear infinite;background-image:url(/assets/icons/loader.svg);background-position:50%;background-repeat:no-repeat;background-size:75% 75%}.VZYoUt7BTtHhFY7xvVyw{background:#fff;border-bottom:.5px solid #efefef;display:flex;flex-direction:row;height:48px;position:fixed;top:0;width:100%;z-index:3}.GFF8Iyke6gj4vAAh2KWI{align-items:center;display:flex;height:100%;position:absolute}.GFF8Iyke6gj4vAAh2KWI svg{stroke:#369af8;height:48px;width:27px}.GFF8Iyke6gj4vAAh2KWI a{padding:0 15px 0 10px}.BBJhKGfXv6O__QePCCNQ{font-family:Roboto;font-size:17px;font-weight:400;margin:auto;opacity:.8}amp-story-grid-layer.NtGzYV15ZRiqf4b_npqe{align-content:end}amp-story-grid-layer.bLp6h4gXgj67L0lMwgJc{padding:0}amp-story-grid-layer.wxTOTt3i8wXICPoO11Lg{align-content:center}amp-img.F_7DquKBMwUIQuxEb2hw img,amp-video.GFnqhMoPyJOLJ2UVMyOg video{object-fit:contain}.GEn10XXECoaIXArK06jN{background-position:50%;background-repeat:no-repeat;background-size:100% auto}.GEn10XXECoaIXArK06jN img{position:absolute;top:50%;transform:translateY(-50%);width:100%}.HLdzh6QjTpd_BQ11hDiU{display:grid;grid-template-columns:30% 70%}.HLdzh6QjTpd_BQ11hDiU div{grid-column-start:2}.HLdzh6QjTpd_BQ11hDiU div.XGD1nS6MtcPBjRHrLrft{grid-column-start:1}.r6vgRlXOYljgdMMTFUB6{background:#fff;display:flex;flex-direction:row;height:100vh;justify-content:center;width:100%}.Ssv_h2uzNeRaLa7ya4Os{margin-top:15vh;text-align:center}.wdHMDyOL6_ZyCmi0Cocq{font-family:Roboto;font-size:1.2em;font-weight:600;opacity:.6;padding:30px}.lmxpnVXZCCvqk9sbr9R5{font-family:Roboto;font-size:.95rem;font-weight:300;opacity:.8}.PlEPb83JeIbEuQUZRnsJ{height:100vh;position:relative;width:100%}.QfzU608beRdjpH0oKwL4{align-items:center;background-color:hsla(0,0%,100%,.4);bottom:25vh;box-shadow:0 1px 5px #ddd;display:flex;height:10vh;justify-content:center;position:absolute;right:50px;width:20%}.wgJcyafYwxXYxgJlkrGq{color:#ccc;height:50%;width:50%}.AoOfQHhuLzofnX5qGyZx{align-items:center;background:#f44336;box-shadow:0 2px 5px 0 rgba(0,0,0,.16),0 2px 10px 0 rgba(0,0,0,.12);display:flex;height:40px;justify-content:space-between;margin-bottom:32px;margin-left:auto;margin-right:auto;padding:8px 32px;width:900px}.wEe4zHQAFfoZACC2SRFn{box-sizing:border-box;padding:8px;width:140px}.gVBPun26EN5_KOnvxsFK{color:#fff!important;font-size:14px;font-weight:300}@media screen and (max-width:940px){.AoOfQHhuLzofnX5qGyZx{height:auto;margin:0 32px 32px;width:auto}}@font-face{font-display:swap;font-family:Conv_ClanPro-Bold;font-style:normal;font-weight:400;src:url(/dist/fonts/ClanPro-Bold.eot);src:local(\"\\xe2\\x98\\xba\"),url(/dist/fonts/ClanPro-Bold.woff) format(\"woff\"),url(/dist/fonts/ClanPro-Bold.ttf) format(\"truetype\"),url(/dist/fonts/ClanPro-Bold.svg) format(\"svg\")}.PmX01nT74iM8UNAIENsC{border-radius:3px;box-shadow:0 2px 5px 0 rgba(0,0,0,.16),0 2px 10px 0 rgba(0,0,0,.12);box-sizing:border-box;display:block;display:flex;font-family:Roboto,sans-serif;font-weight:300;height:284px;margin-bottom:20px;margin-left:auto;margin-right:auto;padding:8px 16px 8px 8px;position:relative;width:900px;z-index:1}.GXPWASMx93K0ajwCIcCA{background-position:50%;background-size:cover;border-radius:4px;height:100%;margin-right:16px;min-width:320px;width:100%}.ddVzQcwl2yPlFt4fteIE{color:#44444d!important;cursor:pointer;font-size:22px;line-height:27px}.KkupEonoVHxNv4A_D7UG{color:#44444d;font-size:16px;line-height:22px;margin-top:8px}.f6VR90cMLekcKLeFCS1J{color:#44444d;font-family:Conv_ClanPro-Bold,Sans-Serif}.E3pJPegn7xWCOvv3BEcf,.f6VR90cMLekcKLeFCS1J{font-size:12px;font-weight:300;line-height:22px}.E3pJPegn7xWCOvv3BEcf{color:#808290}.VW4Ta0ioG_64Xx1ROszP{font-size:12px;font-weight:400;margin-bottom:12px}.LFn0sRS51HkFD0OHeCdA{color:#44444d;font-weight:500}.LUWdd1C_3UqqulVsopn0{display:flex;flex-direction:column;justify-content:space-between}.JIMrm2g5L9csgTtobp2g{border-radius:3px;box-shadow:0 2px 5px 0 rgba(0,0,0,.16),0 2px 10px 0 rgba(0,0,0,.12);cursor:pointer;display:flex;font-family:Roboto,sans-serif;font-size:14px;font-weight:400;justify-content:center;margin:32px auto;padding:6px 10px;text-align:center;transition:box-shadow .25s;width:130px}.JIMrm2g5L9csgTtobp2g:hover{box-shadow:0 8px 17px 0 rgba(0,0,0,.2),0 6px 20px 0 rgba(0,0,0,.19);transition:box-shadow .25s}.r_CK6OaFsecGqhiNxLQR{animation:rtHj2mntPk2MMeDvhrr_ 1.75s infinite forwards;background:#f3f5f7;background:linear-gradient(90deg,#f3f5f7 8%,#eaedf1 18%,#f3f5f7 33%);background-size:800px 104px;border-radius:4px;height:40px;margin-bottom:16px;width:25%}.YBIB_aAKmJgaGzjjCtWh{height:100%;min-width:320px}.Fkec1JSj8wjqEULPsk9m{margin-left:20px;width:100%}@keyframes rtHj2mntPk2MMeDvhrr_{0%{background-position:-350px 0}to{background-position:350px 0}}@media screen and (max-width:940px){.PmX01nT74iM8UNAIENsC{flex-direction:column;height:700px;padding:8px;width:500px}.GXPWASMx93K0ajwCIcCA{height:400px;min-height:400px}.LUWdd1C_3UqqulVsopn0{height:100%;margin-top:8px}.YBIB_aAKmJgaGzjjCtWh{height:400px;min-height:400px;width:100%}.Fkec1JSj8wjqEULPsk9m{margin-left:0}}.YmiaDj0AgvaLdyATTxIg{background:#fff;box-shadow:0 2px 5px 0 rgba(0,0,0,.16),0 2px 10px 0 rgba(0,0,0,.12);font-family:Roboto,sans-serif;height:72px;position:fixed;width:100%;z-index:8}.YKSmdW7nhWAEIbmQrJKw{color:#44444d;cursor:pointer;font-size:14px;height:72px;padding-left:30px;padding-top:8px;transition:all .3s;width:120px}.TxGxEsJgUqc68PmaBJpQ{background:#303036;color:#fff;display:block;height:100%;overflow:hidden;padding:8px;position:fixed;transition:all .3s;width:216px;z-index:999}.iyAcz8Lj6UNLauiXVejL{border:0;box-sizing:border-box;height:72px;left:50%;margin-left:-89px;padding:8px;position:absolute;top:0;vertical-align:middle}.T1TDEo43D3QY0SAh3xBw{appearance:none;background:0 0;border:none;border-radius:none;box-shadow:none;cursor:pointer;display:inline-block;font-size:0;height:32px;margin:0;overflow:hidden;padding:0;position:relative;top:8px;width:32px}.hTEzFLa5WDHjHHddgF66{background:#000;display:block;height:2px;left:6px;position:absolute;right:6px;top:17px;transition:background 0s .25s}.hTEzFLa5WDHjHHddgF66:before{top:-6px;transition-property:top,transform}.hTEzFLa5WDHjHHddgF66:after,.hTEzFLa5WDHjHHddgF66:before{background-color:#000;content:\"\";display:block;height:2px;left:0;position:absolute;transition-delay:.25s,0s;transition-duration:.25s,.25s;width:100%}.hTEzFLa5WDHjHHddgF66:after{bottom:-6px;transition-property:bottom,transform}.fakt5L8hmnoVjOHegIeA{font-family:Roboto,sans-serif;font-size:16px;font-weight:300}.wve44NJUq8Gu603xj7mq{cursor:pointer;height:32px;position:relative;top:16px;transform:rotate(0deg);width:24px}.wve44NJUq8Gu603xj7mq span{background:#000;display:block;height:2px;left:0;opacity:1;position:absolute;transform:rotate(0deg);transition:.25s ease-in-out;width:100%}.jn6Z3i6DUTqUFiqBEifW{margin-left:220px;transition:.22s ease-in-out}.wve44NJUq8Gu603xj7mq span:first-child{top:0;transform-origin:left center}.wve44NJUq8Gu603xj7mq span:nth-child(2){top:8px;transform-origin:left center}.wve44NJUq8Gu603xj7mq span:nth-child(3){top:16px;transform-origin:left center}.wve44NJUq8Gu603xj7mq.jn6Z3i6DUTqUFiqBEifW span:first-child{left:8px;top:0;transform:rotate(45deg)}.wve44NJUq8Gu603xj7mq.jn6Z3i6DUTqUFiqBEifW span:nth-child(2){opacity:0;width:0}.wve44NJUq8Gu603xj7mq.jn6Z3i6DUTqUFiqBEifW span:nth-child(3){left:8px;top:17px;transform:rotate(-45deg)}.lRsuatKUnsWLCEYTR9Iv{color:#44444d;font-size:14px;font-weight:300;margin-left:32px}.hS7BV4lv5akFDiRtEQE_{cursor:pointer;padding:12px 0 12px 28px}.hS7BV4lv5akFDiRtEQE_:hover{background-color:#44444d}.ISiDKMugDRNFZ4Q1gwWb{color:#808290;font-family:Roboto,sans-serif;font-size:14px;font-weight:300;margin-bottom:5px;margin-top:10px}.mDgjIwFjqvuRdzgiFhJK{border-bottom:1px solid #808290;display:flex;justify-content:center;margin-bottom:20px;padding:20px 0 26px}.viRdivpyo8BtJtvoV0Dm{border:1px solid #808290;border-bottom-left-radius:4px;border-top-left-radius:4px}.klG8752_ZK07jpIutmrg,.viRdivpyo8BtJtvoV0Dm{background:#303036;box-sizing:border-box;color:#fff;font-size:14px;height:32px;padding:8px 12px;text-align:center;width:75px}.klG8752_ZK07jpIutmrg{border:1px solid #808290;border-bottom-right-radius:4px;border-top-right-radius:4px}.GGlzLjzDFPOZ4F8jkqsg{background:#808290;color:#303036}.wEumTDYB6eDIXyvFoop4{background-color:#323232!important;padding-bottom:20px;padding-top:20px}.qGX5vBk6QkTdiOnlhv0h{margin:0 auto;max-width:1280px;width:90%}.LwhH_gRIbg5VIc0J0YqN{display:flex;justify-content:space-between}.A1qCiDaRQdjD0q3Ijx_e{align-items:flex-end;display:flex}.A1qCiDaRQdjD0q3Ijx_e img{height:28px;margin-left:20px;width:28px}.iv7aKfs5Gt6PtjvcS8QG{display:flex}.oKGmoEhaIPPGnMP9uOm_ img{height:48px;width:160px}.Ifsiqs80e9rHfmAGOa7M{margin-right:8px;margin-top:10px;text-align:end}.IdWAVH5mzwaBUBNlnoaJ,.Ifsiqs80e9rHfmAGOa7M{font-family:Roboto,sans-serif;font-weight:300}.IdWAVH5mzwaBUBNlnoaJ{color:#808290;font-size:13px;line-height:16px}.FqFMAiJrixIx0TvrCgBX{color:#cfcfcf;font-family:Conv_ClanPro-Bold;font-size:13px;line-height:16px}.kpbhIVsZHJTrp8In2UNh img{cursor:pointer;height:48px;margin-top:-5px;width:132px}.frrT68MKbm2McDk4zOAG{color:#fff;font-family:Roboto,sans-serif;font-size:13px;font-weight:300;line-height:16px}.rSEHXWWeEOaR0W1vhOJp{border-left:1px solid grey;margin-left:8px;padding-left:16px}.xPPwvxNIv7oKoVsdJ261{background-color:rgba(0,0,0,.4);height:100%;left:0;margin-bottom:20px;margin-left:auto;margin-right:auto;overflow:auto;position:fixed;top:0;width:100%;z-index:8}.p4fIX0gVcMv16_YAFG84{background-color:#fefefe;border-radius:6px;box-sizing:border-box;font-family:Roboto,sans-serif;font-weight:300;margin:15% auto 15% 33.33333%;padding:0 20px 20px;position:relative;text-align:center;width:33.33333%}.RY8eW5LeCjDHOxDnHGiY{color:#aaa;cursor:pointer;float:right;font-size:28px;font-weight:700}.RY8eW5LeCjDHOxDnHGiY:hover{color:#000}.l1sKZIG1nDzBgLbBvoQS{background:#999;border:none;border-radius:4px;box-shadow:none;color:#fff;cursor:pointer;font-size:14px;font-weight:700;height:30px;margin-bottom:12px;text-transform:uppercase}@media only screen and (min-width:601px){.qGX5vBk6QkTdiOnlhv0h{width:85%}}@media only screen and (min-width:993px){.qGX5vBk6QkTdiOnlhv0h{width:70%}}._7GG_UWB536ZkrvplM16{box-sizing:border-box;font-family:Roboto,sans-serif;padding-top:110px}.dYDxYAuvB3fXM78TkvfP{align-items:center;display:flex;flex-direction:column;height:100vh;width:100%}.v0gwwSqjeZ8VIPHiZ_IS{font-family:Roboto;font-size:1.5em;font-weight:500;margin:25vh auto 0}.fm5DKDZm7uRRY8c2juZv{background:#efefef;border-radius:10px;color:#1e90ff;font-family:Roboto;font-size:1.3em;font-weight:500;margin:10vh auto 0;padding:10px}.XZS2m63Evn4JRT7H0oSV{display:flex;flex-direction:column;height:100%;margin:0 auto;position:relative;user-select:none;width:100%}.V3jZOyxByPFtJgBW9sM4{background-color:#ccc;background-position:50%;background-size:cover;height:42vh;margin:0;width:100%}.PWelq3UjWHU65FRGHX_c{display:none}.wgngrXYVk7z0xfhPwVJ4{color:#161616;font-family:Roboto;font-size:1rem;font-weight:400;line-height:1.3rem;margin:12px 5% 6px;opacity:.9;width:90%}.ghLv4DsF9m570NiuStDo{color:#369af8!important}.oHEMKEAkEGhHCswxo4i5{color:#585858;font-family:Roboto;font-size:.9rem;font-weight:300;line-height:1.35rem;margin:0 5%;opacity:.8;width:90%}.AYqrf7rV5BOOKlys0n4A{color:#c7c7c7;font-family:Roboto;font-size:.7rem;font-weight:400}.VrtRaBBJOqI_Q9k32Qb9:before{content:\"\";-webkit-filter:blur(5px);-moz-filter:blur(5px);-o-filter:blur(5px);-ms-filter:blur(5px);filter:blur(5px);z-index:-1}.iZDtZY28Js1GGNr8wCQi{height:60px;margin-top:auto;overflow:hidden;position:relative}.VrtRaBBJOqI_Q9k32Qb9{background-color:#000;height:60px;width:100%;z-index:1}.YkAWjhBZ3CQMkXTRr7Pr{background-position:50%;background-repeat:no-repeat;background-size:cover;filter:blur(13px);height:60px;width:100%}.AZiWK1dCYGy0PokebYqf{display:flex;flex-direction:column;justify-content:center;position:absolute;top:10px;width:100%}.mTPWo5Oiogq6yuUHnggt{font-size:.75rem;padding:0 5% 2px}.SMmt6X9lbANtAfdDKDDC,.mTPWo5Oiogq6yuUHnggt{color:#fff;font-family:Roboto;font-weight:400}.SMmt6X9lbANtAfdDKDDC{font-size:.6rem;opacity:.8;padding:0 5%}.lyFmw5E7iGb4WtAIqbYl{background:#fff;border-top:.5px solid #efefef;bottom:0;display:flex;height:59.5px;justify-content:space-evenly;position:absolute;transform:translateY(0);transition:transform .2s ease-in;visibility:visible;width:100%;z-index:4}.KUUue43jyrLbX3FYX8yo{border-top:0;transform:translateY(60px)}.ytPA46Gg_4e8_qHYLDyj{align-content:center;display:flex;flex-direction:column;font-size:.7rem;justify-content:space-evenly;padding:5px 0 0;width:20vw}._rgLDyQtPXJasZ8Q2jfs{stroke:#369af8;height:20px;margin:auto;width:20px}.BbsdE5lyd6OZ2HJzVd1H{height:21px;width:21px}.lXgFIvI5i_VZPLLO1gG7{fill:#369af8}.M6PRXFw6nODv8iBqJDHU{font-family:Roboto;font-size:11px;font-weight:300;margin:auto;opacity:.8}.QAfhKFJaIz2RJ8vyx9Qq{display:flex;flex-direction:column;height:100%;justify-content:flex-end}.QAfhKFJaIz2RJ8vyx9Qq iframe{border:none;bottom:0;height:calc(100vh - 40px);width:100%}.H41JnXgSPLo9k5JwK1Pi{display:flex;flex-direction:column;height:100%;margin:0 auto;position:relative;user-select:none;width:100%}.wV07ysJKd7W3cBnIi5Bf{background-color:#ccc;background-position:50%;background-size:cover;height:42vh;margin:0;width:100%}._Ttx9ZZ0WQ_Oow6MIFmp{display:none}.bjb7vgHEWTU0GRToVbHX{color:#161616;font-family:Roboto;font-size:1rem;font-weight:400;line-height:1.3rem;margin:12px 5% 6px;opacity:.9;width:90%}.hQVJqbUufmJEcbeKAzyV{color:#369af8!important}.lhZZASYq1aCfL5dm6NtQ{color:#585858;font-family:Roboto;font-size:.9rem;font-weight:300;line-height:1.35rem;margin:0 5%;opacity:.8;width:90%}.r2xxX9TCguCGSCc36ZcQ{color:#c7c7c7;font-family:Roboto;font-size:.7rem;font-weight:400}.bASNd1dN1O9QZ5iKJ8iP:before{content:\"\";-webkit-filter:blur(5px);-moz-filter:blur(5px);-o-filter:blur(5px);-ms-filter:blur(5px);filter:blur(5px);z-index:-1}._SDP2fWQIH90w9neaNid{height:60px;margin-top:auto;overflow:hidden;position:relative}.bASNd1dN1O9QZ5iKJ8iP{background-color:#000;height:60px;width:100%;z-index:1}.ko9CjxT_PKmXsJtR_cdP{background-position:50%;background-repeat:no-repeat;background-size:cover;filter:blur(13px);height:60px;width:100%}.jlcDHMBheAWRhn5kUf4J{display:flex;flex-direction:column;justify-content:center;position:absolute;top:10px;width:100%}.iuDAhXUjnBa1cMsg3cdL{font-size:.75rem;padding:0 5% 2px}.ByIfqlRWfjhVfIleS0mh,.iuDAhXUjnBa1cMsg3cdL{color:#fff;font-family:Roboto;font-weight:400}.ByIfqlRWfjhVfIleS0mh{font-size:.6rem;opacity:.8;padding:0 5%}.emLZaE0lHwPajLhOAPPz{background:#fff;border-top:.5px solid #efefef;bottom:0;display:flex;height:60px;justify-content:space-evenly;position:absolute;transform:translateY(0);transition:transform .2s ease-in;visibility:visible;width:100%;z-index:4}.KR8W3OJ5gm8QO0QxMWlE{transform:translateY(60px)}.s8Hbu3oUyCLFrqtUlElq{align-content:center;display:flex;flex-direction:column;font-size:.7rem;justify-content:space-evenly;padding:5px 0 0;width:20vw}.PvGMVW15Yr43JnBfJ5mo{stroke:#369af8;height:20px;margin:auto;width:20px}.ObNclfge8FY1rDqoo4Ek{height:21px;width:21px}.y22bE8yIhQdx6R8WU9MA{fill:#369af8}.xN2drUkThMPB4W2vvFBg{font-family:Roboto;font-size:11px;font-weight:300;margin:auto;opacity:.8}.L176gpObAVeiNGZJrOPr{display:flex;flex-direction:column;height:100%;justify-content:flex-end}.L176gpObAVeiNGZJrOPr iframe{border:none;bottom:0;height:calc(100vh - 40px);width:100%}.W8yQWf6lSyvwuSSFllBl{display:flex;flex-direction:column;height:100%;margin:0 auto;position:relative;user-select:none;width:100%}.MN9v2XfDqAeH5zlMwa1N{background-color:#ccc;background-position:50%;background-size:cover;height:42vh;margin:0;width:100%}.r32NBqR5k1F_0EofhGSs{display:none}.wQh96_o8w0gFnosb8_1M{color:#161616;font-family:Roboto;font-size:1rem;font-weight:400;line-height:1.3rem;margin:12px 5% 6px;opacity:.9;width:90%}.A_iBrs7Y7fyMfWG5slnA{color:#369af8!important}.Z0AFPE30c7YVyYwQ64iT{color:#585858;font-family:Roboto;font-size:.9rem;font-weight:300;line-height:1.35rem;margin:0 5%;opacity:.8;width:90%}.Y2RybaCLLu_Zyli1Lc7C{color:#c7c7c7;font-family:Roboto;font-size:.7rem;font-weight:400}.HlGGJ3QdEUYmqv02JDw6:before{content:\"\";-webkit-filter:blur(5px);-moz-filter:blur(5px);-o-filter:blur(5px);-ms-filter:blur(5px);filter:blur(5px);z-index:-1}.W1xLbcidoC451nYtkyyA{height:60px;margin-top:auto;overflow:hidden;position:relative}.HlGGJ3QdEUYmqv02JDw6{background-color:#000;height:60px;width:100%;z-index:1}.Yzu2M2jWpQC5rVRyno_K{background-position:50%;background-repeat:no-repeat;background-size:cover;filter:blur(13px);height:60px;width:100%}.BmVAJU0TXOJOT_EwJqaf{display:flex;flex-direction:column;justify-content:center;position:absolute;top:10px;width:100%}.mQBsGBWx7wtmfg7VeDEV{font-size:.75rem;padding:0 5% 2px}.mQBsGBWx7wtmfg7VeDEV,.q7MZqgyk7aZv0MgBu2Cw{color:#fff;font-family:Roboto;font-weight:400}.q7MZqgyk7aZv0MgBu2Cw{font-size:.6rem;opacity:.8;padding:0 5%}.ivzhJbts29pNnZW2lPLD{background:#fff;border-top:.5px solid #efefef;bottom:0;display:flex;height:60px;justify-content:space-evenly;position:absolute;transform:translateY(0);transition:transform .2s ease-in;visibility:visible;width:100%;z-index:4}.sikMNfOSnc0UuTdqetz8{transform:translateY(60px)}.uOTbrqNDstY2TenXZceD{align-content:center;display:flex;flex-direction:column;font-size:.7rem;justify-content:space-evenly;padding:5px 0 0;width:20vw}.cASn3xyH3AKWy_XBDtzR{stroke:#369af8;height:20px;margin:auto;width:20px}.rYQGCQ0gURqmmDrpxOP7{height:21px;width:21px}.kqnbugIb7zMJXpmpLYfX{fill:#369af8}.euHe1ZjycjV5Lgvju2du{font-family:Roboto;font-size:11px;font-weight:300;margin:auto;opacity:.8}.NoG_IpxXO8HpKmmmWdJz{display:flex;flex-direction:column;height:100%;justify-content:flex-end}.NoG_IpxXO8HpKmmmWdJz iframe{border:none;bottom:0;height:calc(100vh - 40px);width:100%}.FWz_GQh_PJtyy3k5QUB9{display:flex;flex-direction:column;height:100vh;pointer-events:none!important}.qaZKriyx6F7WfTfsjzih{height:90vh;position:absolute;width:100%;z-index:2}.FWz_GQh_PJtyy3k5QUB9 iframe{border:none;height:100vh;width:100%;z-index:1}.HoNAsmwj5WiOCzIl_V5y{background:#fff;border-top:.5px solid #efefef;bottom:0;display:flex;height:7.08vh;justify-content:space-evenly;width:100%;z-index:4}.cVbFpbvZMNKTOo8Z3R5z{align-content:center;display:flex;flex-direction:column;font-size:.7rem;justify-content:space-evenly;padding:5px 0 0;width:20vw}.KX817DouzJomUFBCDEY8{margin:auto;width:23px}.X1fLADBjinp4U6IrCjgA{margin:auto}.YS3mQOjr6SqmJiz01Nhm{align-items:center;display:flex;height:100%;justify-content:center}.Wcle6MhzV95QvUrS3eUg{stroke:#5e5e5e;height:10vw;width:10vw}.SdWrmErCPw6DM8ngcVhQ{display:flex;position:fixed;top:56px;width:100%;z-index:99}.zPiBf56ubBazArpJM34z{background:#0575de;border:none;border-radius:15px;color:#fff;font-size:.8em;margin:0 auto;padding:6px 30px}.GoyuRYYggZbwCh4N3SF4{background:#fff;display:flex;flex-direction:row;height:44px;justify-content:space-between;opacity:.9;position:fixed;transform:translateY(0);transition:transform .2s ease-in;width:100%;z-index:10}.SVHna9q9OEfcnRgsQApR{font-family:Roboto;font-size:17px;font-weight:400;opacity:.7;padding:12px 0 10px 4%}.SVHna9q9OEfcnRgsQApR a{align-items:center;color:#000;display:flex;height:15px;justify-content:center;padding:2px 0;text-decoration:none}.SVHna9q9OEfcnRgsQApR svg{height:21px;padding:0 5px 0 0;width:21px}.bKHBAZju47CtSCxnnJiA{display:flex;opacity:.7;padding:12px 15px 0 5px;width:22px}.bKHBAZju47CtSCxnnJiA svg{height:20px}.xpMb360v3V8aRnxX7_nL{transform:translateY(-48px)}.rotate{-webkit-animation:rotation 2s linear infinite;animation:rotation 2s linear infinite}@-webkit-keyframes rotation{0%{-webkit-transform:rotate(0deg)}to{-webkit-transform:rotate(359deg)}}.GdvP66uas3qtWfiwTzJA{background:#fff;display:flex;flex-direction:row;height:100vh;justify-content:center;width:100%}.IP5H8kvoqFD2VzjivCjL{margin-top:15vh;text-align:center}.SGu41FxpKdWxCZaS92UP{font-family:Roboto;font-size:1.2em;font-weight:600;opacity:.6;padding:30px}.RnthWsU1ntwBmPLv4TL5{font-family:Roboto;font-size:.95rem;font-weight:300;opacity:.8}.hmqlzvVkVI3g5oAM7z5I{display:flex;position:fixed;width:100%;z-index:10}.cOxPqxz7seajjZB0B6yg{background:#5e5e5e;border-radius:15px;color:#fff;font-family:Roboto;font-size:.7em;margin:0 auto;min-width:20vmin;padding:5px 15px;text-align:center}.KQ8c7A_9p7Ne_WlQK6u1{align-items:center;display:flex;flex-direction:column;height:100vh;width:100%}.mUnulQeKdK63Fa69JZZ7{font-family:Roboto;font-size:1.5em;font-weight:500;margin:25vh auto 0}.DP6324mRCgdCvUsRfCRU{background:#efefef;border-radius:10px;color:#1e90ff;font-family:Roboto;font-size:1.3em;font-weight:500;margin:10vh auto 0;padding:10px}.SEKBJoxxypE2fBd5SUBV{margin-top:10px;padding:10px 0 10px 4vw}.gTmhEZ7Xgoqp_4KmPls_{color:#545454;font-family:Roboto;font-size:.8rem;font-weight:600}.jQoWQ89N77X3dJ9dyEVz{border-bottom:2px solid #000;margin:10px 0 20px;width:25px}.bMNhhKUnCgUWXaemzXwy{-webkit-overflow-scrolling:touch;-ms-overflow-style:-ms-autohiding-scrollbar;color:#000;display:flex;flex-wrap:nowrap;font-size:.85rem;height:90px;list-style:none;overflow:auto;padding-bottom:15px;width:fit-content;z-index:2}.t46cOluEWhNQ9o7Stmjh{height:90px;overflow:hidden;z-index:2}._7dkJyItt63T9pwxVJDm{flex:0 0 auto;font-size:.6rem;margin:10px 14px 0;opacity:.6;text-align:center;width:22vmin}.HHIQhXi2Kj6vgCusbuuv{color:#369af8!important;font-size:.7rem;opacity:1!important}.ddLrNgMT8Boo2o_08lS9{background-repeat:no-repeat;background-size:contain;height:10vw;margin:0 auto 16px;max-height:50px;max-width:50px;width:10vw}.zHyJ0Y3qEtEAHjVCwkwV{font-family:Roboto;font-weight:600;opacity:.8;text-transform:uppercase}.tHIIbFUSXCgeKCk3d8n1{opacity:1!important}.W4ihOiEiLYUpNbXI4Nzu{overflow-x:scroll}.wHkAv9JwVuwWcb14tyvu{margin-top:10px;padding:10px 4vw}.eMulbovY9GDX2AycSt93{color:#585858;font-family:Roboto;font-size:.8rem;font-weight:600}.DCLQv2C_h2kTmxkcj1Mz{border-bottom:2px solid #585858;margin:10px 0 20px;width:25px}.ZMQoXdfSwbVDQtZv0MZw{display:flex;flex-flow:row wrap;font-family:Roboto;font-size:3.5vw;font-weight:500;justify-content:flex-start;list-style:none}.ZMQoXdfSwbVDQtZv0MZw>a{margin-right:1vw}.ZMQoXdfSwbVDQtZv0MZw>a:nth-child(3n){margin-right:0}.Xmblo6SyNQcS0VdU_DNK{background:#fff;background-color:#efefef;background-position:50% 50%;background-repeat:no-repeat;background-size:cover;border:.5px solid #8dc8ff;border-radius:5px;-webkit-box-shadow:0 4px 4px -3px #369af8;-moz-box-shadow:0 4px 4px -3px #369af8;box-shadow:0 4px 4px -3px #369af8;flex:0 0 0;margin:5px 0;min-height:38vw;min-width:29vw;position:relative;text-align:left}.drZaiyt6pS51aDwAuYLT{background:linear-gradient(0deg,#fff 0,#ffffff00);border-radius:4px;bottom:0;display:flex;flex-direction:column;height:10vh;justify-content:flex-end;margin:0 0 0 .5px;padding:0 0 0 .5px;position:absolute;width:calc(100% - 1px)}.drZaiyt6pS51aDwAuYLT span{margin:0 1vw 1.8vw 1.8vw}.P__F672AHgdZG7v_lCdI{background:#fff;border-bottom:.5px solid #efefef;display:flex;flex-direction:row;height:48px;justify-content:flex-end;position:fixed;top:0;width:100%;z-index:3}.bxrAUMAy1LAYgwslE3wP{font-size:17px}.bxrAUMAy1LAYgwslE3wP a{color:#000;display:flex;height:34px;padding:14px 10px 0 5px;text-decoration:none}.bxrAUMAy1LAYgwslE3wP svg{stroke:#369af8;height:20px}.wRS8O7sJW1hhVIX6LZOt{display:flex}.wRS8O7sJW1hhVIX6LZOt svg{stroke:#369af8;height:48px;width:27px}.wRS8O7sJW1hhVIX6LZOt a{padding:0 15px}.Fgiisq_WTc_Zgiu6kI_w{font-family:Roboto;font-size:16px;font-weight:400;margin-right:auto;opacity:.8;padding:15px 0 0 15px}.ci9NNhjQzHWMDgQ8qRwn{margin-top:48px;padding:30px 0 10px 4vw;position:relative}.WAwlrr2l7yfVTSOXAtKi{color:#545454;font-family:Roboto;font-size:.8rem;font-weight:600}.hsLGtbNUtINfPIlgShrN{border-bottom:2px solid #000;margin:10px 0 20px;width:25px}.kKcHmp3oY2rYB9kO9bV2{overflow:hidden;z-index:2}.ImLYkDSZSXIZHckdgsg9{-webkit-overflow-scrolling:touch;-ms-overflow-style:-ms-autohiding-scrollbar;align-items:center;flex-flow:nowrap;justify-items:flex-start;overflow:auto;padding-bottom:15px;z-index:2}.ImLYkDSZSXIZHckdgsg9::-webkit-scrollbar{display:none}.r2eG3x62RHZQP_ywJMx8{background-position:50%;background-size:cover;border:.5px solid #8dc8ff;border-radius:50%;-webkit-box-shadow:0 4px 4px -3px #369af8;-moz-box-shadow:0 4px 4px -3px #369af8;box-shadow:0 4px 4px -3px #369af8;display:inline-block;height:80px;margin:0 10px 20px;position:relative;width:80px}.r9mlYoQPShF04WPKUAt0{bottom:-30px;color:#696969;font-family:Roboto;font-size:.7rem;max-width:100%;overflow:hidden;position:absolute;text-align:center;text-overflow:ellipsis;white-space:nowrap;width:100%}.xUDC9db_l99M7bWx_BiM{background-blend-mode:luminosity;border-color:#ddd;box-shadow:0 4px 4px -3px #909090;-webkit-box-shadow:0 4px 4px -3px #909090;-moz-box-shadow:0 4px 4px -3px #909090}.dwF2GHioznKoRPnQrDOF{-webkit-animation:_ScdbRb6soU1EmjfECty 1s cubic-bezier(.75,.35,.25,.15) infinite;animation:_ScdbRb6soU1EmjfECty 1s cubic-bezier(.75,.35,.25,.15) infinite;border:8px solid #f1f1f1;border-top-color:#ddd;-webkit-box-shadow:unset;-moz-box-shadow:unset;box-shadow:unset;box-sizing:border-box}@-webkit-keyframes _ScdbRb6soU1EmjfECty{0%{-webkit-transform:rotate(0deg)}to{-webkit-transform:rotate(1turn)}}@keyframes _ScdbRb6soU1EmjfECty{0%{transform:rotate(0deg)}to{transform:rotate(1turn)}}.Wib4n2CQDD6UPfdotqxW{-webkit-overflow-scrolling:touch;-ms-overflow-style:-ms-autohiding-scrollbar;align-items:center;flex-flow:nowrap;justify-items:flex-start;overflow-x:scroll;padding-bottom:15px;z-index:20}.Wib4n2CQDD6UPfdotqxW::-webkit-scrollbar{display:none}.A3Bz9vSREo1VddXZPmMg{position:absolute;right:10px;top:30px}.A3Bz9vSREo1VddXZPmMg button{background:none;border:unset;color:#369af8}.A3Bz9vSREo1VddXZPmMg button.cd_1bHDcNoBI_6WnD71f{color:#bbb}.ozXxI18y8xl_bvbqGD_A{color:inherit;pointer-events:none;text-decoration:none}.GDCz6XzkCksq2BwQc2s8{display:flex;flex-direction:column}.cVLbzMK1naZUCrbITcCd{background:#f9f9f9;font-family:Roboto;margin-top:48px;min-height:calc(100vh - 48px)}._PVtKE6yo8WKWScOkEcg{background:#fff;display:flex;width:100%}.eyZ5qgnVp3WQxUW8Khpn{height:20px;padding:29px 4%;width:24px}.Gjg_etvCoDaqSsuFMpgZ{border-bottom:1px solid #efefef;display:flex;font-weight:400;justify-content:space-between;padding:25px 4% 25px 0;width:calc(88% - 24px)}.WGyybRUvhzYkIHNPSYCt{color:#585858;margin:auto 0;opacity:.7}.uUdOHHWxwG4oPGFM4PZL{-webkit-appearance:none;background-color:#fff;border-color:#fff;color:#369af8;font-size:1rem;height:27px;text-align-last:right}.Cm3T8SAXxwT05g1PEnm8{align-items:center;color:#369af8;display:flex}.Cm3T8SAXxwT05g1PEnm8 svg{height:20px;width:20px}.GYyON_kZarozPZGwER0k{color:#369af8;font-size:1rem}.MLUlJRVhjWEQB9BHS2sw{background:#f9f9f9;height:75px}.Z7HOCAgP5RP8E69EWjj0{color:#585858;font-weight:300;margin:auto 0;opacity:.6}.NXx9aehQpkKJOHG6Pcfm{background:#fff;border-bottom:.5px solid #efefef;display:flex;flex-direction:row;height:48px;position:fixed;top:0;width:100%;z-index:3}.oTJA5CKfg_tfKupCKBIa{align-items:center;display:flex;height:100%;position:absolute}.oTJA5CKfg_tfKupCKBIa svg{stroke:#369af8;height:48px;width:27px}.oTJA5CKfg_tfKupCKBIa a{padding:0 15px 0 10px}.iAMn1f97hDZUdjdohCts{font-family:Roboto;font-size:17px;font-weight:400;margin:auto;opacity:.8}.Zo9zZZacM8AphTey8lb6{background:#fff;bottom:0;height:100vh;left:0;position:fixed;right:0;top:0;width:100%;z-index:3}.ef3P2cEagE5hC3Hiy1aQ{background:unset;border:unset;color:#888;padding:0;position:absolute;right:20px;top:20px;z-index:999999}.IOvkDbn17Ter9ozFnNVh{border:0;margin:0;padding:0;transform-origin:left top;width:900px;z-index:99999}amp-story{color:#fff;font-family:Oswald,sans-serif}amp-story-page{background:linear-gradient(145deg,#4d4dd6,#a227a2)}h1{font-size:2.875em;font-weight:700;line-height:1.174}h1,p{font-weight:400}p{color:#fff;font-size:1.3em;line-height:1.5em}q{font-size:1.1em;font-weight:300}amp-story-grid-layer.zlGHJUcxWfjA0ZHNn_jV{align-content:end}amp-story-grid-layer.cdSckQ5mhay8w0QToqzf{padding:0}amp-story-grid-layer.OkvfTFeMkFk18NneWXjt{align-content:center}amp-img.a5LcXB7PY2cKhsSMfu6z img,amp-video.Qx3a92rGjppRcQ29uK_y video{object-fit:contain}.zQg2PmFhi3eJ7LZzcQbr{background-position:50%;background-repeat:no-repeat;background-size:100% auto}.zQg2PmFhi3eJ7LZzcQbr img{position:absolute;top:50%;transform:translateY(-50%);width:100%}.zDsSP2pOmoLwx5_3UD1f{display:grid;grid-template-columns:30% 70%}.zDsSP2pOmoLwx5_3UD1f div{grid-column-start:2}.zDsSP2pOmoLwx5_3UD1f div.i6sdqcpZr5DapGStL6Vy{grid-column-start:1}.lFn03fN29zsisIWYnUE2{background:#fff;display:flex;flex-direction:row;height:100vh;justify-content:center;width:100%}.LWGJ1WWEyy92CjFO8YIJ{margin-top:15vh;text-align:center}.BfSODipD5isqxAVyrHZY{font-family:Roboto;font-size:1.2em;font-weight:600;opacity:.6;padding:30px}.Dljnu3gdG1pkBNVzZSww{font-family:Roboto;font-size:.95rem;font-weight:300;opacity:.8}.eSvzzYtWlCqeFSHt_uZp{height:100vh;position:relative;width:100%}.cbQpYjDqEDr8GyVGUJ4o{align-items:center;background-color:hsla(0,0%,100%,.4);bottom:25vh;box-shadow:0 1px 5px #ddd;display:flex;height:10vh;justify-content:center;position:absolute;right:50px;width:20%}.oZirmKV6NNHV0fMbpmgf{color:#ccc;height:50%;width:50%}@media only screen and (max-width:320px){html{font-size:1rem}}@media only screen and (min-width:321px){html{font-size:1.05rem}}@media only screen and (min-width:361px){html{font-size:1.095rem}}@media only screen and (min-width:361px) and (min-height:800px){html{font-size:1.25rem}}@media only screen and (min-width:400px){html{font-size:1.2rem}}@media only screen and (min-width:480px){html{font-size:1.4rem}}@media only screen and (min-width:600px){html{font-size:1.6rem}}@media only screen and (min-width:720px){html{font-size:1.6rem}section{margin:auto;max-width:60vh!important}}@media only screen and (min-width:720px) and (min-height:1000px){html{font-size:1.6rem}}@media only screen and (min-width:900px){html{font-size:2.75vh}}progress::-webkit-progress-bar{background:transparent}progress::-webkit-progress-value{background:#1e90ff;transition:width 1s}*{-webkit-touch-callout:none;-webkit-tap-highlight-color:rgba(0,0,0,0);-khtml-tap-highlight-color:transparent;-moz-tap-highlight-color:transparent;-ms-tap-highlight-color:transparent;tap-highlight-color:transparent;outline:0;text-decoration:none;-webkit-user-select:none;-khtml-user-select:none;-moz-user-select:none;-ms-user-select:none;user-select:none}body,html{-webkit-overflow-scrolling:touch}body,li,ul{margin:0}li,ul{padding:0}a{color:inherit}</style><script defer=\"defer\" src=\"https://static.inshorts.com/inshorts-website/static_assets/bundle/2023/10_oct/14_sat/styles.31e1a4c9772f64ed5daa.bundle.js\"></script><script defer=\"defer\" src=\"https://static.inshorts.com/inshorts-website/static_assets/bundle/2023/10_oct/14_sat/576.f48b558416d4f448878b.bundle.js\"></script><script defer=\"defer\" src=\"https://static.inshorts.com/inshorts-website/static_assets/bundle/2023/10_oct/14_sat/123.a51f9f28f5316962684a.bundle.js\"></script><script defer=\"defer\" src=\"https://static.inshorts.com/inshorts-website/static_assets/bundle/2023/10_oct/14_sat/desktop.45d0ccbed9ecdf9d3163.bundle.js\"></script><script defer=\"defer\" src=\"https://static.inshorts.com/inshorts-website/static_assets/bundle/2023/10_oct/14_sat/firebase.fd4bc8dc34adf6e05ebe.bundle.js\"></script><link href=\"https://static.inshorts.com/inshorts-website/static_assets/bundle/2023/10_oct/14_sat/styles.116f786162575287b79d.css\" rel=\"stylesheet\"></head><body><div id=\"container\"><div><div><div class=\"YmiaDj0AgvaLdyATTxIg\"><div class=\"YKSmdW7nhWAEIbmQrJKw\"><div class=\"wve44NJUq8Gu603xj7mq\"><span></span><span></span><span></span><div class=\"lRsuatKUnsWLCEYTR9Iv\">Menu</div></div></div><a href=\"/\"><img src=\"https://assets.inshorts.com/website_assets/images/logo_inshorts.png\" alt=\"Inshorts\" class=\"iyAcz8Lj6UNLauiXVejL\" /></a></div><div style=\"width: 0px; padding: 0px;\" class=\"TxGxEsJgUqc68PmaBJpQ\"><div class=\"fakt5L8hmnoVjOHegIeA\"><div><div class=\"mDgjIwFjqvuRdzgiFhJK\"><a href=\"/en/read/sports\"><div class=\"viRdivpyo8BtJtvoV0Dm GGlzLjzDFPOZ4F8jkqsg\">English</div></a><a href=\"/hi/read/sports\"><div class=\"klG8752_ZK07jpIutmrg\">\\xe0\\xa4\\xb9\\xe0\\xa4\\xbf\\xe0\\xa4\\xa8\\xe0\\xa5\\x8d\\xe0\\xa4\\xa6\\xe0\\xa5\\x80</div></a></div><div class=\"ISiDKMugDRNFZ4Q1gwWb\">Categories</div></div></div></div></div><div class=\"_7GG_UWB536ZkrvplM16\"><div class=\"AoOfQHhuLzofnX5qGyZx\"><div class=\"gVBPun26EN5_KOnvxsFK\">For the best experience use <a target=\"_blank\" href=\"https://inshorts.com/mobile\" style=\"color:white;appearance: none;font-weight: 500;\">inshorts</a> app on your smartphone</div><div style=\"display: flex;\"><a target=\"_blank\" href=\"https://itunes.apple.com/us/app/news-in-shorts/id892146527\" style=\"display: flex;\"><img class=\"wEe4zHQAFfoZACC2SRFn\" src=\"https://assets.inshorts.com/website_assets/images/appstore.png\" height=\"52\" width=\"140\" alt=\"inshorts\" /></a><a target=\"_blank\" href=\"https://play.google.com/store/apps/details?id=com.nis.app&amp;referrer=utm_source%3DNews%2520In%2520Shorts%2520Website\" style=\"display: flex;\"><img class=\"wEe4zHQAFfoZACC2SRFn\" src=\"https://assets.inshorts.com/website_assets/images/playstore.png\" height=\"52\" width=\"140\" alt=\"inshorts\" /></a></div></div></div><div style=\"min-height: calc(100vh - 348px);\"><div><div itemscope itemtype=\"http://schema.org/NewsArticle\" class=\"PmX01nT74iM8UNAIENsC\"><span content itemscope itemprop=\"mainEntityOfPage\" itemType=\"https://schema.org/WebPage\" itemid=\"https://inshorts.com/en/news/australia-drop-to-bottom-of-world-cup-2023-points-table-after-afghanistans-historic-win-1697390226100\"></span><span itemtype=\"https://schema.org/Person\" itemscope=\"itemscope\" itemprop=\"author\"><span itemprop=\"name\" content=\"Anmol Sharma\"></span></span><span itemprop=\"description\" content=\"Australia drop to bottom of World Cup 2023 points table after Afghanistan\\'s historic win\"></span><span itemprop=\"image\" itemscope itemtype=\"https://schema.org/ImageObject\"><meta itemprop=\"url\" content=\"https://static.inshorts.com/inshorts/images/v1/variants/jpg/m/2023/10_oct/15_sun/img_1697388390996_317.jpg?\" /><meta itemprop=\"width\" content=\"864\" /><meta itemprop=\"height\" content=\"483\" /></span><span itemtype=\"https://schema.org/Organization\" itemscope=\"itemscope\" itemprop=\"publisher\"><span itemprop=\"url\" content=\"https://inshorts.com/\"></span><span itemprop=\"name\" content=\"Inshorts\"></span><span itemprop=\"logo\" itemscope itemtype=\"https://schema.org/ImageObject\"><span itemprop=\"url\" content=\"https://assets.inshorts.com/inshorts/images/v1/variants/jpg/m/2018/11_nov/21_wed/img_1542823931298_497.jpg\"></span><meta itemprop=\"width\" content=\"400\" /><meta itemprop=\"height\" content=\"60\" /></span></span><div class=\"r_CK6OaFsecGqhiNxLQR + GXPWASMx93K0ajwCIcCA + YBIB_aAKmJgaGzjjCtWh\"><div style=\"background-image: url(https://static.inshorts.com/inshorts/images/v1/variants/jpg/xs/2023/10_oct/15_sun/img_1697388390996_317.jpg?)\" class=\"GXPWASMx93K0ajwCIcCA\"></div></div><div class=\"LUWdd1C_3UqqulVsopn0\"><div><div><div><span itemprop=\"headline\" class=\"ddVzQcwl2yPlFt4fteIE\">Australia drop to bottom of World Cup 2023 points table after Afghanistan\\'s historic win</span></div><div class=\"E3pJPegn7xWCOvv3BEcf\"><a href=\"/prev/en/news/australia-drop-to-bottom-of-world-cup-2023-points-table-after-afghanistans-historic-win-1697390226100\"><span class=\"f6VR90cMLekcKLeFCS1J\">short</span></a> by <span class=\"author\">Anmol Sharma</span> /<span itemprop=\"datePublished\" content=\"2023-10-15T17:17:06.000Z\"> 05:17 pm</span> on <span clas=\"date\">Sunday, 15 October, 2023</span></div></div><div><div itemprop=\"articleBody\" class=\"KkupEonoVHxNv4A_D7UG\">Five-time champions Australia have dropped to the bottom of the ODI World Cup 2023 points table after Afghanistan registered a historic win against England in the tournament on Sunday. Afghanistan have jumped to the sixth position with two points and a net run-rate of -0.652. England are placed fifth, while hosts India are on top of the table.</div></div></div><div><div class=\"VW4Ta0ioG_64Xx1ROszP\">read more at <a target=\"_blank\" href=\"https://www.cricketworldcup.com/standings?utm_campaign=fullarticle&amp;utm_medium=referral&amp;utm_source=inshorts\" class=\"LFn0sRS51HkFD0OHeCdA\">Cricket World Cup</a></div></div></div></div></div><div><div itemscope itemtype=\"http://schema.org/NewsArticle\" class=\"PmX01nT74iM8UNAIENsC\"><span content itemscope itemprop=\"mainEntityOfPage\" itemType=\"https://schema.org/WebPage\" itemid=\"https://inshorts.com/en/news/afghanistan-outplayed-england-in-every-department-irfan-pathan-1697390037870\"></span><span itemtype=\"https://schema.org/Person\" itemscope=\"itemscope\" itemprop=\"author\"><span itemprop=\"name\" content=\"Udit Gupta\"></span></span><span itemprop=\"description\" content=\"Afghanistan outplayed England in every department: Irfan Pathan \"></span><span itemprop=\"image\" itemscope itemtype=\"https://schema.org/ImageObject\"><meta itemprop=\"url\" content=\"https://static.inshorts.com/inshorts/images/v1/variants/jpg/m/2023/10_oct/15_sun/img_1697388817714_877.jpg?\" /><meta itemprop=\"width\" content=\"864\" /><meta itemprop=\"height\" content=\"483\" /></span><span itemtype=\"https://schema.org/Organization\" itemscope=\"itemscope\" itemprop=\"publisher\"><span itemprop=\"url\" content=\"https://inshorts.com/\"></span><span itemprop=\"name\" content=\"Inshorts\"></span><span itemprop=\"logo\" itemscope itemtype=\"https://schema.org/ImageObject\"><span itemprop=\"url\" content=\"https://assets.inshorts.com/inshorts/images/v1/variants/jpg/m/2018/11_nov/21_wed/img_1542823931298_497.jpg\"></span><meta itemprop=\"width\" content=\"400\" /><meta itemprop=\"height\" content=\"60\" /></span></span><div class=\"r_CK6OaFsecGqhiNxLQR + GXPWASMx93K0ajwCIcCA + YBIB_aAKmJgaGzjjCtWh\"><div style=\"background-image: url(https://static.inshorts.com/inshorts/images/v1/variants/jpg/xs/2023/10_oct/15_sun/img_1697388817714_877.jpg?)\" class=\"GXPWASMx93K0ajwCIcCA\"></div></div><div class=\"LUWdd1C_3UqqulVsopn0\"><div><div><div><span itemprop=\"headline\" class=\"ddVzQcwl2yPlFt4fteIE\">Afghanistan outplayed England in every department: Irfan Pathan </span></div><div class=\"E3pJPegn7xWCOvv3BEcf\"><a href=\"/prev/en/news/afghanistan-outplayed-england-in-every-department-irfan-pathan-1697390037870\"><span class=\"f6VR90cMLekcKLeFCS1J\">short</span></a> by <span class=\"author\">Udit Gupta</span> /<span itemprop=\"datePublished\" content=\"2023-10-15T17:13:57.000Z\"> 05:13 pm</span> on <span clas=\"date\">Sunday, 15 October, 2023</span></div></div><div><div itemprop=\"articleBody\" class=\"KkupEonoVHxNv4A_D7UG\">Reacting to Afghanistan defeating England by 69 runs in ODI World Cup 2023, former India all-rounder Irfan Pathan tweeted, &quot;Bahot mubarak Apko Afghanistan (Congratulations to Afghanistan).&quot; &quot;You outplayed England in every department,&quot; he added. Irfan also praised their bowling performance, writing, &quot;Bowling has been top-notch from Afghans.&quot; \\n</div></div></div><div><div class=\"VW4Ta0ioG_64Xx1ROszP\">read more at <a target=\"_blank\" href=\"https://x.com/IrfanPathan/status/1713585455009038623?s=20&amp;utm_campaign=fullarticle&amp;utm_medium=referral&amp;utm_source=inshorts\" class=\"LFn0sRS51HkFD0OHeCdA\">X </a></div></div></div></div></div><div><div itemscope itemtype=\"http://schema.org/NewsArticle\" class=\"PmX01nT74iM8UNAIENsC\"><span content itemscope itemprop=\"mainEntityOfPage\" itemType=\"https://schema.org/WebPage\" itemid=\"https://inshorts.com/en/news/hope-youre-ok-vaughan-jaffer-after-afghanistan-defeat-eng-in-wc-1697389782765\"></span><span itemtype=\"https://schema.org/Person\" itemscope=\"itemscope\" itemprop=\"author\"><span itemprop=\"name\" content=\"Udit Gupta\"></span></span><span itemprop=\"description\" content=\"Hope you\\'re ok Vaughan: Jaffer after Afghanistan defeat Eng in WC \"></span><span itemprop=\"image\" itemscope itemtype=\"https://schema.org/ImageObject\"><meta itemprop=\"url\" content=\"https://static.inshorts.com/inshorts/images/v1/variants/jpg/m/2023/10_oct/15_sun/img_1697388048751_558.jpg?\" /><meta itemprop=\"width\" content=\"864\" /><meta itemprop=\"height\" content=\"483\" /></span><span itemtype=\"https://schema.org/Organization\" itemscope=\"itemscope\" itemprop=\"publisher\"><span itemprop=\"url\" content=\"https://inshorts.com/\"></span><span itemprop=\"name\" content=\"Inshorts\"></span><span itemprop=\"logo\" itemscope itemtype=\"https://schema.org/ImageObject\"><span itemprop=\"url\" content=\"https://assets.inshorts.com/inshorts/images/v1/variants/jpg/m/2018/11_nov/21_wed/img_1542823931298_497.jpg\"></span><meta itemprop=\"width\" content=\"400\" /><meta itemprop=\"height\" content=\"60\" /></span></span><div class=\"r_CK6OaFsecGqhiNxLQR + GXPWASMx93K0ajwCIcCA + YBIB_aAKmJgaGzjjCtWh\"><div style=\"background-image: url(https://static.inshorts.com/inshorts/images/v1/variants/jpg/xs/2023/10_oct/15_sun/img_1697388048751_558.jpg?)\" class=\"GXPWASMx93K0ajwCIcCA\"></div></div><div class=\"LUWdd1C_3UqqulVsopn0\"><div><div><div><span itemprop=\"headline\" class=\"ddVzQcwl2yPlFt4fteIE\">Hope you\\'re ok Vaughan: Jaffer after Afghanistan defeat Eng in WC </span></div><div class=\"E3pJPegn7xWCOvv3BEcf\"><a href=\"/prev/en/news/hope-youre-ok-vaughan-jaffer-after-afghanistan-defeat-eng-in-wc-1697389782765\"><span class=\"f6VR90cMLekcKLeFCS1J\">short</span></a> by <span class=\"author\">Udit Gupta</span> /<span itemprop=\"datePublished\" content=\"2023-10-15T17:09:42.000Z\"> 05:09 pm</span> on <span clas=\"date\">Sunday, 15 October, 2023</span></div></div><div><div itemprop=\"articleBody\" class=\"KkupEonoVHxNv4A_D7UG\">After Afghanistan defeated England in the ODI World Cup 2023, ex-India cricketer Wasim Jaffer wrote on X, &quot;Hope you\\'re okay, Michael Vaughan (former England captain).&quot; Reacting to his tweet, a user wrote, &quot;What a perfect match it was, @MichaelVaughan will be disappointed.&quot; Another user wrote, &quot;England will remember this for long time. Congrats Afghanistan.&quot;\\n </div></div></div><div><div class=\"VW4Ta0ioG_64Xx1ROszP\">read more at <a target=\"_blank\" href=\"https://x.com/WasimJaffer14/status/1713586659726622902?s=20&amp;utm_campaign=fullarticle&amp;utm_medium=referral&amp;utm_source=inshorts\" class=\"LFn0sRS51HkFD0OHeCdA\">X </a></div></div></div></div></div><div><div itemscope itemtype=\"http://schema.org/NewsArticle\" class=\"PmX01nT74iM8UNAIENsC\"><span content itemscope itemprop=\"mainEntityOfPage\" itemType=\"https://schema.org/WebPage\" itemid=\"https://inshorts.com/en/news/rajeev-shukla-reacts-to-afghanistan-beating-england-in-world-cup-says-is-the-news-true-1697388698338\"></span><span itemtype=\"https://schema.org/Person\" itemscope=\"itemscope\" itemprop=\"author\"><span itemprop=\"name\" content=\"Anmol Sharma\"></span></span><span itemprop=\"description\" content=\"Rajeev Shukla reacts to Afghanistan beating England in World Cup, says \\'Is the news true?\\'\"></span><span itemprop=\"image\" itemscope itemtype=\"https://schema.org/ImageObject\"><meta itemprop=\"url\" content=\"https://static.inshorts.com/inshorts/images/v1/variants/jpg/m/2023/10_oct/15_sun/img_1697387974254_822.jpg?\" /><meta itemprop=\"width\" content=\"864\" /><meta itemprop=\"height\" content=\"483\" /></span><span itemtype=\"https://schema.org/Organization\" itemscope=\"itemscope\" itemprop=\"publisher\"><span itemprop=\"url\" content=\"https://inshorts.com/\"></span><span itemprop=\"name\" content=\"Inshorts\"></span><span itemprop=\"logo\" itemscope itemtype=\"https://schema.org/ImageObject\"><span itemprop=\"url\" content=\"https://assets.inshorts.com/inshorts/images/v1/variants/jpg/m/2018/11_nov/21_wed/img_1542823931298_497.jpg\"></span><meta itemprop=\"width\" content=\"400\" /><meta itemprop=\"height\" content=\"60\" /></span></span><div class=\"r_CK6OaFsecGqhiNxLQR + GXPWASMx93K0ajwCIcCA + YBIB_aAKmJgaGzjjCtWh\"><div style=\"background-image: url(https://static.inshorts.com/inshorts/images/v1/variants/jpg/xs/2023/10_oct/15_sun/img_1697387974254_822.jpg?)\" class=\"GXPWASMx93K0ajwCIcCA\"></div></div><div class=\"LUWdd1C_3UqqulVsopn0\"><div><div><div><span itemprop=\"headline\" class=\"ddVzQcwl2yPlFt4fteIE\">Rajeev Shukla reacts to Afghanistan beating England in World Cup, says \\'Is the news true?\\'</span></div><div class=\"E3pJPegn7xWCOvv3BEcf\"><a href=\"/prev/en/news/rajeev-shukla-reacts-to-afghanistan-beating-england-in-world-cup-says-is-the-news-true-1697388698338\"><span class=\"f6VR90cMLekcKLeFCS1J\">short</span></a> by <span class=\"author\">Anmol Sharma</span> /<span itemprop=\"datePublished\" content=\"2023-10-15T16:51:38.000Z\"> 04:51 pm</span> on <span clas=\"date\">Sunday, 15 October, 2023</span></div></div><div><div itemprop=\"articleBody\" class=\"KkupEonoVHxNv4A_D7UG\">BCCI Vice-President Rajeev Shukla took to X to react to Afghanistan defeating England in their ODI World Cup 2023 match in Delhi on Sunday. &quot;Have Afghanistan defeated England? Amazing! Is the news true? This is why cricket is fun,&quot; he wrote. Afghanistan recorded their first-ever win over England in international cricket history.</div></div></div><div><div class=\"VW4Ta0ioG_64Xx1ROszP\">read more at <a target=\"_blank\" href=\"https://twitter.com/ShuklaRajiv/status/1713588938508812522?utm_campaign=fullarticle&amp;utm_medium=referral&amp;utm_source=inshorts\" class=\"LFn0sRS51HkFD0OHeCdA\">X</a></div></div></div></div></div><div><div itemscope itemtype=\"http://schema.org/NewsArticle\" class=\"PmX01nT74iM8UNAIENsC\"><span content itemscope itemprop=\"mainEntityOfPage\" itemType=\"https://schema.org/WebPage\" itemid=\"https://inshorts.com/en/news/kohli-and-narines-lookalikes-spotted-watching-englandafghanistan-match-pic-viral-1697387942003\"></span><span itemtype=\"https://schema.org/Person\" itemscope=\"itemscope\" itemprop=\"author\"><span itemprop=\"name\" content=\"Anmol Sharma\"></span></span><span itemprop=\"description\" content=\"Kohli and Narine\\'s lookalikes spotted watching England-Afghanistan match, pic viral\"></span><span itemprop=\"image\" itemscope itemtype=\"https://schema.org/ImageObject\"><meta itemprop=\"url\" content=\"https://static.inshorts.com/inshorts/images/v1/variants/jpg/m/2023/10_oct/15_sun/img_1697386870702_479.jpg?\" /><meta itemprop=\"width\" content=\"864\" /><meta itemprop=\"height\" content=\"483\" /></span><span itemtype=\"https://schema.org/Organization\" itemscope=\"itemscope\" itemprop=\"publisher\"><span itemprop=\"url\" content=\"https://inshorts.com/\"></span><span itemprop=\"name\" content=\"Inshorts\"></span><span itemprop=\"logo\" itemscope itemtype=\"https://schema.org/ImageObject\"><span itemprop=\"url\" content=\"https://assets.inshorts.com/inshorts/images/v1/variants/jpg/m/2018/11_nov/21_wed/img_1542823931298_497.jpg\"></span><meta itemprop=\"width\" content=\"400\" /><meta itemprop=\"height\" content=\"60\" /></span></span><div class=\"r_CK6OaFsecGqhiNxLQR + GXPWASMx93K0ajwCIcCA + YBIB_aAKmJgaGzjjCtWh\"><div style=\"background-image: url(https://static.inshorts.com/inshorts/images/v1/variants/jpg/xs/2023/10_oct/15_sun/img_1697386870702_479.jpg?)\" class=\"GXPWASMx93K0ajwCIcCA\"></div></div><div class=\"LUWdd1C_3UqqulVsopn0\"><div><div><div><span itemprop=\"headline\" class=\"ddVzQcwl2yPlFt4fteIE\">Kohli and Narine\\'s lookalikes spotted watching England-Afghanistan match, pic viral</span></div><div class=\"E3pJPegn7xWCOvv3BEcf\"><a href=\"/prev/en/news/kohli-and-narines-lookalikes-spotted-watching-englandafghanistan-match-pic-viral-1697387942003\"><span class=\"f6VR90cMLekcKLeFCS1J\">short</span></a> by <span class=\"author\">Anmol Sharma</span> /<span itemprop=\"datePublished\" content=\"2023-10-15T16:39:02.000Z\"> 04:39 pm</span> on <span clas=\"date\">Sunday, 15 October, 2023</span></div></div><div><div itemprop=\"articleBody\" class=\"KkupEonoVHxNv4A_D7UG\">Virat Kohli and Sunil Narine\\'s lookalikes were spotted watching the England-Afghanistan ODI World Cup 2023 match in Delhi, with a picture going viral on social media. Reacting to the picture, an X user wrote, &quot;Virat bhai rooting for Naveen Ul Haq, unreal growth in friendship.&quot; Another joked, &quot;They are parody accounts of Virat Kohli and Sunil Narine.&quot;</div></div></div><div><div class=\"VW4Ta0ioG_64Xx1ROszP\">read more at <a target=\"_blank\" href=\"https://www.crictracker.com/cricket-live-feeds/live-updates-afghanistan-vs-england-13th-odi-world-cup-match-2023-real-time-scorecard-news-memes-injuries-and-more-updates/?ct-lid=652c05af741783735c122011/&amp;utm_campaign=fullarticle&amp;utm_medium=referral&amp;utm_source=inshorts\" class=\"LFn0sRS51HkFD0OHeCdA\">CricTracker</a></div></div></div></div></div><div><div itemscope itemtype=\"http://schema.org/NewsArticle\" class=\"PmX01nT74iM8UNAIENsC\"><span content itemscope itemprop=\"mainEntityOfPage\" itemType=\"https://schema.org/WebPage\" itemid=\"https://inshorts.com/en/news/afghanistan-defeat-defending-champions-england-in-world-cup-register-historic-win-1697385612445\"></span><span itemtype=\"https://schema.org/Person\" itemscope=\"itemscope\" itemprop=\"author\"><span itemprop=\"name\" content=\"Anmol Sharma\"></span></span><span itemprop=\"description\" content=\"Afghanistan defeat defending champions England in World Cup, register historic win\"></span><span itemprop=\"image\" itemscope itemtype=\"https://schema.org/ImageObject\"><meta itemprop=\"url\" content=\"https://static.inshorts.com/inshorts/images/v1/variants/jpg/m/2023/10_oct/15_sun/img_1697383492446_39.jpg?\" /><meta itemprop=\"width\" content=\"864\" /><meta itemprop=\"height\" content=\"483\" /></span><span itemtype=\"https://schema.org/Organization\" itemscope=\"itemscope\" itemprop=\"publisher\"><span itemprop=\"url\" content=\"https://inshorts.com/\"></span><span itemprop=\"name\" content=\"Inshorts\"></span><span itemprop=\"logo\" itemscope itemtype=\"https://schema.org/ImageObject\"><span itemprop=\"url\" content=\"https://assets.inshorts.com/inshorts/images/v1/variants/jpg/m/2018/11_nov/21_wed/img_1542823931298_497.jpg\"></span><meta itemprop=\"width\" content=\"400\" /><meta itemprop=\"height\" content=\"60\" /></span></span><div class=\"r_CK6OaFsecGqhiNxLQR + GXPWASMx93K0ajwCIcCA + YBIB_aAKmJgaGzjjCtWh\"><div style=\"background-image: url(https://static.inshorts.com/inshorts/images/v1/variants/jpg/xs/2023/10_oct/15_sun/img_1697383492446_39.jpg?)\" class=\"GXPWASMx93K0ajwCIcCA\"></div></div><div class=\"LUWdd1C_3UqqulVsopn0\"><div><div><div><span itemprop=\"headline\" class=\"ddVzQcwl2yPlFt4fteIE\">Afghanistan defeat defending champions England in World Cup, register historic win</span></div><div class=\"E3pJPegn7xWCOvv3BEcf\"><a href=\"/prev/en/news/afghanistan-defeat-defending-champions-england-in-world-cup-register-historic-win-1697385612445\"><span class=\"f6VR90cMLekcKLeFCS1J\">short</span></a> by <span class=\"author\">Anmol Sharma</span> /<span itemprop=\"datePublished\" content=\"2023-10-15T16:00:12.000Z\"> 04:00 pm</span> on <span clas=\"date\">Sunday, 15 October, 2023</span></div></div><div><div itemprop=\"articleBody\" class=\"KkupEonoVHxNv4A_D7UG\">Afghanistan defeated defending champions England by 69 runs to register their first victory in ODI World Cup 2023. This is the first time that Afghanistan have beaten England in international cricket history. Overall, it is Afghanistan\\'s second victory in 18 matches in the history of ODI World Cup.</div></div></div><div><div class=\"VW4Ta0ioG_64Xx1ROszP\">read more at <a target=\"_blank\" href=\"https://www.espncricinfo.com/series/icc-cricket-world-cup-2023-24-1367856/afghanistan-vs-england-13th-match-1384404/live-cricket-score?utm_campaign=fullarticle&amp;utm_medium=referral&amp;utm_source=inshorts\" class=\"LFn0sRS51HkFD0OHeCdA\">ESPNcricinfo</a></div></div></div></div></div><div><div itemscope itemtype=\"http://schema.org/NewsArticle\" class=\"PmX01nT74iM8UNAIENsC\"><span content itemscope itemprop=\"mainEntityOfPage\" itemType=\"https://schema.org/WebPage\" itemid=\"https://inshorts.com/en/news/if-you-cant-win-then-at-least-compete-ramiz-on-paks-loss-to-ind-1697384507065\"></span><span itemtype=\"https://schema.org/Person\" itemscope=\"itemscope\" itemprop=\"author\"><span itemprop=\"name\" content=\"Udit Gupta\"></span></span><span itemprop=\"description\" content=\"If you can\\'t win then at least compete: Ramiz on Pak\\'s loss to Ind\"></span><span itemprop=\"image\" itemscope itemtype=\"https://schema.org/ImageObject\"><meta itemprop=\"url\" content=\"https://static.inshorts.com/inshorts/images/v1/variants/jpg/m/2023/10_oct/15_sun/img_1697380232481_444.jpg?\" /><meta itemprop=\"width\" content=\"864\" /><meta itemprop=\"height\" content=\"483\" /></span><span itemtype=\"https://schema.org/Organization\" itemscope=\"itemscope\" itemprop=\"publisher\"><span itemprop=\"url\" content=\"https://inshorts.com/\"></span><span itemprop=\"name\" content=\"Inshorts\"></span><span itemprop=\"logo\" itemscope itemtype=\"https://schema.org/ImageObject\"><span itemprop=\"url\" content=\"https://assets.inshorts.com/inshorts/images/v1/variants/jpg/m/2018/11_nov/21_wed/img_1542823931298_497.jpg\"></span><meta itemprop=\"width\" content=\"400\" /><meta itemprop=\"height\" content=\"60\" /></span></span><div class=\"r_CK6OaFsecGqhiNxLQR + GXPWASMx93K0ajwCIcCA + YBIB_aAKmJgaGzjjCtWh\"><div style=\"background-image: url(https://static.inshorts.com/inshorts/images/v1/variants/jpg/xs/2023/10_oct/15_sun/img_1697380232481_444.jpg?)\" class=\"GXPWASMx93K0ajwCIcCA\"></div></div><div class=\"LUWdd1C_3UqqulVsopn0\"><div><div><div><span itemprop=\"headline\" class=\"ddVzQcwl2yPlFt4fteIE\">If you can\\'t win then at least compete: Ramiz on Pak\\'s loss to Ind</span></div><div class=\"E3pJPegn7xWCOvv3BEcf\"><a href=\"/prev/en/news/if-you-cant-win-then-at-least-compete-ramiz-on-paks-loss-to-ind-1697384507065\"><span class=\"f6VR90cMLekcKLeFCS1J\">short</span></a> by <span class=\"author\">Udit Gupta</span> /<span itemprop=\"datePublished\" content=\"2023-10-15T15:41:47.000Z\"> 03:41 pm</span> on <span clas=\"date\">Sunday, 15 October, 2023</span></div></div><div><div itemprop=\"articleBody\" class=\"KkupEonoVHxNv4A_D7UG\">Ex-Pakistan Cricket Board (PCB) chief Ramiz Raja termed Pakistan\\'s defeat against India in the ICC World Cup 2023 as &quot;scarring&quot;. &quot;They\\'ve been outpaced and outplayed in all the three departments...If you can\\'t win, then at least compete. Pakistan weren\\'t able to do that,&quot; he added. Ramiz also credited India for handling the pressure &quot;so well&quot;. \\n</div></div></div><div><div class=\"VW4Ta0ioG_64Xx1ROszP\">read more at <a target=\"_blank\" href=\"https://www.freepressjournal.in/amp/sports/if-you-cant-win-then-at-least-compete-ramiz-raja-tears-into-pakistan-after-scarring-loss-vs-india-in-cwc-2023?utm_campaign=fullarticle&amp;utm_medium=referral&amp;utm_source=inshorts\" class=\"LFn0sRS51HkFD0OHeCdA\">Free Press Journal</a></div></div></div></div></div><div><div itemscope itemtype=\"http://schema.org/NewsArticle\" class=\"PmX01nT74iM8UNAIENsC\"><span content itemscope itemprop=\"mainEntityOfPage\" itemType=\"https://schema.org/WebPage\" itemid=\"https://inshorts.com/en/news/sam-curran-shoves-cameraman-in-anger-after-giving-away-20-runs-in-an-over-video-viral-1697382645803\"></span><span itemtype=\"https://schema.org/Person\" itemscope=\"itemscope\" itemprop=\"author\"><span itemprop=\"name\" content=\"Anmol Sharma\"></span></span><span itemprop=\"description\" content=\"Sam Curran shoves cameraman in anger after giving away 20 runs in an over, video viral\"></span><span itemprop=\"image\" itemscope itemtype=\"https://schema.org/ImageObject\"><meta itemprop=\"url\" content=\"https://static.inshorts.com/inshorts/images/v1/variants/jpg/m/2023/10_oct/15_sun/img_1697382100052_518.jpg?\" /><meta itemprop=\"width\" content=\"864\" /><meta itemprop=\"height\" content=\"483\" /></span><span itemtype=\"https://schema.org/Organization\" itemscope=\"itemscope\" itemprop=\"publisher\"><span itemprop=\"url\" content=\"https://inshorts.com/\"></span><span itemprop=\"name\" content=\"Inshorts\"></span><span itemprop=\"logo\" itemscope itemtype=\"https://schema.org/ImageObject\"><span itemprop=\"url\" content=\"https://assets.inshorts.com/inshorts/images/v1/variants/jpg/m/2018/11_nov/21_wed/img_1542823931298_497.jpg\"></span><meta itemprop=\"width\" content=\"400\" /><meta itemprop=\"height\" content=\"60\" /></span></span><div class=\"r_CK6OaFsecGqhiNxLQR + GXPWASMx93K0ajwCIcCA + YBIB_aAKmJgaGzjjCtWh\"><div style=\"background-image: url(https://static.inshorts.com/inshorts/images/v1/variants/jpg/xs/2023/10_oct/15_sun/img_1697382100052_518.jpg?)\" class=\"GXPWASMx93K0ajwCIcCA\"></div></div><div class=\"LUWdd1C_3UqqulVsopn0\"><div><div><div><span itemprop=\"headline\" class=\"ddVzQcwl2yPlFt4fteIE\">Sam Curran shoves cameraman in anger after giving away 20 runs in an over, video viral</span></div><div class=\"E3pJPegn7xWCOvv3BEcf\"><a href=\"/prev/en/news/sam-curran-shoves-cameraman-in-anger-after-giving-away-20-runs-in-an-over-video-viral-1697382645803\"><span class=\"f6VR90cMLekcKLeFCS1J\">short</span></a> by <span class=\"author\">Anmol Sharma</span> /<span itemprop=\"datePublished\" content=\"2023-10-15T15:10:45.000Z\"> 03:10 pm</span> on <span clas=\"date\">Sunday, 15 October, 2023</span></div></div><div><div itemprop=\"articleBody\" class=\"KkupEonoVHxNv4A_D7UG\">England all-rounder Sam Curran shoved cameraman in anger after giving away 20 runs in an over against Afghanistan in their ODI World Cup 2023 match on Sunday. A video of the same has gone viral. Curran was fielding in the deep following the 20-run over. The cameraman came close to Curran, who then pushed the equipment with his right hand.</div></div></div><div><div class=\"VW4Ta0ioG_64Xx1ROszP\">read more at <a target=\"_blank\" href=\"https://wisden.com/series-stories/cricket-world-cup-2023/watch-sam-curran-pushes-away-camera-two-balls-after-20-run-over-cwc-2023/amp?utm_campaign=fullarticle&amp;utm_medium=referral&amp;utm_source=inshorts\" class=\"LFn0sRS51HkFD0OHeCdA\">Wisden</a></div></div></div></div></div><div><div itemscope itemtype=\"http://schema.org/NewsArticle\" class=\"PmX01nT74iM8UNAIENsC\"><span content itemscope itemprop=\"mainEntityOfPage\" itemType=\"https://schema.org/WebPage\" itemid=\"https://inshorts.com/en/news/babar-rizwan-were-timid-didnt-take-any-chances-hardik-pandya-1697379107565\"></span><span itemtype=\"https://schema.org/Person\" itemscope=\"itemscope\" itemprop=\"author\"><span itemprop=\"name\" content=\"Udit Gupta\"></span></span><span itemprop=\"description\" content=\"Babar &amp; Rizwan were timid, didn\\'t take any chances: Hardik Pandya\"></span><span itemprop=\"image\" itemscope itemtype=\"https://schema.org/ImageObject\"><meta itemprop=\"url\" content=\"https://static.inshorts.com/inshorts/images/v1/variants/jpg/m/2023/10_oct/15_sun/img_1697376582627_887.jpg?\" /><meta itemprop=\"width\" content=\"864\" /><meta itemprop=\"height\" content=\"483\" /></span><span itemtype=\"https://schema.org/Organization\" itemscope=\"itemscope\" itemprop=\"publisher\"><span itemprop=\"url\" content=\"https://inshorts.com/\"></span><span itemprop=\"name\" content=\"Inshorts\"></span><span itemprop=\"logo\" itemscope itemtype=\"https://schema.org/ImageObject\"><span itemprop=\"url\" content=\"https://assets.inshorts.com/inshorts/images/v1/variants/jpg/m/2018/11_nov/21_wed/img_1542823931298_497.jpg\"></span><meta itemprop=\"width\" content=\"400\" /><meta itemprop=\"height\" content=\"60\" /></span></span><div class=\"r_CK6OaFsecGqhiNxLQR + GXPWASMx93K0ajwCIcCA + YBIB_aAKmJgaGzjjCtWh\"><div style=\"background-image: url(https://static.inshorts.com/inshorts/images/v1/variants/jpg/xs/2023/10_oct/15_sun/img_1697376582627_887.jpg?)\" class=\"GXPWASMx93K0ajwCIcCA\"></div></div><div class=\"LUWdd1C_3UqqulVsopn0\"><div><div><div><span itemprop=\"headline\" class=\"ddVzQcwl2yPlFt4fteIE\">Babar &amp; Rizwan were timid, didn\\'t take any chances: Hardik Pandya</span></div><div class=\"E3pJPegn7xWCOvv3BEcf\"><a href=\"/prev/en/news/babar-rizwan-were-timid-didnt-take-any-chances-hardik-pandya-1697379107565\"><span class=\"f6VR90cMLekcKLeFCS1J\">short</span></a> by <span class=\"author\">Udit Gupta</span> /<span itemprop=\"datePublished\" content=\"2023-10-15T14:11:47.000Z\"> 02:11 pm</span> on <span clas=\"date\">Sunday, 15 October, 2023</span></div></div><div><div itemprop=\"articleBody\" class=\"KkupEonoVHxNv4A_D7UG\">India all-rounder Hardik Pandya said that Pakistan batters Babar Azam and Muhammad Rizwan &quot;were timid&quot; while playing against them on Saturday in Ahmedabad. &quot;They didn\\'t take any chances, which is why we thought we were always in...game,&quot; he added. &quot;They didn\\'t try going for shots or attack us, which is why we were able to bowl dot balls,&quot; said Hardik.\\n</div></div></div><div><div class=\"VW4Ta0ioG_64Xx1ROszP\">read more at <a target=\"_blank\" href=\"https://www.hindustantimes.com/cricket/hardik-pandya-blames-timid-babar-azam-mohammad-rizwan-for-pakistan-world-cup-hammering-by-india-mohammad-amir-responds-101697367086350-amp.html?utm_campaign=fullarticle&amp;utm_medium=referral&amp;utm_source=inshorts\" class=\"LFn0sRS51HkFD0OHeCdA\">Hindustan Times</a></div></div></div></div></div><div><div itemscope itemtype=\"http://schema.org/NewsArticle\" class=\"PmX01nT74iM8UNAIENsC\"><span content itemscope itemprop=\"mainEntityOfPage\" itemType=\"https://schema.org/WebPage\" itemid=\"https://inshorts.com/en/news/i-was-abusing-myself-to-bowl-better-hardik-on-whispering-to-ball-before-dismissing-imam-1697376130731\"></span><span itemtype=\"https://schema.org/Person\" itemscope=\"itemscope\" itemprop=\"author\"><span itemprop=\"name\" content=\"Anmol Sharma\"></span></span><span itemprop=\"description\" content=\"I was abusing myself to bowl better: Hardik on \\'whispering\\' to ball before dismissing Imam\"></span><span itemprop=\"image\" itemscope itemtype=\"https://schema.org/ImageObject\"><meta itemprop=\"url\" content=\"https://static.inshorts.com/inshorts/images/v1/variants/jpg/m/2023/10_oct/15_sun/img_1697375365246_64.jpg?\" /><meta itemprop=\"width\" content=\"864\" /><meta itemprop=\"height\" content=\"483\" /></span><span itemtype=\"https://schema.org/Organization\" itemscope=\"itemscope\" itemprop=\"publisher\"><span itemprop=\"url\" content=\"https://inshorts.com/\"></span><span itemprop=\"name\" content=\"Inshorts\"></span><span itemprop=\"logo\" itemscope itemtype=\"https://schema.org/ImageObject\"><span itemprop=\"url\" content=\"https://assets.inshorts.com/inshorts/images/v1/variants/jpg/m/2018/11_nov/21_wed/img_1542823931298_497.jpg\"></span><meta itemprop=\"width\" content=\"400\" /><meta itemprop=\"height\" content=\"60\" /></span></span><div class=\"r_CK6OaFsecGqhiNxLQR + GXPWASMx93K0ajwCIcCA + YBIB_aAKmJgaGzjjCtWh\"><div style=\"background-image: url(https://static.inshorts.com/inshorts/images/v1/variants/jpg/xs/2023/10_oct/15_sun/img_1697375365246_64.jpg?)\" class=\"GXPWASMx93K0ajwCIcCA\"></div></div><div class=\"LUWdd1C_3UqqulVsopn0\"><div><div><div><span itemprop=\"headline\" class=\"ddVzQcwl2yPlFt4fteIE\">I was abusing myself to bowl better: Hardik on \\'whispering\\' to ball before dismissing Imam</span></div><div class=\"E3pJPegn7xWCOvv3BEcf\"><a href=\"/prev/en/news/i-was-abusing-myself-to-bowl-better-hardik-on-whispering-to-ball-before-dismissing-imam-1697376130731\"><span class=\"f6VR90cMLekcKLeFCS1J\">short</span></a> by <span class=\"author\">Anmol Sharma</span> /<span itemprop=\"datePublished\" content=\"2023-10-15T13:22:10.000Z\"> 01:22 pm</span> on <span clas=\"date\">Sunday, 15 October, 2023</span></div></div><div><div itemprop=\"articleBody\" class=\"KkupEonoVHxNv4A_D7UG\">Team India all-rounder Hardik Pandya has revealed what he \\'whispered\\' to the ball before dismissing Pakistan\\'s Imam-ul-Haq in their ODI World Cup 2023 match. &quot;I basically hurled abuses at myself and told myself to bowl better length,&quot; Hardik stated. He added that he was motivating himself.</div></div></div><div><div class=\"VW4Ta0ioG_64Xx1ROszP\">read more at <a target=\"_blank\" href=\"https://www.crictracker.com/cricket-news/i-basically-hurled-abuses-at-myself-to-bowl-better-length-hardik-pandya-on-whispering-to-ball-before-taking-wicket-4204/?utm_campaign=fullarticle&amp;utm_medium=referral&amp;utm_source=inshorts\" class=\"LFn0sRS51HkFD0OHeCdA\">CricTracker</a></div></div></div></div></div><div class=\"JIMrm2g5L9csgTtobp2g\">Load More</div></div><div><footer class=\"wEumTDYB6eDIXyvFoop4\"><div class=\"qGX5vBk6QkTdiOnlhv0h\"><div class=\"LwhH_gRIbg5VIc0J0YqN\"><div class=\"iv7aKfs5Gt6PtjvcS8QG\"><div><div class=\"oKGmoEhaIPPGnMP9uOm_\"><img width=\"160px\" height=\"48px\" src=\"https://assets.inshorts.com/website_assets/images/logo_footer.png\" alt=\"inshorts\" /></div><div class=\"Ifsiqs80e9rHfmAGOa7M\"><span class=\"IdWAVH5mzwaBUBNlnoaJ\"><span class=\"FqFMAiJrixIx0TvrCgBX\">Inshorts</span> Pte. Ltd.</span><br /><div class=\"IdWAVH5mzwaBUBNlnoaJ\">\\xc2\\xa9<span style=\"font-size: 12px;\">COPYRIGHT 2023  </span></div></div></div><div class=\"rSEHXWWeEOaR0W1vhOJp\"><div class=\"kpbhIVsZHJTrp8In2UNh\"><img width=\"132px\" height=\"48px\" src=\"https://assets.inshorts.com/website_assets/images/contact_icon.png\" alt=\"contact\" /></div><div style=\"margin-top: 16px;\"><a target=\"_blank\" href=\"/tnc\" class=\"frrT68MKbm2McDk4zOAG\"><span>Terms &amp; conditions</span><br /><div>Privacy Policies</div></a></div></div></div><div class=\"A1qCiDaRQdjD0q3Ijx_e\"><div><a target=\"_blank\" href=\"https://www.facebook.com/inshortsapp\" aria-label=\"Facebook\"><img alt=\"Facebook\" src=\"https://assets.inshorts.com/website_assets/images/facebook.png\" /></a></div><div><a target=\"_blank\" href=\"https://twitter.com/inshorts\" aria-label=\"Twitter\"><img alt=\"Twitter\" src=\"https://assets.inshorts.com/website_assets/images/twitter.png\" /></a></div><div><a target=\"_blank\" href=\"https://www.linkedin.com/company/news-in-shorts\" aria-label=\"Linkedin\"><img alt=\"Linkedin\" src=\"https://assets.inshorts.com/website_assets/images/linkedin.png\" /></a></div></div></div></div></footer></div></div></div><script>navigator.serviceWorker.register(\\'/sw.js\\')\\n      .then(swReg => {\\n        swReg.update();\\n      });</script><script>window.__STATE__ = {\"news_list\":{\"list\":[{\"rank\":0,\"news_type\":\"NEWS\",\"hash_id\":\"yydistmj-1\",\"type\":\"NEWS\",\"version\":0,\"news_obj\":{\"old_hash_id\":\"australia-drop-to-bottom-of-world-cup-2023-points-table-after-afghanistans-historic-win-1697390226100\",\"hash_id\":\"yydistmj-1\",\"author_name\":\"Anmol Sharma\",\"content\":\"Five-time champions Australia have dropped to the bottom of the ODI World Cup 2023 points table after Afghanistan registered a historic win against England in the tournament on Sunday. Afghanistan have jumped to the sixth position with two points and a net run-rate of -0.652. England are placed fifth, while hosts India are on top of the table.\",\"source_url\":\"https://www.cricketworldcup.com/standings?utm_campaign=fullarticle&utm_medium=referral&utm_source=inshorts\",\"source_name\":\"Cricket World Cup\",\"title\":\"Australia drop to bottom of World Cup 2023 points table after Afghanistan\\'s historic win\",\"important\":false,\"image_url\":\"https://static.inshorts.com/inshorts/images/v1/variants/jpg/m/2023/10_oct/15_sun/img_1697388390996_317.jpg?\",\"shortened_url\":\"https://shrts.in/XzWvw\",\"created_at\":1697390226000,\"score\":800,\"category_names\":[\"sports\",\"ODI_World_Cup_2023\"],\"relevancy_tags\":[\"cricket\"],\"hash_tags\":[\"HistoricWinAfghanistan\"],\"tenant\":\"ENGLISH\",\"fb_object_id\":\"\",\"fb_like_count\":0,\"country_code\":\"IN\",\"impressive_score\":13,\"targeted_city\":[],\"gallery_image_urls\":[],\"full_gallery_urls\":[],\"raw_url\":\"https://static.inshorts.com/inshorts/images/v1/variants/jpg/m/2023/10_oct/15_sun/img_1697388390996_317.jpg?\",\"bottom_headline\":\"\",\"bottom_text\":\"\",\"darker_fonts\":true,\"bottom_panel_link\":\"https://inshorts.com/safe_redirect?url=https://egstxp.mypnb.in/pnb/gstexp/\",\"footer_image_background\":\"https://static.inshorts.com/inshorts/images/v1/variants/jpg/m/2023/10_oct/6_fri/img_1696592121019_931.jpg?\",\"footer_image_large_background\":\"https://static.inshorts.com/inshorts/images/v1/variants/jpg/m/2023/10_oct/6_fri/img_1696592083817_372.jpg?\",\"bottom_type\":\"CARD_DECK\",\"footer_deck_id\":\"NAsUxNzk_hashtag\",\"footer_deck_tag_label\":\"#HistoricWinAfghanistan\",\"byline_1\":[{\"type\":\"TEXT\",\"text\":\"swipe left for more at Cricket World Cup / \"},{\"type\":\"TIME\"}],\"byline_2\":[{\"type\":\"TEXT\",\"text\":\"short by \"},{\"type\":\"TEXT\",\"text\":\"Anmol Sharma\"}],\"version\":0,\"position_start_time\":\"1970-01-01T00:00:00Z\",\"position_expire_time\":\"2023-10-16T17:13:20.876Z\",\"trackers\":[],\"dfp_tags\":\"score:800,news:default,cat:sports,cat:ODI_World_Cup_2023,hash:5,noads:true\",\"dont_show_ad\":true,\"poll_tenant\":\"ENGLISH\",\"video_opinion_enabled\":true,\"language\":\"english\",\"show_inshorts_brand_name\":true,\"crypto_coin_preference\":null,\"is_overlay_supported\":false,\"news_type\":\"NEWS\",\"is_muted\":false,\"video_audio_type\":\"USER_SPECIFIED_AUDIO\",\"auto_play_type\":\"AUTO_PLAY_USER_SPECIFIED\",\"show_in_video_feed_only\":false,\"similar_threshold\":15500,\"is_similar_feed_available\":false}},{\"rank\":1,\"news_type\":\"NEWS\",\"hash_id\":\"dw9jflbt-1\",\"type\":\"NEWS\",\"version\":0,\"news_obj\":{\"old_hash_id\":\"afghanistan-outplayed-england-in-every-department-irfan-pathan-1697390037870\",\"hash_id\":\"dw9jflbt-1\",\"author_name\":\"Udit Gupta\",\"content\":\"Reacting to Afghanistan defeating England by 69 runs in ODI World Cup 2023, former India all-rounder Irfan Pathan tweeted, \\\\\"Bahot mubarak Apko Afghanistan (Congratulations to Afghanistan).\\\\\" \\\\\"You outplayed England in every department,\\\\\" he added. Irfan also praised their bowling performance, writing, \\\\\"Bowling has been top-notch from Afghans.\\\\\" \\\\n\",\"source_url\":\"https://x.com/IrfanPathan/status/1713585455009038623?s=20&utm_campaign=fullarticle&utm_medium=referral&utm_source=inshorts\",\"source_name\":\"X \",\"title\":\"Afghanistan outplayed England in every department: Irfan Pathan \",\"important\":false,\"image_url\":\"https://static.inshorts.com/inshorts/images/v1/variants/jpg/m/2023/10_oct/15_sun/img_1697388817714_877.jpg?\",\"shortened_url\":\"https://shrts.in/Bx1P9\",\"created_at\":1697390037000,\"score\":600,\"category_names\":[\"sports\",\"ODI_World_Cup_2023\"],\"relevancy_tags\":[\"cricket\"],\"hash_tags\":[\"HistoricWinAfghanistan\"],\"tenant\":\"ENGLISH\",\"fb_object_id\":\"\",\"fb_like_count\":0,\"country_code\":\"IN\",\"impressive_score\":11,\"targeted_city\":[],\"gallery_image_urls\":[],\"full_gallery_urls\":[],\"raw_url\":\"https://static.inshorts.com/inshorts/images/v1/variants/jpg/m/2023/10_oct/15_sun/img_1697388817714_877.jpg?\",\"bottom_headline\":\"\",\"bottom_text\":\"\",\"darker_fonts\":true,\"bottom_panel_link\":\"https://inshorts.com/safe_redirect?url=https://egstxp.mypnb.in/pnb/gstexp/\",\"footer_image_background\":\"https://static.inshorts.com/inshorts/images/v1/variants/jpg/m/2023/10_oct/6_fri/img_1696592121019_931.jpg?\",\"footer_image_large_background\":\"https://static.inshorts.com/inshorts/images/v1/variants/jpg/m/2023/10_oct/6_fri/img_1696592083817_372.jpg?\",\"bottom_type\":\"CARD_DECK\",\"footer_deck_id\":\"NAsUxNzk_hashtag\",\"footer_deck_tag_label\":\"#HistoricWinAfghanistan\",\"byline_1\":[{\"type\":\"TEXT\",\"text\":\"swipe left for more at X  / \"},{\"type\":\"TIME\"}],\"byline_2\":[{\"type\":\"TEXT\",\"text\":\"short by \"},{\"type\":\"TEXT\",\"text\":\"Udit Gupta\"}],\"version\":0,\"position_start_time\":\"1970-01-01T00:00:00Z\",\"position_expire_time\":\"2023-10-16T16:53:44.971Z\",\"trackers\":[],\"dfp_tags\":\"score:600,news:default,cat:sports,cat:ODI_World_Cup_2023,hash:6,noads:true\",\"dont_show_ad\":true,\"poll_tenant\":\"ENGLISH\",\"video_opinion_enabled\":true,\"language\":\"english\",\"show_inshorts_brand_name\":true,\"crypto_coin_preference\":null,\"is_overlay_supported\":false,\"news_type\":\"NEWS\",\"is_muted\":false,\"video_audio_type\":\"USER_SPECIFIED_AUDIO\",\"auto_play_type\":\"AUTO_PLAY_USER_SPECIFIED\",\"show_in_video_feed_only\":false,\"similar_threshold\":15500,\"is_similar_feed_available\":false}},{\"rank\":2,\"news_type\":\"NEWS\",\"hash_id\":\"fi2oukur-1\",\"type\":\"NEWS\",\"version\":0,\"news_obj\":{\"old_hash_id\":\"hope-youre-ok-vaughan-jaffer-after-afghanistan-defeat-eng-in-wc-1697389782765\",\"hash_id\":\"fi2oukur-1\",\"author_name\":\"Udit Gupta\",\"content\":\"After Afghanistan defeated England in the ODI World Cup 2023, ex-India cricketer Wasim Jaffer wrote on X, \\\\\"Hope you\\'re okay, Michael Vaughan (former England captain).\\\\\" Reacting to his tweet, a user wrote, \\\\\"What a perfect match it was, @MichaelVaughan will be disappointed.\\\\\" Another user wrote, \\\\\"England will remember this for long time. Congrats Afghanistan.\\\\\"\\\\n \",\"source_url\":\"https://x.com/WasimJaffer14/status/1713586659726622902?s=20&utm_campaign=fullarticle&utm_medium=referral&utm_source=inshorts\",\"source_name\":\"X \",\"title\":\"Hope you\\'re ok Vaughan: Jaffer after Afghanistan defeat Eng in WC \",\"important\":false,\"image_url\":\"https://static.inshorts.com/inshorts/images/v1/variants/jpg/m/2023/10_oct/15_sun/img_1697388048751_558.jpg?\",\"shortened_url\":\"https://shrts.in/71cms\",\"created_at\":1697389782000,\"score\":600,\"category_names\":[\"sports\",\"ODI_World_Cup_2023\"],\"relevancy_tags\":[\"cricket\"],\"hash_tags\":[\"HistoricWinAfghanistan\"],\"tenant\":\"ENGLISH\",\"fb_object_id\":\"\",\"fb_like_count\":0,\"country_code\":\"IN\",\"impressive_score\":11,\"targeted_city\":[],\"gallery_image_urls\":[],\"full_gallery_urls\":[],\"raw_url\":\"https://static.inshorts.com/inshorts/images/v1/variants/jpg/m/2023/10_oct/15_sun/img_1697388048751_558.jpg?\",\"bottom_headline\":\"\",\"bottom_text\":\"\",\"darker_fonts\":true,\"bottom_panel_link\":\"https://inshorts.com/safe_redirect?url=https://pabl.mypnb.in/pnb/pabl/\",\"footer_image_background\":\"https://static.inshorts.com/inshorts/images/v1/variants/jpg/m/2023/10_oct/6_fri/img_1696592103434_855.jpg?\",\"footer_image_large_background\":\"https://static.inshorts.com/inshorts/images/v1/variants/jpg/m/2023/10_oct/6_fri/img_1696592068685_419.jpg?\",\"bottom_type\":\"CARD_DECK\",\"footer_deck_id\":\"NAsUxNzk_hashtag\",\"footer_deck_tag_label\":\"#HistoricWinAfghanistan\",\"byline_1\":[{\"type\":\"TEXT\",\"text\":\"swipe left for more at X  / \"},{\"type\":\"TIME\"}],\"byline_2\":[{\"type\":\"TEXT\",\"text\":\"short by \"},{\"type\":\"TEXT\",\"text\":\"Udit Gupta\"}],\"version\":0,\"position_start_time\":\"1970-01-01T00:00:00Z\",\"position_expire_time\":\"2023-10-16T16:55:28.264Z\",\"trackers\":[],\"dfp_tags\":\"score:600,news:default,cat:sports,cat:ODI_World_Cup_2023,hash:5,noads:true\",\"dont_show_ad\":true,\"poll_tenant\":\"ENGLISH\",\"video_opinion_enabled\":true,\"language\":\"english\",\"show_inshorts_brand_name\":true,\"crypto_coin_preference\":null,\"is_overlay_supported\":false,\"news_type\":\"NEWS\",\"is_muted\":false,\"video_audio_type\":\"USER_SPECIFIED_AUDIO\",\"auto_play_type\":\"AUTO_PLAY_USER_SPECIFIED\",\"show_in_video_feed_only\":false,\"similar_threshold\":15500,\"is_similar_feed_available\":false}},{\"rank\":3,\"news_type\":\"NEWS\",\"hash_id\":\"yb92rrvb-1\",\"type\":\"NEWS\",\"version\":0,\"news_obj\":{\"old_hash_id\":\"rajeev-shukla-reacts-to-afghanistan-beating-england-in-world-cup-says-is-the-news-true-1697388698338\",\"hash_id\":\"yb92rrvb-1\",\"author_name\":\"Anmol Sharma\",\"content\":\"BCCI Vice-President Rajeev Shukla took to X to react to Afghanistan defeating England in their ODI World Cup 2023 match in Delhi on Sunday. \\\\\"Have Afghanistan defeated England? Amazing! Is the news true? This is why cricket is fun,\\\\\" he wrote. Afghanistan recorded their first-ever win over England in international cricket history.\",\"source_url\":\"https://twitter.com/ShuklaRajiv/status/1713588938508812522?utm_campaign=fullarticle&utm_medium=referral&utm_source=inshorts\",\"source_name\":\"X\",\"title\":\"Rajeev Shukla reacts to Afghanistan beating England in World Cup, says \\'Is the news true?\\'\",\"important\":false,\"image_url\":\"https://static.inshorts.com/inshorts/images/v1/variants/jpg/m/2023/10_oct/15_sun/img_1697387974254_822.jpg?\",\"shortened_url\":\"https://shrts.in/FgPpt\",\"created_at\":1697388698000,\"score\":800,\"category_names\":[\"sports\",\"ODI_World_Cup_2023\"],\"relevancy_tags\":[\"cricket\"],\"hash_tags\":[\"HistoricWinAfghanistan\"],\"tenant\":\"ENGLISH\",\"fb_object_id\":\"\",\"fb_like_count\":0,\"country_code\":\"IN\",\"impressive_score\":13,\"targeted_city\":[],\"gallery_image_urls\":[],\"full_gallery_urls\":[],\"raw_url\":\"https://static.inshorts.com/inshorts/images/v1/variants/jpg/m/2023/10_oct/15_sun/img_1697387974254_822.jpg?\",\"bottom_headline\":\"\",\"bottom_text\":\"\",\"darker_fonts\":true,\"bottom_panel_link\":\"https://inshorts.com/safe_redirect?url=https://play.google.com/store/apps/details?id=com.Version1\",\"footer_image_background\":\"https://static.inshorts.com/inshorts/images/v1/variants/jpg/m/2023/10_oct/6_fri/img_1696592116801_473.jpg?\",\"footer_image_large_background\":\"https://static.inshorts.com/inshorts/images/v1/variants/jpg/m/2023/10_oct/6_fri/img_1696592078240_296.jpg?\",\"bottom_type\":\"CARD_DECK\",\"footer_deck_id\":\"NAsUxNzk_hashtag\",\"footer_deck_tag_label\":\"#HistoricWinAfghanistan\",\"byline_1\":[{\"type\":\"TEXT\",\"text\":\"swipe left for more at X / \"},{\"type\":\"TIME\"}],\"byline_2\":[{\"type\":\"TEXT\",\"text\":\"short by \"},{\"type\":\"TEXT\",\"text\":\"Anmol Sharma\"}],\"version\":0,\"position_start_time\":\"1970-01-01T00:00:00Z\",\"position_expire_time\":\"2023-10-16T16:50:55.921Z\",\"trackers\":[],\"dfp_tags\":\"score:800,news:default,cat:sports,cat:ODI_World_Cup_2023,hash:2,noads:true\",\"dont_show_ad\":true,\"poll_tenant\":\"ENGLISH\",\"video_opinion_enabled\":true,\"language\":\"english\",\"show_inshorts_brand_name\":true,\"crypto_coin_preference\":null,\"is_overlay_supported\":false,\"news_type\":\"NEWS\",\"is_muted\":false,\"video_audio_type\":\"USER_SPECIFIED_AUDIO\",\"auto_play_type\":\"AUTO_PLAY_USER_SPECIFIED\",\"show_in_video_feed_only\":false,\"similar_threshold\":15500,\"is_similar_feed_available\":false}},{\"rank\":4,\"news_type\":\"NEWS\",\"hash_id\":\"rjiv4l0x-1\",\"type\":\"NEWS\",\"version\":0,\"news_obj\":{\"old_hash_id\":\"kohli-and-narines-lookalikes-spotted-watching-englandafghanistan-match-pic-viral-1697387942003\",\"hash_id\":\"rjiv4l0x-1\",\"author_name\":\"Anmol Sharma\",\"content\":\"Virat Kohli and Sunil Narine\\'s lookalikes were spotted watching the England-Afghanistan ODI World Cup 2023 match in Delhi, with a picture going viral on social media. Reacting to the picture, an X user wrote, \\\\\"Virat bhai rooting for Naveen Ul Haq, unreal growth in friendship.\\\\\" Another joked, \\\\\"They are parody accounts of Virat Kohli and Sunil Narine.\\\\\"\",\"source_url\":\"https://www.crictracker.com/cricket-live-feeds/live-updates-afghanistan-vs-england-13th-odi-world-cup-match-2023-real-time-scorecard-news-memes-injuries-and-more-updates/?ct-lid=652c05af741783735c122011/&utm_campaign=fullarticle&utm_medium=referral&utm_source=inshorts\",\"source_name\":\"CricTracker\",\"title\":\"Kohli and Narine\\'s lookalikes spotted watching England-Afghanistan match, pic viral\",\"important\":false,\"image_url\":\"https://static.inshorts.com/inshorts/images/v1/variants/jpg/m/2023/10_oct/15_sun/img_1697386870702_479.jpg?\",\"shortened_url\":\"https://shrts.in/24aDF\",\"created_at\":1697387942000,\"score\":800,\"category_names\":[\"sports\",\"ODI_World_Cup_2023\"],\"relevancy_tags\":[\"cricket\"],\"tenant\":\"ENGLISH\",\"fb_object_id\":\"\",\"fb_like_count\":0,\"country_code\":\"IN\",\"impressive_score\":13,\"targeted_city\":[\"\"],\"gallery_image_urls\":[],\"full_gallery_urls\":[],\"raw_url\":\"https://static.inshorts.com/inshorts/images/v1/variants/jpg/m/2023/10_oct/15_sun/img_1697386870702_479.jpg?\",\"bottom_headline\":\"\",\"bottom_text\":\"\",\"darker_fonts\":true,\"bottom_panel_link\":\"https://inshorts.com/safe_redirect?url=https://egstxp.mypnb.in/pnb/gstexp/\",\"footer_image_background\":\"https://static.inshorts.com/inshorts/images/v1/variants/jpg/m/2023/10_oct/6_fri/img_1696592121019_931.jpg?\",\"footer_image_large_background\":\"https://static.inshorts.com/inshorts/images/v1/variants/jpg/m/2023/10_oct/6_fri/img_1696592083817_372.jpg?\",\"bottom_type\":\"DEFAULT\",\"byline_1\":[{\"type\":\"TEXT\",\"text\":\"swipe left for more at CricTracker / \"},{\"type\":\"TIME\"}],\"byline_2\":[{\"type\":\"TEXT\",\"text\":\"short by \"},{\"type\":\"TEXT\",\"text\":\"Anmol Sharma\"}],\"version\":0,\"position_start_time\":\"1970-01-01T00:00:00Z\",\"position_expire_time\":\"2023-10-16T16:37:47.517Z\",\"trackers\":[],\"dfp_tags\":\"score:800,news:default,cat:sports,cat:ODI_World_Cup_2023,hash:1,noads:true\",\"dont_show_ad\":true,\"poll_tenant\":\"ENGLISH\",\"video_opinion_enabled\":true,\"show_inshorts_brand_name\":true,\"crypto_coin_preference\":null,\"is_overlay_supported\":false,\"news_type\":\"NEWS\",\"is_muted\":false,\"video_audio_type\":\"USER_SPECIFIED_AUDIO\",\"auto_play_type\":\"AUTO_PLAY_USER_SPECIFIED\",\"show_in_video_feed_only\":false,\"similar_threshold\":0,\"is_similar_feed_available\":false}},{\"rank\":5,\"news_type\":\"NEWS\",\"hash_id\":\"nakkgujn-1\",\"type\":\"NEWS\",\"version\":1,\"news_obj\":{\"old_hash_id\":\"afghanistan-defeat-defending-champions-england-in-world-cup-register-historic-win-1697385612445\",\"hash_id\":\"nakkgujn-1\",\"author_name\":\"Anmol Sharma\",\"content\":\"Afghanistan defeated defending champions England by 69 runs to register their first victory in ODI World Cup 2023. This is the first time that Afghanistan have beaten England in international cricket history. Overall, it is Afghanistan\\'s second victory in 18 matches in the history of ODI World Cup.\",\"source_url\":\"https://www.espncricinfo.com/series/icc-cricket-world-cup-2023-24-1367856/afghanistan-vs-england-13th-match-1384404/live-cricket-score?utm_campaign=fullarticle&utm_medium=referral&utm_source=inshorts\",\"source_name\":\"ESPNcricinfo\",\"title\":\"Afghanistan defeat defending champions England in World Cup, register historic win\",\"important\":true,\"image_url\":\"https://static.inshorts.com/inshorts/images/v1/variants/jpg/m/2023/10_oct/15_sun/img_1697383492446_39.jpg?\",\"shortened_url\":\"https://shrts.in/1xWEq\",\"created_at\":1697385612000,\"score\":800,\"category_names\":[\"sports\",\"ODI_World_Cup_2023\"],\"relevancy_tags\":[\"cricket\"],\"hash_tags\":[\"HistoricWinAfghanistan\"],\"tenant\":\"ENGLISH\",\"fb_object_id\":\"\",\"fb_like_count\":0,\"country_code\":\"IN\",\"impressive_score\":13,\"targeted_city\":[],\"gallery_image_urls\":[],\"full_gallery_urls\":[],\"raw_url\":\"https://static.inshorts.com/inshorts/images/v1/variants/jpg/m/2023/10_oct/15_sun/img_1697383492446_39.jpg?\",\"bottom_headline\":\"\",\"bottom_text\":\"\",\"darker_fonts\":true,\"bottom_panel_link\":\"https://inshorts.com/safe_redirect?url=https://egstxp.mypnb.in/pnb/gstexp/\",\"footer_image_background\":\"https://static.inshorts.com/inshorts/images/v1/variants/jpg/m/2023/10_oct/6_fri/img_1696592121019_931.jpg?\",\"footer_image_large_background\":\"https://static.inshorts.com/inshorts/images/v1/variants/jpg/m/2023/10_oct/6_fri/img_1696592083817_372.jpg?\",\"bottom_type\":\"CARD_DECK\",\"footer_deck_id\":\"NAsUxNzk_hashtag\",\"footer_deck_tag_label\":\"#HistoricWinAfghanistan\",\"byline_1\":[{\"type\":\"TEXT\",\"text\":\"swipe left for more at ESPNcricinfo / \"},{\"type\":\"TIME\"}],\"byline_2\":[{\"type\":\"TEXT\",\"text\":\"short by \"},{\"type\":\"TEXT\",\"text\":\"Anmol Sharma\"}],\"version\":1,\"position_start_time\":\"1970-01-01T00:00:00Z\",\"position_expire_time\":\"2023-10-16T15:36:11.717Z\",\"trackers\":[],\"dfp_tags\":\"score:800,news:default,cat:sports,cat:ODI_World_Cup_2023,hash:1,noads:true,notification:true\",\"dont_show_ad\":true,\"poll_tenant\":\"ENGLISH\",\"video_opinion_enabled\":true,\"language\":\"english\",\"show_inshorts_brand_name\":true,\"crypto_coin_preference\":null,\"is_overlay_supported\":false,\"news_type\":\"NEWS\",\"is_muted\":false,\"video_audio_type\":\"USER_SPECIFIED_AUDIO\",\"auto_play_type\":\"AUTO_PLAY_USER_SPECIFIED\",\"show_in_video_feed_only\":false,\"similar_threshold\":15500,\"is_similar_feed_available\":false}},{\"rank\":6,\"news_type\":\"NEWS\",\"hash_id\":\"60ce1zw5-1\",\"type\":\"NEWS\",\"version\":0,\"news_obj\":{\"old_hash_id\":\"if-you-cant-win-then-at-least-compete-ramiz-on-paks-loss-to-ind-1697384507065\",\"hash_id\":\"60ce1zw5-1\",\"author_name\":\"Udit Gupta\",\"content\":\"Ex-Pakistan Cricket Board (PCB) chief Ramiz Raja termed Pakistan\\'s defeat against India in the ICC World Cup 2023 as \\\\\"scarring\\\\\". \\\\\"They\\'ve been outpaced and outplayed in all the three departments...If you can\\'t win, then at least compete. Pakistan weren\\'t able to do that,\\\\\" he added. Ramiz also credited India for handling the pressure \\\\\"so well\\\\\". \\\\n\",\"source_url\":\"https://www.freepressjournal.in/amp/sports/if-you-cant-win-then-at-least-compete-ramiz-raja-tears-into-pakistan-after-scarring-loss-vs-india-in-cwc-2023?utm_campaign=fullarticle&utm_medium=referral&utm_source=inshorts\",\"source_name\":\"Free Press Journal\",\"title\":\"If you can\\'t win then at least compete: Ramiz on Pak\\'s loss to Ind\",\"important\":false,\"image_url\":\"https://static.inshorts.com/inshorts/images/v1/variants/jpg/m/2023/10_oct/15_sun/img_1697380232481_444.jpg?\",\"shortened_url\":\"https://shrts.in/Nn97v\",\"created_at\":1697384507000,\"score\":600,\"category_names\":[\"sports\",\"ODI_World_Cup_2023\"],\"relevancy_tags\":[\"cricket\"],\"hash_tags\":[\"IndiaVsPakistan\"],\"tenant\":\"ENGLISH\",\"fb_object_id\":\"\",\"fb_like_count\":0,\"country_code\":\"IN\",\"impressive_score\":11,\"targeted_city\":[],\"gallery_image_urls\":[],\"full_gallery_urls\":[],\"raw_url\":\"https://static.inshorts.com/inshorts/images/v1/variants/jpg/m/2023/10_oct/15_sun/img_1697380232481_444.jpg?\",\"bottom_headline\":\"\",\"bottom_text\":\"\",\"darker_fonts\":true,\"bottom_panel_link\":\"https://inshorts.com/safe_redirect?url=https://pabl.mypnb.in/pnb/pabl/\",\"footer_image_background\":\"https://static.inshorts.com/inshorts/images/v1/variants/jpg/m/2023/10_oct/6_fri/img_1696592103434_855.jpg?\",\"footer_image_large_background\":\"https://static.inshorts.com/inshorts/images/v1/variants/jpg/m/2023/10_oct/6_fri/img_1696592068685_419.jpg?\",\"bottom_type\":\"DEFAULT\",\"byline_1\":[{\"type\":\"TEXT\",\"text\":\"swipe left for more at Free Press Journal / \"},{\"type\":\"TIME\"}],\"byline_2\":[{\"type\":\"TEXT\",\"text\":\"short by \"},{\"type\":\"TEXT\",\"text\":\"Udit Gupta\"}],\"version\":0,\"position_start_time\":\"1970-01-01T00:00:00Z\",\"position_expire_time\":\"2023-10-16T15:16:41.776Z\",\"trackers\":[],\"dfp_tags\":\"score:600,news:default,cat:sports,cat:ODI_World_Cup_2023,hash:5,noads:true\",\"dont_show_ad\":true,\"poll_tenant\":\"ENGLISH\",\"video_opinion_enabled\":true,\"language\":\"english\",\"show_inshorts_brand_name\":true,\"crypto_coin_preference\":null,\"is_overlay_supported\":false,\"news_type\":\"NEWS\",\"is_muted\":false,\"video_audio_type\":\"USER_SPECIFIED_AUDIO\",\"auto_play_type\":\"AUTO_PLAY_USER_SPECIFIED\",\"show_in_video_feed_only\":false,\"similar_threshold\":15500,\"is_similar_feed_available\":false}},{\"rank\":7,\"news_type\":\"NEWS\",\"hash_id\":\"y5acspu2-1\",\"type\":\"NEWS\",\"version\":0,\"news_obj\":{\"old_hash_id\":\"sam-curran-shoves-cameraman-in-anger-after-giving-away-20-runs-in-an-over-video-viral-1697382645803\",\"hash_id\":\"y5acspu2-1\",\"author_name\":\"Anmol Sharma\",\"content\":\"England all-rounder Sam Curran shoved cameraman in anger after giving away 20 runs in an over against Afghanistan in their ODI World Cup 2023 match on Sunday. A video of the same has gone viral. Curran was fielding in the deep following the 20-run over. The cameraman came close to Curran, who then pushed the equipment with his right hand.\",\"source_url\":\"https://wisden.com/series-stories/cricket-world-cup-2023/watch-sam-curran-pushes-away-camera-two-balls-after-20-run-over-cwc-2023/amp?utm_campaign=fullarticle&utm_medium=referral&utm_source=inshorts\",\"source_name\":\"Wisden\",\"title\":\"Sam Curran shoves cameraman in anger after giving away 20 runs in an over, video viral\",\"important\":false,\"image_url\":\"https://static.inshorts.com/inshorts/images/v1/variants/jpg/m/2023/10_oct/15_sun/img_1697382100052_518.jpg?\",\"shortened_url\":\"https://shrts.in/beqVY\",\"created_at\":1697382645000,\"score\":800,\"category_names\":[\"sports\",\"ODI_World_Cup_2023\"],\"relevancy_tags\":[\"cricket\"],\"tenant\":\"ENGLISH\",\"fb_object_id\":\"\",\"fb_like_count\":0,\"country_code\":\"IN\",\"impressive_score\":13,\"targeted_city\":[],\"gallery_image_urls\":[],\"full_gallery_urls\":[],\"raw_url\":\"https://static.inshorts.com/inshorts/images/v1/variants/jpg/m/2023/10_oct/15_sun/img_1697382100052_518.jpg?\",\"bottom_headline\":\"\",\"bottom_text\":\"\",\"darker_fonts\":true,\"bottom_panel_link\":\"https://inshorts.com/safe_redirect?url=https://play.google.com/store/apps/details?id=com.Version1\",\"footer_image_background\":\"https://static.inshorts.com/inshorts/images/v1/variants/jpg/m/2023/10_oct/6_fri/img_1696592116801_473.jpg?\",\"footer_image_large_background\":\"https://static.inshorts.com/inshorts/images/v1/variants/jpg/m/2023/10_oct/6_fri/img_1696592078240_296.jpg?\",\"bottom_type\":\"DEFAULT\",\"byline_1\":[{\"type\":\"TEXT\",\"text\":\"swipe left for more at Wisden / \"},{\"type\":\"TIME\"}],\"byline_2\":[{\"type\":\"TEXT\",\"text\":\"short by \"},{\"type\":\"TEXT\",\"text\":\"Anmol Sharma\"}],\"version\":0,\"position_start_time\":\"1970-01-01T00:00:00Z\",\"position_expire_time\":\"2023-10-16T14:53:24.263Z\",\"trackers\":[],\"dfp_tags\":\"score:800,news:default,cat:sports,cat:ODI_World_Cup_2023,hash:0,noads:true\",\"dont_show_ad\":true,\"poll_tenant\":\"ENGLISH\",\"video_opinion_enabled\":true,\"language\":\"english\",\"show_inshorts_brand_name\":true,\"crypto_coin_preference\":null,\"is_overlay_supported\":false,\"news_type\":\"NEWS\",\"is_muted\":false,\"video_audio_type\":\"USER_SPECIFIED_AUDIO\",\"auto_play_type\":\"AUTO_PLAY_USER_SPECIFIED\",\"show_in_video_feed_only\":false,\"similar_threshold\":15500,\"is_similar_feed_available\":false}},{\"rank\":8,\"news_type\":\"NEWS\",\"hash_id\":\"f9bapte1-1\",\"type\":\"NEWS\",\"version\":1,\"news_obj\":{\"old_hash_id\":\"babar-rizwan-were-timid-didnt-take-any-chances-hardik-pandya-1697379107565\",\"hash_id\":\"f9bapte1-1\",\"author_name\":\"Udit Gupta\",\"content\":\"India all-rounder Hardik Pandya said that Pakistan batters Babar Azam and Muhammad Rizwan \\\\\"were timid\\\\\" while playing against them on Saturday in Ahmedabad. \\\\\"They didn\\'t take any chances, which is why we thought we were always in...game,\\\\\" he added. \\\\\"They didn\\'t try going for shots or attack us, which is why we were able to bowl dot balls,\\\\\" said Hardik.\\\\n\",\"source_url\":\"https://www.hindustantimes.com/cricket/hardik-pandya-blames-timid-babar-azam-mohammad-rizwan-for-pakistan-world-cup-hammering-by-india-mohammad-amir-responds-101697367086350-amp.html?utm_campaign=fullarticle&utm_medium=referral&utm_source=inshorts\",\"source_name\":\"Hindustan Times\",\"title\":\"Babar & Rizwan were timid, didn\\'t take any chances: Hardik Pandya\",\"important\":false,\"image_url\":\"https://static.inshorts.com/inshorts/images/v1/variants/jpg/m/2023/10_oct/15_sun/img_1697376582627_887.jpg?\",\"shortened_url\":\"https://shrts.in/a8Q4Y\",\"created_at\":1697379107000,\"score\":600,\"category_names\":[\"sports\",\"ODI_World_Cup_2023\"],\"relevancy_tags\":[\"cricket\"],\"hash_tags\":[\"IndiaVsPakistan\"],\"tenant\":\"ENGLISH\",\"fb_object_id\":\"\",\"fb_like_count\":0,\"country_code\":\"IN\",\"impressive_score\":11,\"targeted_city\":[],\"gallery_image_urls\":[],\"full_gallery_urls\":[],\"bottom_headline\":\"\\'There wasn\\'t much in the pitch for the bowlers\\'\",\"bottom_text\":\"Tap to know what more Hardik said\",\"darker_fonts\":true,\"bottom_panel_link\":\"https://www.hindustantimes.com/cricket/hardik-pandya-blames-timid-babar-azam-mohammad-rizwan-for-pakistan-world-cup-hammering-by-india-mohammad-amir-responds-101697367086350-amp.html?utm_campaign=fullarticle&utm_medium=referral&utm_source=inshorts\",\"bottom_type\":\"DEFAULT\",\"byline_1\":[{\"type\":\"TEXT\",\"text\":\"swipe left for more at Hindustan Times / \"},{\"type\":\"TIME\"}],\"byline_2\":[{\"type\":\"TEXT\",\"text\":\"short by \"},{\"type\":\"TEXT\",\"text\":\"Udit Gupta\"}],\"version\":1,\"position_start_time\":\"1970-01-01T00:00:00Z\",\"position_expire_time\":\"2023-10-16T13:51:48.946Z\",\"trackers\":[],\"dfp_tags\":\"score:600,news:default,cat:sports,cat:ODI_World_Cup_2023,hash:4,noads:true\",\"dont_show_ad\":true,\"question_id\":\"722c9d71-9dc3-4036-a48f-c31c878c8b96\",\"question\":\"Do you agree with him?\",\"poll_image\":\"https://static.inshorts.com/inshorts/images/v1/variants/jpg/m/2023/10_oct/15_sun/img_1697377867445_797.jpg?\",\"poll_header\":\"Inshorts Poll\",\"poll_options\":[{\"tag\":\"yes\",\"label\":\"Yes\"},{\"tag\":\"no\",\"label\":\"No\"}],\"poll_tenant\":\"ENGLISH\",\"poll_expiry\":1697982618197,\"video_opinion_enabled\":true,\"language\":\"english\",\"show_inshorts_brand_name\":true,\"crypto_coin_preference\":null,\"is_overlay_supported\":false,\"news_type\":\"NEWS\",\"is_muted\":false,\"video_audio_type\":\"USER_SPECIFIED_AUDIO\",\"auto_play_type\":\"AUTO_PLAY_USER_SPECIFIED\",\"show_in_video_feed_only\":false,\"similar_threshold\":15500,\"is_similar_feed_available\":false}},{\"rank\":9,\"news_type\":\"NEWS\",\"hash_id\":\"rwodzlky-1\",\"type\":\"NEWS\",\"version\":0,\"news_obj\":{\"old_hash_id\":\"i-was-abusing-myself-to-bowl-better-hardik-on-whispering-to-ball-before-dismissing-imam-1697376130731\",\"hash_id\":\"rwodzlky-1\",\"author_name\":\"Anmol Sharma\",\"content\":\"Team India all-rounder Hardik Pandya has revealed what he \\'whispered\\' to the ball before dismissing Pakistan\\'s Imam-ul-Haq in their ODI World Cup 2023 match. \\\\\"I basically hurled abuses at myself and told myself to bowl better length,\\\\\" Hardik stated. He added that he was motivating himself.\",\"source_url\":\"https://www.crictracker.com/cricket-news/i-basically-hurled-abuses-at-myself-to-bowl-better-length-hardik-pandya-on-whispering-to-ball-before-taking-wicket-4204/?utm_campaign=fullarticle&utm_medium=referral&utm_source=inshorts\",\"source_name\":\"CricTracker\",\"title\":\"I was abusing myself to bowl better: Hardik on \\'whispering\\' to ball before dismissing Imam\",\"important\":false,\"image_url\":\"https://static.inshorts.com/inshorts/images/v1/variants/jpg/m/2023/10_oct/15_sun/img_1697375365246_64.jpg?\",\"shortened_url\":\"https://shrts.in/1DViu\",\"created_at\":1697376130000,\"score\":800,\"category_names\":[\"sports\",\"ODI_World_Cup_2023\"],\"relevancy_tags\":[\"cricket\"],\"hash_tags\":[\"IndiaVsPakistan\"],\"tenant\":\"ENGLISH\",\"fb_object_id\":\"\",\"fb_like_count\":0,\"country_code\":\"IN\",\"impressive_score\":13,\"targeted_city\":[],\"gallery_image_urls\":[],\"full_gallery_urls\":[],\"raw_url\":\"https://static.inshorts.com/inshorts/images/v1/variants/jpg/m/2023/10_oct/15_sun/img_1697375365246_64.jpg?\",\"bottom_headline\":\"\",\"bottom_text\":\"\",\"darker_fonts\":true,\"bottom_panel_link\":\"https://inshorts.com/safe_redirect?url=https://instaloans.pnbindia.in/personal-loan/verify-customer#!\",\"footer_image_background\":\"https://static.inshorts.com/inshorts/images/v1/variants/jpg/m/2023/10_oct/6_fri/img_1696592108660_391.jpg?\",\"footer_image_large_background\":\"https://static.inshorts.com/inshorts/images/v1/variants/jpg/m/2023/10_oct/6_fri/img_1696592072511_360.jpg?\",\"bottom_type\":\"CARD_DECK\",\"footer_deck_id\":\"BAI65cAs_hashtag\",\"footer_deck_tag_label\":\"#IndiaVsPakistan\",\"byline_1\":[{\"type\":\"TEXT\",\"text\":\"swipe left for more at CricTracker / \"},{\"type\":\"TIME\"}],\"byline_2\":[{\"type\":\"TEXT\",\"text\":\"short by \"},{\"type\":\"TEXT\",\"text\":\"Anmol Sharma\"}],\"version\":0,\"position_start_time\":\"1970-01-01T00:00:00Z\",\"position_expire_time\":\"2023-10-16T13:09:58.561Z\",\"trackers\":[],\"dfp_tags\":\"score:800,news:default,cat:sports,cat:ODI_World_Cup_2023,hash:4,noads:true\",\"dont_show_ad\":true,\"poll_tenant\":\"ENGLISH\",\"video_opinion_enabled\":true,\"language\":\"english\",\"show_inshorts_brand_name\":true,\"crypto_coin_preference\":null,\"is_overlay_supported\":false,\"news_type\":\"NEWS\",\"is_muted\":false,\"video_audio_type\":\"USER_SPECIFIED_AUDIO\",\"auto_play_type\":\"AUTO_PLAY_USER_SPECIFIED\",\"show_in_video_feed_only\":false,\"similar_threshold\":15500,\"is_similar_feed_available\":false}}],\"isLoading\":false,\"feed_id\":\"TAG\",\"reload_required\":false,\"new_feed_available\":false,\"page\":1,\"feed_name\":\"top_stories\",\"show_top_navigation\":true,\"current_news\":{},\"bookmark_list\":{},\"current_index\":0,\"optimise_for_amp\":false},\"settings\":{\"notification\":false,\"notification_permission\":false,\"tenant\":\"ENGLISH\",\"night_mode\":false,\"hd_image\":true,\"notification_loading\":false,\"notification_dialogue_index\":0},\"discover\":{\"category_list\":[{\"key\":\"Top Stories\",\"value\":\"top_stories\"},{\"key\":\"All News\",\"value\":\"all_news\"},{\"key\":\"Trending\",\"value\":\"trending\"},{\"key\":\"Bookmarks\",\"value\":\"bookmarks\"}],\"category\":\"top_stories\",\"tag_list\":[],\"tag\":\"sports\"},\"status\":0};</script><noscript>Your browser does not support JavaScript!</noscript><script src=\"https://ajax.googleapis.com/ajax/libs/webfont/1.6.26/webfont.js\"></script><script>WebFont.load({\\n      google: {\\n        families: [\\'Roboto:300,400,500&display=swap\\']\\n      }\\n    });</script><script>var _comscore = _comscore || [];\\n    _comscore.push({ c1: \"2\", c2: \"28268321\" });\\n    (function () {\\n      var s = document.createElement(\"script\"),\\n        el = document.getElementsByTagName(\"script\")[0];\\n      s.async = true;\\n      s.src = (document.location.protocol == \"https:\" ? \"https://sb\" : \"http://b\") + \".scorecardresearch.com/beacon.js\";\\n      el.parentNode.insertBefore(s, el);\\n    })();</script><noscript><img src=\"https://sb.scorecardresearch.com/p?c1=2&c2=28268321&cv=2.0&cj=1\"/></noscript></body></html>'"
      ]
     },
     "execution_count": 14,
     "metadata": {},
     "output_type": "execute_result"
    }
   ],
   "source": [
    "data = requests.get(url)\n",
    "data.content"
   ]
  },
  {
   "cell_type": "code",
   "execution_count": 15,
   "metadata": {},
   "outputs": [],
   "source": [
    "soup = BeautifulSoup(data.content, 'html.parser')"
   ]
  },
  {
   "cell_type": "code",
   "execution_count": 16,
   "metadata": {},
   "outputs": [],
   "source": [
    "headlines = soup.find_all('span', attrs={'itemprop': 'headline'})\n",
    "articles = soup.find_all('div', attrs={'itemprop': 'articleBody'})\n",
    "\n",
    "# Extract data into a list of dictionaries\n",
    "news_articles = [{'news_headline': headline.get_text(strip=True),\n",
    "                  'news_article': article.get_text(strip=True),\n",
    "                  'news_category': 'Technology'}  # You can specify the category as needed\n",
    "                 for headline, article in zip(headlines, articles)]"
   ]
  },
  {
   "cell_type": "code",
   "execution_count": 17,
   "metadata": {},
   "outputs": [
    {
     "data": {
      "text/plain": [
       "[{'news_headline': \"Australia drop to bottom of World Cup 2023 points table after Afghanistan's historic win\",\n",
       "  'news_article': 'Five-time champions Australia have dropped to the bottom of the ODI World Cup 2023 points table after Afghanistan registered a historic win against England in the tournament on Sunday. Afghanistan have jumped to the sixth position with two points and a net run-rate of -0.652. England are placed fifth, while hosts India are on top of the table.',\n",
       "  'news_category': 'Technology'},\n",
       " {'news_headline': 'Afghanistan outplayed England in every department: Irfan Pathan',\n",
       "  'news_article': 'Reacting to Afghanistan defeating England by 69 runs in ODI World Cup 2023, former India all-rounder Irfan Pathan tweeted, \"Bahot mubarak Apko Afghanistan (Congratulations to Afghanistan).\" \"You outplayed England in every department,\" he added. Irfan also praised their bowling performance, writing, \"Bowling has been top-notch from Afghans.\"',\n",
       "  'news_category': 'Technology'},\n",
       " {'news_headline': \"Hope you're ok Vaughan: Jaffer after Afghanistan defeat Eng in WC\",\n",
       "  'news_article': 'After Afghanistan defeated England in the ODI World Cup 2023, ex-India cricketer Wasim Jaffer wrote on X, \"Hope you\\'re okay, Michael Vaughan (former England captain).\" Reacting to his tweet, a user wrote, \"What a perfect match it was, @MichaelVaughan will be disappointed.\" Another user wrote, \"England will remember this for long time. Congrats Afghanistan.\"',\n",
       "  'news_category': 'Technology'},\n",
       " {'news_headline': \"Rajeev Shukla reacts to Afghanistan beating England in World Cup, says 'Is the news true?'\",\n",
       "  'news_article': 'BCCI Vice-President Rajeev Shukla took to X to react to Afghanistan defeating England in their ODI World Cup 2023 match in Delhi on Sunday. \"Have Afghanistan defeated England? Amazing! Is the news true? This is why cricket is fun,\" he wrote. Afghanistan recorded their first-ever win over England in international cricket history.',\n",
       "  'news_category': 'Technology'},\n",
       " {'news_headline': \"Kohli and Narine's lookalikes spotted watching England-Afghanistan match, pic viral\",\n",
       "  'news_article': 'Virat Kohli and Sunil Narine\\'s lookalikes were spotted watching the England-Afghanistan ODI World Cup 2023 match in Delhi, with a picture going viral on social media. Reacting to the picture, an X user wrote, \"Virat bhai rooting for Naveen Ul Haq, unreal growth in friendship.\" Another joked, \"They are parody accounts of Virat Kohli and Sunil Narine.\"',\n",
       "  'news_category': 'Technology'},\n",
       " {'news_headline': 'Afghanistan defeat defending champions England in World Cup, register historic win',\n",
       "  'news_article': \"Afghanistan defeated defending champions England by 69 runs to register their first victory in ODI World Cup 2023. This is the first time that Afghanistan have beaten England in international cricket history. Overall, it is Afghanistan's second victory in 18 matches in the history of ODI World Cup.\",\n",
       "  'news_category': 'Technology'},\n",
       " {'news_headline': \"If you can't win then at least compete: Ramiz on Pak's loss to Ind\",\n",
       "  'news_article': 'Ex-Pakistan Cricket Board (PCB) chief Ramiz Raja termed Pakistan\\'s defeat against India in the ICC World Cup 2023 as \"scarring\". \"They\\'ve been outpaced and outplayed in all the three departments...If you can\\'t win, then at least compete. Pakistan weren\\'t able to do that,\" he added. Ramiz also credited India for handling the pressure \"so well\".',\n",
       "  'news_category': 'Technology'},\n",
       " {'news_headline': 'Sam Curran shoves cameraman in anger after giving away 20 runs in an over, video viral',\n",
       "  'news_article': 'England all-rounder Sam Curran shoved cameraman in anger after giving away 20 runs in an over against Afghanistan in their ODI World Cup 2023 match on Sunday. A video of the same has gone viral. Curran was fielding in the deep following the 20-run over. The cameraman came close to Curran, who then pushed the equipment with his right hand.',\n",
       "  'news_category': 'Technology'},\n",
       " {'news_headline': \"Babar & Rizwan were timid, didn't take any chances: Hardik Pandya\",\n",
       "  'news_article': 'India all-rounder Hardik Pandya said that Pakistan batters Babar Azam and Muhammad Rizwan \"were timid\" while playing against them on Saturday in Ahmedabad. \"They didn\\'t take any chances, which is why we thought we were always in...game,\" he added. \"They didn\\'t try going for shots or attack us, which is why we were able to bowl dot balls,\" said Hardik.',\n",
       "  'news_category': 'Technology'},\n",
       " {'news_headline': \"I was abusing myself to bowl better: Hardik on 'whispering' to ball before dismissing Imam\",\n",
       "  'news_article': 'Team India all-rounder Hardik Pandya has revealed what he \\'whispered\\' to the ball before dismissing Pakistan\\'s Imam-ul-Haq in their ODI World Cup 2023 match. \"I basically hurled abuses at myself and told myself to bowl better length,\" Hardik stated. He added that he was motivating himself.',\n",
       "  'news_category': 'Technology'}]"
      ]
     },
     "execution_count": 17,
     "metadata": {},
     "output_type": "execute_result"
    }
   ],
   "source": [
    "news_data.extend(news_articles)\n",
    "news_data"
   ]
  },
  {
   "cell_type": "code",
   "execution_count": 18,
   "metadata": {},
   "outputs": [],
   "source": [
    "df = pd.DataFrame(news_data)"
   ]
  },
  {
   "cell_type": "code",
   "execution_count": 19,
   "metadata": {},
   "outputs": [],
   "source": [
    "df = df[['news_headline', 'news_article', 'news_category']]"
   ]
  },
  {
   "cell_type": "code",
   "execution_count": 20,
   "metadata": {},
   "outputs": [
    {
     "data": {
      "text/html": [
       "<div>\n",
       "<style scoped>\n",
       "    .dataframe tbody tr th:only-of-type {\n",
       "        vertical-align: middle;\n",
       "    }\n",
       "\n",
       "    .dataframe tbody tr th {\n",
       "        vertical-align: top;\n",
       "    }\n",
       "\n",
       "    .dataframe thead th {\n",
       "        text-align: right;\n",
       "    }\n",
       "</style>\n",
       "<table border=\"1\" class=\"dataframe\">\n",
       "  <thead>\n",
       "    <tr style=\"text-align: right;\">\n",
       "      <th></th>\n",
       "      <th>news_headline</th>\n",
       "      <th>news_article</th>\n",
       "      <th>news_category</th>\n",
       "    </tr>\n",
       "  </thead>\n",
       "  <tbody>\n",
       "    <tr>\n",
       "      <th>0</th>\n",
       "      <td>Australia drop to bottom of World Cup 2023 poi...</td>\n",
       "      <td>Five-time champions Australia have dropped to ...</td>\n",
       "      <td>Technology</td>\n",
       "    </tr>\n",
       "    <tr>\n",
       "      <th>1</th>\n",
       "      <td>Afghanistan outplayed England in every departm...</td>\n",
       "      <td>Reacting to Afghanistan defeating England by 6...</td>\n",
       "      <td>Technology</td>\n",
       "    </tr>\n",
       "    <tr>\n",
       "      <th>2</th>\n",
       "      <td>Hope you're ok Vaughan: Jaffer after Afghanist...</td>\n",
       "      <td>After Afghanistan defeated England in the ODI ...</td>\n",
       "      <td>Technology</td>\n",
       "    </tr>\n",
       "  </tbody>\n",
       "</table>\n",
       "</div>"
      ],
      "text/plain": [
       "                                       news_headline  \\\n",
       "0  Australia drop to bottom of World Cup 2023 poi...   \n",
       "1  Afghanistan outplayed England in every departm...   \n",
       "2  Hope you're ok Vaughan: Jaffer after Afghanist...   \n",
       "\n",
       "                                        news_article news_category  \n",
       "0  Five-time champions Australia have dropped to ...    Technology  \n",
       "1  Reacting to Afghanistan defeating England by 6...    Technology  \n",
       "2  After Afghanistan defeated England in the ODI ...    Technology  "
      ]
     },
     "execution_count": 20,
     "metadata": {},
     "output_type": "execute_result"
    }
   ],
   "source": [
    "df.head(3)"
   ]
  },
  {
   "cell_type": "markdown",
   "metadata": {},
   "source": [
    "# Prepare user defined function to extract data from inshorts.com"
   ]
  },
  {
   "cell_type": "code",
   "execution_count": 21,
   "metadata": {},
   "outputs": [],
   "source": [
    "urls_list = ['https://inshorts.com/en/read/technology',\n",
    "             'https://inshorts.com/en/read/sports',\n",
    "             'https://inshorts.com/en/read/world']"
   ]
  },
  {
   "cell_type": "code",
   "execution_count": 22,
   "metadata": {},
   "outputs": [],
   "source": [
    "def datasetPrepare(urls_list):\n",
    "    news_data = []\n",
    "    for url in urls_list:\n",
    "        news_category = url.split('/')[-1]\n",
    "        print(news_category)\n",
    "        data = requests.get(url)\n",
    "        soup = BeautifulSoup(data.content, 'html.parser')\n",
    "        headlines = soup.find_all('span', attrs={'itemprop': 'headline'})\n",
    "        articles = soup.find_all('div', attrs={'itemprop': 'articleBody'})\n",
    "\n",
    "# Extract data into a list of dictionaries\n",
    "        news_articles = [{'news_headline': headline.get_text(strip=True),\n",
    "                  'news_article': article.get_text(strip=True),\n",
    "                  'news_category': news_category}  # You can specify the category as needed\n",
    "                 for headline, article in zip(headlines, articles)]\n",
    "        news_data.extend(news_articles) \n",
    "        df =  pd.DataFrame(news_data)\n",
    "        df = df[['news_headline', 'news_article', 'news_category']]\n",
    "    return df    "
   ]
  },
  {
   "cell_type": "code",
   "execution_count": 23,
   "metadata": {},
   "outputs": [
    {
     "name": "stdout",
     "output_type": "stream",
     "text": [
      "technology\n",
      "sports\n",
      "world\n"
     ]
    }
   ],
   "source": [
    "news_df = datasetPrepare(urls_list)"
   ]
  },
  {
   "cell_type": "code",
   "execution_count": 24,
   "metadata": {},
   "outputs": [
    {
     "name": "stdout",
     "output_type": "stream",
     "text": [
      "<class 'pandas.core.frame.DataFrame'>\n",
      "RangeIndex: 30 entries, 0 to 29\n",
      "Data columns (total 3 columns):\n",
      " #   Column         Non-Null Count  Dtype \n",
      "---  ------         --------------  ----- \n",
      " 0   news_headline  30 non-null     object\n",
      " 1   news_article   30 non-null     object\n",
      " 2   news_category  30 non-null     object\n",
      "dtypes: object(3)\n",
      "memory usage: 848.0+ bytes\n"
     ]
    }
   ],
   "source": [
    "news_df.info()"
   ]
  },
  {
   "cell_type": "code",
   "execution_count": 25,
   "metadata": {},
   "outputs": [
    {
     "data": {
      "text/html": [
       "<div>\n",
       "<style scoped>\n",
       "    .dataframe tbody tr th:only-of-type {\n",
       "        vertical-align: middle;\n",
       "    }\n",
       "\n",
       "    .dataframe tbody tr th {\n",
       "        vertical-align: top;\n",
       "    }\n",
       "\n",
       "    .dataframe thead th {\n",
       "        text-align: right;\n",
       "    }\n",
       "</style>\n",
       "<table border=\"1\" class=\"dataframe\">\n",
       "  <thead>\n",
       "    <tr style=\"text-align: right;\">\n",
       "      <th></th>\n",
       "      <th>news_headline</th>\n",
       "      <th>news_article</th>\n",
       "      <th>news_category</th>\n",
       "    </tr>\n",
       "  </thead>\n",
       "  <tbody>\n",
       "    <tr>\n",
       "      <th>25</th>\n",
       "      <td>Dubai-Amritsar flight diverted to Karachi due ...</td>\n",
       "      <td>A Dubai-Amritsar Air India flight was diverted...</td>\n",
       "      <td>world</td>\n",
       "    </tr>\n",
       "    <tr>\n",
       "      <th>26</th>\n",
       "      <td>Canada PM Trudeau issues statement on Navratri...</td>\n",
       "      <td>Canada PM Justin Trudeau issued a statement sa...</td>\n",
       "      <td>world</td>\n",
       "    </tr>\n",
       "    <tr>\n",
       "      <th>27</th>\n",
       "      <td>Iranian minister meets Hamas head amid Israel ...</td>\n",
       "      <td>Iran's Foreign Minister Hossein Amirabdollahia...</td>\n",
       "      <td>world</td>\n",
       "    </tr>\n",
       "    <tr>\n",
       "      <th>28</th>\n",
       "      <td>Not interested in war with Hezbollah: Israel</td>\n",
       "      <td>Israel's defence minister Yoav Gallant on Sund...</td>\n",
       "      <td>world</td>\n",
       "    </tr>\n",
       "    <tr>\n",
       "      <th>29</th>\n",
       "      <td>Israelis have turned on water pipes in souther...</td>\n",
       "      <td>White House National Security Adviser Jake Sul...</td>\n",
       "      <td>world</td>\n",
       "    </tr>\n",
       "  </tbody>\n",
       "</table>\n",
       "</div>"
      ],
      "text/plain": [
       "                                        news_headline  \\\n",
       "25  Dubai-Amritsar flight diverted to Karachi due ...   \n",
       "26  Canada PM Trudeau issues statement on Navratri...   \n",
       "27  Iranian minister meets Hamas head amid Israel ...   \n",
       "28       Not interested in war with Hezbollah: Israel   \n",
       "29  Israelis have turned on water pipes in souther...   \n",
       "\n",
       "                                         news_article news_category  \n",
       "25  A Dubai-Amritsar Air India flight was diverted...         world  \n",
       "26  Canada PM Justin Trudeau issued a statement sa...         world  \n",
       "27  Iran's Foreign Minister Hossein Amirabdollahia...         world  \n",
       "28  Israel's defence minister Yoav Gallant on Sund...         world  \n",
       "29  White House National Security Adviser Jake Sul...         world  "
      ]
     },
     "execution_count": 25,
     "metadata": {},
     "output_type": "execute_result"
    }
   ],
   "source": [
    "news_df.tail(5)"
   ]
  },
  {
   "cell_type": "markdown",
   "metadata": {},
   "source": [
    "# Text Wrangling and Pre-processing"
   ]
  },
  {
   "cell_type": "code",
   "execution_count": 37,
   "metadata": {},
   "outputs": [],
   "source": [
    "import spacy\n",
    "import nltk\n",
    "from nltk.tokenize.toktok import ToktokTokenizer\n",
    "import re\n",
    "import unicodedata\n",
    "import os\n",
    "from nltk.corpus import stopwords\n",
    "from textstat import syllable_count\n",
    "from nltk.stem import WordNetLemmatizer"
   ]
  },
  {
   "cell_type": "code",
   "execution_count": 29,
   "metadata": {
    "scrolled": true
   },
   "outputs": [
    {
     "name": "stdout",
     "output_type": "stream",
     "text": [
      "Number of complex words: 1\n"
     ]
    }
   ],
   "source": [
    "\n",
    "# Sample text\n",
    "text = \"This is a sample text with some complex words in it like starving and infiltration.\"\n",
    "\n",
    "# Split the text into words\n",
    "words = text.split()\n",
    "\n",
    "# Calculate the number of complex words (words with more than 2 syllables)\n",
    "complex_word_count = sum(1 for word in words if syllable_count(word) > 2)\n",
    "\n",
    "print(\"Number of complex words:\", complex_word_count)\n"
   ]
  },
  {
   "cell_type": "code",
   "execution_count": 30,
   "metadata": {},
   "outputs": [],
   "source": [
    "tokenizer = ToktokTokenizer()\n",
    "stopword_list = nltk.corpus.stopwords.words('english')\n",
    "stopword_list.remove('no') \n",
    "stopword_list.remove('not')"
   ]
  },
  {
   "cell_type": "markdown",
   "metadata": {},
   "source": [
    "## Remove HTML tags"
   ]
  },
  {
   "cell_type": "code",
   "execution_count": 31,
   "metadata": {},
   "outputs": [
    {
     "data": {
      "text/plain": [
       "'Some important text'"
      ]
     },
     "execution_count": 31,
     "metadata": {},
     "output_type": "execute_result"
    }
   ],
   "source": [
    "def strip_html_tags(text):\n",
    "    soup = BeautifulSoup(text, \"html.parser\")\n",
    "    stripped_text = soup.get_text()\n",
    "    return stripped_text\n",
    "\n",
    "strip_html_tags('<html><h2>Some important text</h2></html>')"
   ]
  },
  {
   "cell_type": "markdown",
   "metadata": {},
   "source": [
    "## Remove accented characters"
   ]
  },
  {
   "cell_type": "code",
   "execution_count": 32,
   "metadata": {},
   "outputs": [
    {
     "data": {
      "text/plain": [
       "'Some Accented text'"
      ]
     },
     "execution_count": 32,
     "metadata": {},
     "output_type": "execute_result"
    }
   ],
   "source": [
    "def remove_accented_chars(text):\n",
    "    text = unicodedata.normalize('NFKD', text).encode('ascii', 'ignore').decode('utf-8', 'ignore')\n",
    "    return text\n",
    "\n",
    "remove_accented_chars('Sómě Áccěntěd těxt')"
   ]
  },
  {
   "cell_type": "markdown",
   "metadata": {},
   "source": [
    "## Remove special characters"
   ]
  },
  {
   "cell_type": "code",
   "execution_count": 33,
   "metadata": {},
   "outputs": [],
   "source": [
    "def remove_special_characters(text, remove_digits=False):\n",
    "    pattern = r'[^a-zA-z0-9\\s]' if not remove_digits else r'[^a-zA-z\\s]'\n",
    "    text = re.sub(pattern, '', text)\n",
    "    return text"
   ]
  },
  {
   "cell_type": "code",
   "execution_count": 34,
   "metadata": {},
   "outputs": [
    {
     "data": {
      "text/plain": [
       "'Well this was fun What do you think '"
      ]
     },
     "execution_count": 34,
     "metadata": {},
     "output_type": "execute_result"
    }
   ],
   "source": [
    "remove_special_characters(\"Well this was fun! What do you think? 123#@!\", remove_digits=True)"
   ]
  },
  {
   "cell_type": "markdown",
   "metadata": {},
   "source": [
    "## Text lemmatization"
   ]
  },
  {
   "cell_type": "code",
   "execution_count": 38,
   "metadata": {},
   "outputs": [],
   "source": [
    "def lemmatize_text(text):\n",
    "    # Tokenize the text into words\n",
    "    words = word_tokenize(text)\n",
    "\n",
    "    # Create a WordNet lemmatizer object\n",
    "    lemmatizer = WordNetLemmatizer()\n",
    "\n",
    "    # Perform lemmatization and join the results\n",
    "    lemmatized_words = [lemmatizer.lemmatize(word) for word in words]\n",
    "    lemmatized_text = ' '.join(lemmatized_words)\n",
    "\n",
    "    return lemmatized_text\n"
   ]
  },
  {
   "cell_type": "code",
   "execution_count": 39,
   "metadata": {},
   "outputs": [
    {
     "data": {
      "text/plain": [
       "'My system keep crashing ! his crashed yesterday , ours crash daily'"
      ]
     },
     "execution_count": 39,
     "metadata": {},
     "output_type": "execute_result"
    }
   ],
   "source": [
    "lemmatize_text(\"My system keeps crashing! his crashed yesterday, ours crashes daily\")"
   ]
  },
  {
   "cell_type": "markdown",
   "metadata": {},
   "source": [
    "## Text stemming"
   ]
  },
  {
   "cell_type": "code",
   "execution_count": 40,
   "metadata": {},
   "outputs": [
    {
     "data": {
      "text/plain": [
       "'my system keep crash hi crash yesterday, our crash daili'"
      ]
     },
     "execution_count": 40,
     "metadata": {},
     "output_type": "execute_result"
    }
   ],
   "source": [
    "def simple_stemmer(text):\n",
    "    ps = nltk.porter.PorterStemmer()\n",
    "    text = ' '.join([ps.stem(word) for word in text.split()])\n",
    "    return text\n",
    "\n",
    "simple_stemmer(\"My system keeps crashing his crashed yesterday, ours crashes daily\")"
   ]
  },
  {
   "cell_type": "markdown",
   "metadata": {},
   "source": [
    "## Remove stopwords"
   ]
  },
  {
   "cell_type": "code",
   "execution_count": 42,
   "metadata": {},
   "outputs": [
    {
     "data": {
      "text/plain": [
       "', , stopwords , computer not'"
      ]
     },
     "execution_count": 42,
     "metadata": {},
     "output_type": "execute_result"
    }
   ],
   "source": [
    "def remove_stopwords(text, is_lower_case=False):\n",
    "    tokens = tokenizer.tokenize(text)\n",
    "    tokens = [token.strip() for token in tokens]\n",
    "    if is_lower_case:\n",
    "        filtered_tokens = [token for token in tokens if token not in stopword_list]\n",
    "    else:\n",
    "        filtered_tokens = [token for token in tokens if token.lower() not in stopword_list]\n",
    "    filtered_text = ' '.join(filtered_tokens)    \n",
    "    return filtered_text\n",
    "\n",
    "remove_stopwords(\"The, and, if are stopwords, computer is not\")"
   ]
  },
  {
   "cell_type": "markdown",
   "metadata": {},
   "source": [
    "## Building a text normalizer"
   ]
  },
  {
   "cell_type": "code",
   "execution_count": 43,
   "metadata": {},
   "outputs": [],
   "source": [
    "def normalize_corpus(corpus, html_stripping=True, contraction_expansion=True,\n",
    "                     accented_char_removal=True, text_lower_case=True, \n",
    "                     text_lemmatization=True, special_char_removal=True, \n",
    "                     stopword_removal=True, remove_digits=True):\n",
    "    \n",
    "    normalized_corpus = []\n",
    "    # normalize each document in the corpus\n",
    "    for doc in corpus:\n",
    "        # strip HTML\n",
    "        if html_stripping:\n",
    "            doc = strip_html_tags(doc)\n",
    "        # remove accented characters\n",
    "        if accented_char_removal:\n",
    "            doc = remove_accented_chars(doc)\n",
    "        # lowercase the text    \n",
    "        if text_lower_case:\n",
    "            doc = doc.lower()\n",
    "        # remove extra newlines\n",
    "        doc = re.sub(r'[\\r|\\n|\\r\\n]+', ' ',doc)\n",
    "        # lemmatize text\n",
    "        if text_lemmatization:\n",
    "            doc = lemmatize_text(doc)\n",
    "        # remove special characters and\\or digits    \n",
    "        if special_char_removal:\n",
    "            # insert spaces between special characters to isolate them    \n",
    "            special_char_pattern = re.compile(r'([{.(-)!}])')\n",
    "            doc = special_char_pattern.sub(\" \\\\1 \", doc)\n",
    "            doc = remove_special_characters(doc, remove_digits=remove_digits)  \n",
    "        # remove extra whitespace\n",
    "        doc = re.sub(' +', ' ', doc)\n",
    "        # remove stopwords\n",
    "        if stopword_removal:\n",
    "            doc = remove_stopwords(doc, is_lower_case=text_lower_case)\n",
    "            \n",
    "        normalized_corpus.append(doc)\n",
    "        \n",
    "    return normalized_corpus"
   ]
  },
  {
   "cell_type": "markdown",
   "metadata": {},
   "source": [
    "## Pre-process and normalize news articles"
   ]
  },
  {
   "cell_type": "code",
   "execution_count": 44,
   "metadata": {},
   "outputs": [],
   "source": [
    "news_df['full_text'] = news_df[\"news_headline\"].map(str)+ '. ' + news_df[\"news_article\"]"
   ]
  },
  {
   "cell_type": "code",
   "execution_count": 45,
   "metadata": {},
   "outputs": [
    {
     "data": {
      "text/plain": [
       "{'full_text': 'TCS fires 16 employees for bribes-for-jobs scandal. Tata Consultancy Services (TCS) in an exchange filing on Sunday stated that its investigation found 19 employees to be involved in a bribes-for-jobs scandal and action has been taken against all. \"Sixteen employees have been separated from the company for code of conduct violations and three employees have been removed from the Resource Management function,\" TCS said.',\n",
       " 'clean_text': 'tc fire employee bribesforjobs scandal tata consultancy service tc exchange filing sunday stated investigation found employee involved bribesforjobs scandal action ha taken ` ` sixteen employee separated company code conduct violation three employee removed resource management function tc said'}"
      ]
     },
     "execution_count": 45,
     "metadata": {},
     "output_type": "execute_result"
    }
   ],
   "source": [
    "news_df['clean_text'] = normalize_corpus(news_df['full_text'])\n",
    "norm_corpus = list(news_df['clean_text'])\n",
    "news_df.iloc[1][['full_text', 'clean_text']].to_dict()"
   ]
  },
  {
   "cell_type": "markdown",
   "metadata": {},
   "source": [
    "# Save the news articles"
   ]
  },
  {
   "cell_type": "code",
   "execution_count": 46,
   "metadata": {},
   "outputs": [],
   "source": [
    "news_df.to_csv('news.csv', index=False, encoding='utf-8')"
   ]
  },
  {
   "cell_type": "markdown",
   "metadata": {},
   "source": [
    "# Tagging Parts of Speech"
   ]
  },
  {
   "cell_type": "code",
   "execution_count": 47,
   "metadata": {},
   "outputs": [],
   "source": [
    "from nltk.tokenize import punkt\n",
    "from nltk.tag import pos_tag"
   ]
  },
  {
   "cell_type": "code",
   "execution_count": 48,
   "metadata": {},
   "outputs": [],
   "source": [
    "news_df = pd.read_csv('news.csv')"
   ]
  },
  {
   "cell_type": "code",
   "execution_count": 49,
   "metadata": {},
   "outputs": [],
   "source": [
    "corpus = normalize_corpus(news_df['full_text'], text_lower_case=False, \n",
    "                          text_lemmatization=False, special_char_removal=False)\n",
    "\n",
    "sentence = str(news_df.iloc[1].news_headline)\n"
   ]
  },
  {
   "cell_type": "code",
   "execution_count": 54,
   "metadata": {},
   "outputs": [],
   "source": [
    "nltk_pos_tagged = nltk.pos_tag(sentence.split())"
   ]
  },
  {
   "cell_type": "code",
   "execution_count": 55,
   "metadata": {},
   "outputs": [
    {
     "data": {
      "text/html": [
       "<div>\n",
       "<style scoped>\n",
       "    .dataframe tbody tr th:only-of-type {\n",
       "        vertical-align: middle;\n",
       "    }\n",
       "\n",
       "    .dataframe tbody tr th {\n",
       "        vertical-align: top;\n",
       "    }\n",
       "\n",
       "    .dataframe thead th {\n",
       "        text-align: right;\n",
       "    }\n",
       "</style>\n",
       "<table border=\"1\" class=\"dataframe\">\n",
       "  <thead>\n",
       "    <tr style=\"text-align: right;\">\n",
       "      <th></th>\n",
       "      <th>Word</th>\n",
       "      <th>POS tag</th>\n",
       "    </tr>\n",
       "  </thead>\n",
       "  <tbody>\n",
       "    <tr>\n",
       "      <th>0</th>\n",
       "      <td>TCS</td>\n",
       "      <td>NNP</td>\n",
       "    </tr>\n",
       "    <tr>\n",
       "      <th>1</th>\n",
       "      <td>fires</td>\n",
       "      <td>VBZ</td>\n",
       "    </tr>\n",
       "    <tr>\n",
       "      <th>2</th>\n",
       "      <td>16</td>\n",
       "      <td>CD</td>\n",
       "    </tr>\n",
       "    <tr>\n",
       "      <th>3</th>\n",
       "      <td>employees</td>\n",
       "      <td>NNS</td>\n",
       "    </tr>\n",
       "    <tr>\n",
       "      <th>4</th>\n",
       "      <td>for</td>\n",
       "      <td>IN</td>\n",
       "    </tr>\n",
       "    <tr>\n",
       "      <th>5</th>\n",
       "      <td>bribes-for-jobs</td>\n",
       "      <td>NN</td>\n",
       "    </tr>\n",
       "    <tr>\n",
       "      <th>6</th>\n",
       "      <td>scandal</td>\n",
       "      <td>NN</td>\n",
       "    </tr>\n",
       "  </tbody>\n",
       "</table>\n",
       "</div>"
      ],
      "text/plain": [
       "              Word POS tag\n",
       "0              TCS     NNP\n",
       "1            fires     VBZ\n",
       "2               16      CD\n",
       "3        employees     NNS\n",
       "4              for      IN\n",
       "5  bribes-for-jobs      NN\n",
       "6          scandal      NN"
      ]
     },
     "execution_count": 55,
     "metadata": {},
     "output_type": "execute_result"
    }
   ],
   "source": [
    "pd.DataFrame(nltk_pos_tagged, columns=['Word', 'POS tag']) "
   ]
  },
  {
   "cell_type": "markdown",
   "metadata": {},
   "source": [
    "# Named Entity Recognition"
   ]
  },
  {
   "cell_type": "code",
   "execution_count": 56,
   "metadata": {},
   "outputs": [],
   "source": [
    "sentence = str(news_df.iloc[1].full_text)"
   ]
  },
  {
   "cell_type": "code",
   "execution_count": 66,
   "metadata": {},
   "outputs": [],
   "source": [
    "# import nltk\n",
    "# from nltk import word_tokenize, pos_tag, ne_chunk\n",
    "# import pandas as pd\n",
    "\n",
    "# # Tokenize the text\n",
    "# tokens = word_tokenize(sentence)\n",
    "\n",
    "# # Part-of-speech tagging\n",
    "# tags = pos_tag(tokens)\n",
    "\n",
    "# # Perform named entity recognition\n",
    "# tree = ne_chunk(tags)\n",
    "\n",
    "# # Extract named entities\n",
    "# named_entities = []\n",
    "# for subtree in tree:\n",
    "#     if type(subtree) == nltk.Tree:\n",
    "#         entity = \" \".join([word for word, tag in subtree])\n",
    "#         entity_type = subtree.label()\n",
    "#         named_entities.append((entity, entity_type))\n",
    "\n",
    "# # Create a DataFrame from the named entities\n",
    "# entity_frame = pd.DataFrame(named_entities, columns=['Entity Name', 'Entity Type'])\n",
    "\n",
    "# print(entity_frame)\n"
   ]
  },
  {
   "cell_type": "code",
   "execution_count": 67,
   "metadata": {},
   "outputs": [],
   "source": [
    "# top_entities = (entity_frame.groupby(by=['Entity Name', 'Entity Type'])\n",
    "#                            .size()\n",
    "#                            .sort_values(ascending=False)\n",
    "#                            .reset_index().rename(columns={0 : 'Frequency'}))\n",
    "# top_entities.T.iloc[:,:15]"
   ]
  },
  {
   "cell_type": "code",
   "execution_count": 68,
   "metadata": {},
   "outputs": [],
   "source": [
    "# top_entities = (entity_frame.groupby(by=['Entity Type'])\n",
    "#                            .size()\n",
    "#                            .sort_values(ascending=False)\n",
    "#                            .reset_index().rename(columns={0 : 'Frequency'}))\n",
    "# top_entities.T.iloc[:,:15]"
   ]
  },
  {
   "cell_type": "markdown",
   "metadata": {},
   "source": [
    "# Emotion and Sentiment Analysis"
   ]
  },
  {
   "cell_type": "code",
   "execution_count": 69,
   "metadata": {},
   "outputs": [],
   "source": [
    "from afinn import Afinn"
   ]
  },
  {
   "cell_type": "code",
   "execution_count": 70,
   "metadata": {},
   "outputs": [],
   "source": [
    "af = Afinn()"
   ]
  },
  {
   "cell_type": "code",
   "execution_count": 71,
   "metadata": {},
   "outputs": [],
   "source": [
    "sentiment_scores = [af.score(article) for article in corpus]"
   ]
  },
  {
   "cell_type": "code",
   "execution_count": 72,
   "metadata": {},
   "outputs": [],
   "source": [
    "sentiment_category = ['positive' if score > 0 \n",
    "                          else 'negative' if score < 0 \n",
    "                              else 'neutral' \n",
    "                                  for score in sentiment_scores]"
   ]
  },
  {
   "cell_type": "code",
   "execution_count": 73,
   "metadata": {},
   "outputs": [],
   "source": [
    "df = pd.DataFrame([list(news_df['news_category']), sentiment_scores, sentiment_category]).T"
   ]
  },
  {
   "cell_type": "code",
   "execution_count": 74,
   "metadata": {},
   "outputs": [],
   "source": [
    "df.columns = ['news_category', 'sentiment_score', 'sentiment_category']"
   ]
  },
  {
   "cell_type": "code",
   "execution_count": 75,
   "metadata": {},
   "outputs": [],
   "source": [
    "df['sentiment_score'] = df.sentiment_score.astype('float')"
   ]
  },
  {
   "cell_type": "code",
   "execution_count": 76,
   "metadata": {},
   "outputs": [
    {
     "data": {
      "text/html": [
       "<div>\n",
       "<style scoped>\n",
       "    .dataframe tbody tr th:only-of-type {\n",
       "        vertical-align: middle;\n",
       "    }\n",
       "\n",
       "    .dataframe tbody tr th {\n",
       "        vertical-align: top;\n",
       "    }\n",
       "\n",
       "    .dataframe thead tr th {\n",
       "        text-align: left;\n",
       "    }\n",
       "\n",
       "    .dataframe thead tr:last-of-type th {\n",
       "        text-align: right;\n",
       "    }\n",
       "</style>\n",
       "<table border=\"1\" class=\"dataframe\">\n",
       "  <thead>\n",
       "    <tr>\n",
       "      <th></th>\n",
       "      <th colspan=\"8\" halign=\"left\">sentiment_score</th>\n",
       "    </tr>\n",
       "    <tr>\n",
       "      <th></th>\n",
       "      <th>count</th>\n",
       "      <th>mean</th>\n",
       "      <th>std</th>\n",
       "      <th>min</th>\n",
       "      <th>25%</th>\n",
       "      <th>50%</th>\n",
       "      <th>75%</th>\n",
       "      <th>max</th>\n",
       "    </tr>\n",
       "    <tr>\n",
       "      <th>news_category</th>\n",
       "      <th></th>\n",
       "      <th></th>\n",
       "      <th></th>\n",
       "      <th></th>\n",
       "      <th></th>\n",
       "      <th></th>\n",
       "      <th></th>\n",
       "      <th></th>\n",
       "    </tr>\n",
       "  </thead>\n",
       "  <tbody>\n",
       "    <tr>\n",
       "      <th>sports</th>\n",
       "      <td>10.0</td>\n",
       "      <td>4.0</td>\n",
       "      <td>5.656854</td>\n",
       "      <td>-6.0</td>\n",
       "      <td>0.50</td>\n",
       "      <td>3.5</td>\n",
       "      <td>7.75</td>\n",
       "      <td>13.0</td>\n",
       "    </tr>\n",
       "    <tr>\n",
       "      <th>technology</th>\n",
       "      <td>10.0</td>\n",
       "      <td>-5.2</td>\n",
       "      <td>6.613118</td>\n",
       "      <td>-14.0</td>\n",
       "      <td>-9.50</td>\n",
       "      <td>-6.5</td>\n",
       "      <td>-0.75</td>\n",
       "      <td>5.0</td>\n",
       "    </tr>\n",
       "    <tr>\n",
       "      <th>world</th>\n",
       "      <td>10.0</td>\n",
       "      <td>-3.9</td>\n",
       "      <td>6.756889</td>\n",
       "      <td>-18.0</td>\n",
       "      <td>-7.25</td>\n",
       "      <td>-2.5</td>\n",
       "      <td>0.00</td>\n",
       "      <td>6.0</td>\n",
       "    </tr>\n",
       "  </tbody>\n",
       "</table>\n",
       "</div>"
      ],
      "text/plain": [
       "              sentiment_score                                            \n",
       "                        count mean       std   min   25%  50%   75%   max\n",
       "news_category                                                            \n",
       "sports                   10.0  4.0  5.656854  -6.0  0.50  3.5  7.75  13.0\n",
       "technology               10.0 -5.2  6.613118 -14.0 -9.50 -6.5 -0.75   5.0\n",
       "world                    10.0 -3.9  6.756889 -18.0 -7.25 -2.5  0.00   6.0"
      ]
     },
     "execution_count": 76,
     "metadata": {},
     "output_type": "execute_result"
    }
   ],
   "source": [
    "df.groupby(by=['news_category']).describe()"
   ]
  },
  {
   "cell_type": "code",
   "execution_count": 77,
   "metadata": {},
   "outputs": [
    {
     "data": {
      "image/png": "[encoded data removed]",
      "text/plain": [
       "<Figure size 1008x288 with 2 Axes>"
      ]
     },
     "metadata": {
      "needs_background": "light"
     },
     "output_type": "display_data"
    }
   ],
   "source": [
    "f, (ax1, ax2) = plt.subplots(1, 2, figsize=(14, 4))\n",
    "sp = sns.stripplot(x='news_category', y=\"sentiment_score\",  hue='news_category', data=df, ax=ax1)\n",
    "bp = sns.boxplot(x='news_category', y=\"sentiment_score\", hue='news_category', data=df, palette=\"Set2\", ax=ax2)\n",
    "t = f.suptitle('Visualizing News Sentiment', fontsize=14)"
   ]
  },
  {
   "cell_type": "code",
   "execution_count": 78,
   "metadata": {
    "scrolled": true
   },
   "outputs": [
    {
     "name": "stderr",
     "output_type": "stream",
     "text": [
      "C:\\Users\\shyam\\anaconda3\\lib\\site-packages\\seaborn\\categorical.py:3717: UserWarning: The `factorplot` function has been renamed to `catplot`. The original name will be removed in a future release. Please update your code. Note that the default `kind` in `factorplot` (`'point'`) has changed `'strip'` in `catplot`.\n",
      "  warnings.warn(msg)\n"
     ]
    },
    {
     "data": {
      "image/png": "[encoded data removed]",
      "text/plain": [
       "<Figure size 467.5x360 with 1 Axes>"
      ]
     },
     "metadata": {
      "needs_background": "light"
     },
     "output_type": "display_data"
    }
   ],
   "source": [
    "fc = sns.factorplot(x=\"news_category\", hue=\"sentiment_category\", \n",
    "                    data=df, kind=\"count\", \n",
    "                    palette={\"negative\": \"#FE2020\", \n",
    "                             \"positive\": \"#BADD07\", \n",
    "                             \"neutral\": \"#68BFF5\"})"
   ]
  },
  {
   "cell_type": "code",
   "execution_count": 82,
   "metadata": {},
   "outputs": [
    {
     "data": {
      "text/html": [
       "<div>\n",
       "<style scoped>\n",
       "    .dataframe tbody tr th:only-of-type {\n",
       "        vertical-align: middle;\n",
       "    }\n",
       "\n",
       "    .dataframe tbody tr th {\n",
       "        vertical-align: top;\n",
       "    }\n",
       "\n",
       "    .dataframe thead th {\n",
       "        text-align: right;\n",
       "    }\n",
       "</style>\n",
       "<table border=\"1\" class=\"dataframe\">\n",
       "  <thead>\n",
       "    <tr style=\"text-align: right;\">\n",
       "      <th></th>\n",
       "      <th>news_category</th>\n",
       "      <th>sentiment_score</th>\n",
       "      <th>sentiment_category</th>\n",
       "    </tr>\n",
       "  </thead>\n",
       "  <tbody>\n",
       "    <tr>\n",
       "      <th>0</th>\n",
       "      <td>technology</td>\n",
       "      <td>-3.0</td>\n",
       "      <td>negative</td>\n",
       "    </tr>\n",
       "    <tr>\n",
       "      <th>1</th>\n",
       "      <td>technology</td>\n",
       "      <td>-14.0</td>\n",
       "      <td>negative</td>\n",
       "    </tr>\n",
       "    <tr>\n",
       "      <th>2</th>\n",
       "      <td>technology</td>\n",
       "      <td>-13.0</td>\n",
       "      <td>negative</td>\n",
       "    </tr>\n",
       "    <tr>\n",
       "      <th>3</th>\n",
       "      <td>technology</td>\n",
       "      <td>4.0</td>\n",
       "      <td>positive</td>\n",
       "    </tr>\n",
       "    <tr>\n",
       "      <th>4</th>\n",
       "      <td>technology</td>\n",
       "      <td>0.0</td>\n",
       "      <td>neutral</td>\n",
       "    </tr>\n",
       "    <tr>\n",
       "      <th>5</th>\n",
       "      <td>technology</td>\n",
       "      <td>-7.0</td>\n",
       "      <td>negative</td>\n",
       "    </tr>\n",
       "    <tr>\n",
       "      <th>6</th>\n",
       "      <td>technology</td>\n",
       "      <td>5.0</td>\n",
       "      <td>positive</td>\n",
       "    </tr>\n",
       "    <tr>\n",
       "      <th>7</th>\n",
       "      <td>technology</td>\n",
       "      <td>-8.0</td>\n",
       "      <td>negative</td>\n",
       "    </tr>\n",
       "    <tr>\n",
       "      <th>8</th>\n",
       "      <td>technology</td>\n",
       "      <td>-10.0</td>\n",
       "      <td>negative</td>\n",
       "    </tr>\n",
       "    <tr>\n",
       "      <th>9</th>\n",
       "      <td>technology</td>\n",
       "      <td>-6.0</td>\n",
       "      <td>negative</td>\n",
       "    </tr>\n",
       "    <tr>\n",
       "      <th>10</th>\n",
       "      <td>sports</td>\n",
       "      <td>10.0</td>\n",
       "      <td>positive</td>\n",
       "    </tr>\n",
       "    <tr>\n",
       "      <th>11</th>\n",
       "      <td>sports</td>\n",
       "      <td>7.0</td>\n",
       "      <td>positive</td>\n",
       "    </tr>\n",
       "    <tr>\n",
       "      <th>12</th>\n",
       "      <td>sports</td>\n",
       "      <td>3.0</td>\n",
       "      <td>positive</td>\n",
       "    </tr>\n",
       "    <tr>\n",
       "      <th>13</th>\n",
       "      <td>sports</td>\n",
       "      <td>13.0</td>\n",
       "      <td>positive</td>\n",
       "    </tr>\n",
       "    <tr>\n",
       "      <th>14</th>\n",
       "      <td>sports</td>\n",
       "      <td>4.0</td>\n",
       "      <td>positive</td>\n",
       "    </tr>\n",
       "    <tr>\n",
       "      <th>15</th>\n",
       "      <td>sports</td>\n",
       "      <td>8.0</td>\n",
       "      <td>positive</td>\n",
       "    </tr>\n",
       "    <tr>\n",
       "      <th>16</th>\n",
       "      <td>sports</td>\n",
       "      <td>2.0</td>\n",
       "      <td>positive</td>\n",
       "    </tr>\n",
       "    <tr>\n",
       "      <th>17</th>\n",
       "      <td>sports</td>\n",
       "      <td>-6.0</td>\n",
       "      <td>negative</td>\n",
       "    </tr>\n",
       "    <tr>\n",
       "      <th>18</th>\n",
       "      <td>sports</td>\n",
       "      <td>-1.0</td>\n",
       "      <td>negative</td>\n",
       "    </tr>\n",
       "    <tr>\n",
       "      <th>19</th>\n",
       "      <td>sports</td>\n",
       "      <td>0.0</td>\n",
       "      <td>neutral</td>\n",
       "    </tr>\n",
       "    <tr>\n",
       "      <th>20</th>\n",
       "      <td>world</td>\n",
       "      <td>-8.0</td>\n",
       "      <td>negative</td>\n",
       "    </tr>\n",
       "    <tr>\n",
       "      <th>21</th>\n",
       "      <td>world</td>\n",
       "      <td>0.0</td>\n",
       "      <td>neutral</td>\n",
       "    </tr>\n",
       "    <tr>\n",
       "      <th>22</th>\n",
       "      <td>world</td>\n",
       "      <td>0.0</td>\n",
       "      <td>neutral</td>\n",
       "    </tr>\n",
       "    <tr>\n",
       "      <th>23</th>\n",
       "      <td>world</td>\n",
       "      <td>-18.0</td>\n",
       "      <td>negative</td>\n",
       "    </tr>\n",
       "    <tr>\n",
       "      <th>24</th>\n",
       "      <td>world</td>\n",
       "      <td>-2.0</td>\n",
       "      <td>negative</td>\n",
       "    </tr>\n",
       "    <tr>\n",
       "      <th>25</th>\n",
       "      <td>world</td>\n",
       "      <td>-3.0</td>\n",
       "      <td>negative</td>\n",
       "    </tr>\n",
       "    <tr>\n",
       "      <th>26</th>\n",
       "      <td>world</td>\n",
       "      <td>6.0</td>\n",
       "      <td>positive</td>\n",
       "    </tr>\n",
       "    <tr>\n",
       "      <th>27</th>\n",
       "      <td>world</td>\n",
       "      <td>-10.0</td>\n",
       "      <td>negative</td>\n",
       "    </tr>\n",
       "    <tr>\n",
       "      <th>28</th>\n",
       "      <td>world</td>\n",
       "      <td>1.0</td>\n",
       "      <td>positive</td>\n",
       "    </tr>\n",
       "    <tr>\n",
       "      <th>29</th>\n",
       "      <td>world</td>\n",
       "      <td>-5.0</td>\n",
       "      <td>negative</td>\n",
       "    </tr>\n",
       "  </tbody>\n",
       "</table>\n",
       "</div>"
      ],
      "text/plain": [
       "   news_category  sentiment_score sentiment_category\n",
       "0     technology             -3.0           negative\n",
       "1     technology            -14.0           negative\n",
       "2     technology            -13.0           negative\n",
       "3     technology              4.0           positive\n",
       "4     technology              0.0            neutral\n",
       "5     technology             -7.0           negative\n",
       "6     technology              5.0           positive\n",
       "7     technology             -8.0           negative\n",
       "8     technology            -10.0           negative\n",
       "9     technology             -6.0           negative\n",
       "10        sports             10.0           positive\n",
       "11        sports              7.0           positive\n",
       "12        sports              3.0           positive\n",
       "13        sports             13.0           positive\n",
       "14        sports              4.0           positive\n",
       "15        sports              8.0           positive\n",
       "16        sports              2.0           positive\n",
       "17        sports             -6.0           negative\n",
       "18        sports             -1.0           negative\n",
       "19        sports              0.0            neutral\n",
       "20         world             -8.0           negative\n",
       "21         world              0.0            neutral\n",
       "22         world              0.0            neutral\n",
       "23         world            -18.0           negative\n",
       "24         world             -2.0           negative\n",
       "25         world             -3.0           negative\n",
       "26         world              6.0           positive\n",
       "27         world            -10.0           negative\n",
       "28         world              1.0           positive\n",
       "29         world             -5.0           negative"
      ]
     },
     "execution_count": 82,
     "metadata": {},
     "output_type": "execute_result"
    }
   ],
   "source": [
    "df"
   ]
  },
  {
   "cell_type": "code",
   "execution_count": 84,
   "metadata": {},
   "outputs": [
    {
     "data": {
      "text/plain": [
       "array([ -8.,   0., -18.,  -2.,  -3.,   6., -10.,   1.,  -5.])"
      ]
     },
     "execution_count": 84,
     "metadata": {},
     "output_type": "execute_result"
    }
   ],
   "source": [
    "df1 = df[df.news_category=='world']\n",
    "pd.unique(df1.sentiment_score)"
   ]
  },
  {
   "cell_type": "code",
   "execution_count": null,
   "metadata": {
    "scrolled": true
   },
   "outputs": [],
   "source": []
  },
  {
   "cell_type": "code",
   "execution_count": 86,
   "metadata": {},
   "outputs": [],
   "source": [
    "from textblob import TextBlob"
   ]
  },
  {
   "cell_type": "code",
   "execution_count": 87,
   "metadata": {},
   "outputs": [],
   "source": [
    "sentiment_scores_tb = [round(TextBlob(article).sentiment.polarity, 3) for article in news_df['clean_text']]"
   ]
  },
  {
   "cell_type": "code",
   "execution_count": 88,
   "metadata": {},
   "outputs": [],
   "source": [
    "sentiment_category_tb = ['positive' if score > 0 \n",
    "                             else 'negative' if score < 0 \n",
    "                                 else 'neutral' \n",
    "                                     for score in sentiment_scores_tb]"
   ]
  },
  {
   "cell_type": "code",
   "execution_count": 89,
   "metadata": {},
   "outputs": [
    {
     "data": {
      "text/html": [
       "<div>\n",
       "<style scoped>\n",
       "    .dataframe tbody tr th:only-of-type {\n",
       "        vertical-align: middle;\n",
       "    }\n",
       "\n",
       "    .dataframe tbody tr th {\n",
       "        vertical-align: top;\n",
       "    }\n",
       "\n",
       "    .dataframe thead tr th {\n",
       "        text-align: left;\n",
       "    }\n",
       "\n",
       "    .dataframe thead tr:last-of-type th {\n",
       "        text-align: right;\n",
       "    }\n",
       "</style>\n",
       "<table border=\"1\" class=\"dataframe\">\n",
       "  <thead>\n",
       "    <tr>\n",
       "      <th></th>\n",
       "      <th colspan=\"8\" halign=\"left\">sentiment_score</th>\n",
       "    </tr>\n",
       "    <tr>\n",
       "      <th></th>\n",
       "      <th>count</th>\n",
       "      <th>mean</th>\n",
       "      <th>std</th>\n",
       "      <th>min</th>\n",
       "      <th>25%</th>\n",
       "      <th>50%</th>\n",
       "      <th>75%</th>\n",
       "      <th>max</th>\n",
       "    </tr>\n",
       "    <tr>\n",
       "      <th>news_category</th>\n",
       "      <th></th>\n",
       "      <th></th>\n",
       "      <th></th>\n",
       "      <th></th>\n",
       "      <th></th>\n",
       "      <th></th>\n",
       "      <th></th>\n",
       "      <th></th>\n",
       "    </tr>\n",
       "  </thead>\n",
       "  <tbody>\n",
       "    <tr>\n",
       "      <th>sports</th>\n",
       "      <td>10.0</td>\n",
       "      <td>0.1796</td>\n",
       "      <td>0.218035</td>\n",
       "      <td>-0.223</td>\n",
       "      <td>0.03725</td>\n",
       "      <td>0.1930</td>\n",
       "      <td>0.3375</td>\n",
       "      <td>0.500</td>\n",
       "    </tr>\n",
       "    <tr>\n",
       "      <th>technology</th>\n",
       "      <td>10.0</td>\n",
       "      <td>0.0124</td>\n",
       "      <td>0.122064</td>\n",
       "      <td>-0.217</td>\n",
       "      <td>-0.06175</td>\n",
       "      <td>0.0275</td>\n",
       "      <td>0.0905</td>\n",
       "      <td>0.181</td>\n",
       "    </tr>\n",
       "    <tr>\n",
       "      <th>world</th>\n",
       "      <td>10.0</td>\n",
       "      <td>0.0964</td>\n",
       "      <td>0.231718</td>\n",
       "      <td>-0.175</td>\n",
       "      <td>-0.04650</td>\n",
       "      <td>0.0415</td>\n",
       "      <td>0.1235</td>\n",
       "      <td>0.500</td>\n",
       "    </tr>\n",
       "  </tbody>\n",
       "</table>\n",
       "</div>"
      ],
      "text/plain": [
       "              sentiment_score                                            \\\n",
       "                        count    mean       std    min      25%     50%   \n",
       "news_category                                                             \n",
       "sports                   10.0  0.1796  0.218035 -0.223  0.03725  0.1930   \n",
       "technology               10.0  0.0124  0.122064 -0.217 -0.06175  0.0275   \n",
       "world                    10.0  0.0964  0.231718 -0.175 -0.04650  0.0415   \n",
       "\n",
       "                              \n",
       "                  75%    max  \n",
       "news_category                 \n",
       "sports         0.3375  0.500  \n",
       "technology     0.0905  0.181  \n",
       "world          0.1235  0.500  "
      ]
     },
     "execution_count": 89,
     "metadata": {},
     "output_type": "execute_result"
    }
   ],
   "source": [
    "df = pd.DataFrame([list(news_df['news_category']), sentiment_scores_tb, sentiment_category_tb]).T\n",
    "df.columns = ['news_category', 'sentiment_score', 'sentiment_category']\n",
    "df['sentiment_score'] = df.sentiment_score.astype('float')\n",
    "df.groupby(by=['news_category']).describe()"
   ]
  },
  {
   "cell_type": "code",
   "execution_count": 90,
   "metadata": {},
   "outputs": [
    {
     "data": {
      "text/html": [
       "<div>\n",
       "<style scoped>\n",
       "    .dataframe tbody tr th:only-of-type {\n",
       "        vertical-align: middle;\n",
       "    }\n",
       "\n",
       "    .dataframe tbody tr th {\n",
       "        vertical-align: top;\n",
       "    }\n",
       "\n",
       "    .dataframe thead th {\n",
       "        text-align: right;\n",
       "    }\n",
       "</style>\n",
       "<table border=\"1\" class=\"dataframe\">\n",
       "  <thead>\n",
       "    <tr style=\"text-align: right;\">\n",
       "      <th></th>\n",
       "      <th>news_category</th>\n",
       "      <th>sentiment_score</th>\n",
       "      <th>sentiment_category</th>\n",
       "    </tr>\n",
       "  </thead>\n",
       "  <tbody>\n",
       "    <tr>\n",
       "      <th>0</th>\n",
       "      <td>technology</td>\n",
       "      <td>0.008</td>\n",
       "      <td>positive</td>\n",
       "    </tr>\n",
       "    <tr>\n",
       "      <th>1</th>\n",
       "      <td>technology</td>\n",
       "      <td>0.100</td>\n",
       "      <td>positive</td>\n",
       "    </tr>\n",
       "    <tr>\n",
       "      <th>2</th>\n",
       "      <td>technology</td>\n",
       "      <td>0.181</td>\n",
       "      <td>positive</td>\n",
       "    </tr>\n",
       "    <tr>\n",
       "      <th>3</th>\n",
       "      <td>technology</td>\n",
       "      <td>0.143</td>\n",
       "      <td>positive</td>\n",
       "    </tr>\n",
       "    <tr>\n",
       "      <th>4</th>\n",
       "      <td>technology</td>\n",
       "      <td>-0.080</td>\n",
       "      <td>negative</td>\n",
       "    </tr>\n",
       "  </tbody>\n",
       "</table>\n",
       "</div>"
      ],
      "text/plain": [
       "  news_category  sentiment_score sentiment_category\n",
       "0    technology            0.008           positive\n",
       "1    technology            0.100           positive\n",
       "2    technology            0.181           positive\n",
       "3    technology            0.143           positive\n",
       "4    technology           -0.080           negative"
      ]
     },
     "execution_count": 90,
     "metadata": {},
     "output_type": "execute_result"
    }
   ],
   "source": [
    "df.head()"
   ]
  },
  {
   "cell_type": "code",
   "execution_count": 91,
   "metadata": {},
   "outputs": [
    {
     "name": "stderr",
     "output_type": "stream",
     "text": [
      "C:\\Users\\shyam\\anaconda3\\lib\\site-packages\\seaborn\\categorical.py:3717: UserWarning: The `factorplot` function has been renamed to `catplot`. The original name will be removed in a future release. Please update your code. Note that the default `kind` in `factorplot` (`'point'`) has changed `'strip'` in `catplot`.\n",
      "  warnings.warn(msg)\n"
     ]
    },
    {
     "data": {
      "image/png": "[encoded data removed]",
      "text/plain": [
       "<Figure size 467.5x360 with 1 Axes>"
      ]
     },
     "metadata": {
      "needs_background": "light"
     },
     "output_type": "display_data"
    }
   ],
   "source": [
    "fc = sns.factorplot(x=\"news_category\", hue=\"sentiment_category\", \n",
    "                    data=df, kind=\"count\", \n",
    "                    palette={\"negative\": \"#FE2020\", \n",
    "                             \"positive\": \"#BADD07\", \n",
    "                             \"neutral\": \"#68BFF5\"})"
   ]
  },
  {
   "cell_type": "code",
   "execution_count": 92,
   "metadata": {
    "scrolled": true
   },
   "outputs": [
    {
     "name": "stdout",
     "output_type": "stream",
     "text": [
      "Most Negative World News Article: An Israeli-American man named Yonatan Kedem Siman Tov, who was killed along with his wife Tamar and three young children, had texted his family before being killed by Hamas fighters during the recent attack. \"They're here. They're burning us. We're suffocating,\" Yonatan had texted his sister. Tamar had earlier reassured her friends that they were safe.\n",
      "\n",
      "Most Positive World News Article: Russia has asked United Nations Security Council (UNSC) to vote on a draft resolution on the Israel-Hamas conflict, seeking a ceasefire and condemning violence against civilians and all acts of terrorism. The one-page draft resolution also calls for the release of hostages, humanitarian aid access and the safe evacuation of civilians in need. The voting could take place on Monday.\n"
     ]
    }
   ],
   "source": [
    "pos_idx = df[(df.news_category=='world') & (df.sentiment_score > 0.)].index[0]\n",
    "neg_idx = df[(df.news_category=='world') & (df.sentiment_score < -0.)].index[0]\n",
    "\n",
    "print('Most Negative World News Article:', news_df.iloc[neg_idx][['news_article']][0])\n",
    "print()\n",
    "print('Most Positive World News Article:', news_df.iloc[pos_idx][['news_article']][0])"
   ]
  },
  {
   "cell_type": "code",
   "execution_count": 95,
   "metadata": {
    "scrolled": true
   },
   "outputs": [],
   "source": [
    "# import model_evaluation_utils as meu\n",
    "# meu.display_confusion_matrix_pretty(true_labels=sentiment_category, \n",
    "#                                     predicted_labels=sentiment_category_tb, \n",
    "#                                     classes=['negative', 'neutral', 'positive'])"
   ]
  }
 ],
 "metadata": {
  "anaconda-cloud": {},
  "kernelspec": {
   "display_name": "Python 3 (ipykernel)",
   "language": "python",
   "name": "python3"
  },
  "language_info": {
   "codemirror_mode": {
    "name": "ipython",
    "version": 3
   },
   "file_extension": ".py",
   "mimetype": "text/x-python",
   "name": "python",
   "nbconvert_exporter": "python",
   "pygments_lexer": "ipython3",
   "version": "3.9.12"
  }
 },
 "nbformat": 4,
 "nbformat_minor": 2
}
